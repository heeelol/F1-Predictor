{
 "cells": [
  {
   "cell_type": "markdown",
   "metadata": {},
   "source": [
    "## Introduction\n",
    "\n",
    "In this notebook, we find the most suitable model for predicting F1 race results and train it on past racing data.\n"
   ]
  },
  {
   "cell_type": "markdown",
   "metadata": {},
   "source": [
    "## Imports and setup"
   ]
  },
  {
   "cell_type": "code",
   "execution_count": 1,
   "metadata": {},
   "outputs": [],
   "source": [
    "import pandas as pd\n",
    "import numpy as np\n",
    "import matplotlib.pyplot as plt\n",
    "import seaborn as sns\n",
    "from sklearn.model_selection import train_test_split\n",
    "from sklearn.ensemble import RandomForestRegressor\n",
    "from sklearn.metrics import mean_absolute_error\n",
    "import joblib\n",
    "import fastf1\n",
    "import os"
   ]
  },
  {
   "cell_type": "markdown",
   "metadata": {},
   "source": [
    "## Loading Race Data\n",
    "\n",
    "Race data for years 2023 to 2025 are loaded into `notebooks\\data_cache`."
   ]
  },
  {
   "cell_type": "code",
   "execution_count": 2,
   "metadata": {},
   "outputs": [
    {
     "name": "stdout",
     "output_type": "stream",
     "text": [
      "Cache directory already exists: ./data_cache\n",
      "FastF1 caching enabled to './data_cache'\n",
      "\n",
      "FastF1 log level set to default (INFO) to show all messages.\n",
      "\n",
      "--- Starting data collection for seasons 2023 to 2025 ---\n",
      "\n",
      "Processing season: 2023\n",
      "  Attempting to get event schedule for 2023...\n"
     ]
    },
    {
     "name": "stderr",
     "output_type": "stream",
     "text": [
      "core           INFO \tLoading data for Bahrain Grand Prix - Race [v3.6.0]\n",
      "req            INFO \tUsing cached data for session_info\n",
      "req            INFO \tUsing cached data for driver_info\n"
     ]
    },
    {
     "name": "stdout",
     "output_type": "stream",
     "text": [
      "  Schedule loaded for 2023. Found 23 events.\n",
      "  Filtered for 'conventional'/'sprint' race events. Found 16 race weekends.\n",
      "  -> Attempting to load data for 2023 Round 1...\n",
      "    Loading 2023 Round 1 (Race)...\n"
     ]
    },
    {
     "name": "stderr",
     "output_type": "stream",
     "text": [
      "req            INFO \tUsing cached data for race_control_messages\n",
      "core           INFO \tFinished loading data for 20 drivers: ['1', '11', '14', '55', '44', '18', '63', '77', '10', '23', '22', '2', '20', '21', '27', '24', '4', '31', '16', '81']\n",
      "core           INFO \tLoading data for Bahrain Grand Prix - Qualifying [v3.6.0]\n",
      "req            INFO \tUsing cached data for session_info\n",
      "req            INFO \tUsing cached data for driver_info\n",
      "req            INFO \tUsing cached data for race_control_messages\n"
     ]
    },
    {
     "name": "stdout",
     "output_type": "stream",
     "text": [
      "    Loaded 20 race results entries for 2023 Round 1 (Race).\n",
      "    Loading 2023 Round 1 (Qualifying)...\n"
     ]
    },
    {
     "name": "stderr",
     "output_type": "stream",
     "text": [
      "core           INFO \tFinished loading data for 20 drivers: ['1', '11', '16', '55', '14', '63', '44', '18', '31', '27', '4', '77', '24', '22', '23', '2', '20', '81', '21', '10']\n",
      "core           INFO \tLoading data for Saudi Arabian Grand Prix - Race [v3.6.0]\n",
      "req            INFO \tUsing cached data for session_info\n",
      "req            INFO \tUsing cached data for driver_info\n"
     ]
    },
    {
     "name": "stdout",
     "output_type": "stream",
     "text": [
      "    Loaded 20 qualifying results entries for 2023 Round 1 (Qualifying).\n",
      "  -> Attempting to load data for 2023 Round 2...\n",
      "    Loading 2023 Round 2 (Race)...\n"
     ]
    },
    {
     "name": "stderr",
     "output_type": "stream",
     "text": [
      "req            INFO \tUsing cached data for race_control_messages\n",
      "core           INFO \tFinished loading data for 20 drivers: ['11', '1', '14', '63', '44', '55', '16', '31', '10', '20', '22', '27', '24', '21', '81', '2', '4', '77', '23', '18']\n",
      "core           INFO \tLoading data for Saudi Arabian Grand Prix - Qualifying [v3.6.0]\n",
      "req            INFO \tUsing cached data for session_info\n",
      "req            INFO \tUsing cached data for driver_info\n"
     ]
    },
    {
     "name": "stdout",
     "output_type": "stream",
     "text": [
      "    Loaded 20 race results entries for 2023 Round 2 (Race).\n",
      "    Loading 2023 Round 2 (Qualifying)...\n"
     ]
    },
    {
     "name": "stderr",
     "output_type": "stream",
     "text": [
      "req            INFO \tUsing cached data for race_control_messages\n",
      "core           INFO \tFinished loading data for 20 drivers: ['11', '16', '14', '63', '55', '18', '31', '44', '81', '10', '27', '24', '20', '77', '1', '22', '23', '21', '4', '2']\n",
      "core           INFO \tLoading data for Australian Grand Prix - Race [v3.6.0]\n",
      "req            INFO \tUsing cached data for session_info\n",
      "req            INFO \tUsing cached data for driver_info\n"
     ]
    },
    {
     "name": "stdout",
     "output_type": "stream",
     "text": [
      "    Loaded 20 qualifying results entries for 2023 Round 2 (Qualifying).\n",
      "  -> Attempting to load data for 2023 Round 3...\n",
      "    Loading 2023 Round 3 (Race)...\n"
     ]
    },
    {
     "name": "stderr",
     "output_type": "stream",
     "text": [
      "req            INFO \tUsing cached data for race_control_messages\n",
      "core           INFO \tFinished loading data for 20 drivers: ['1', '44', '14', '18', '11', '4', '27', '81', '24', '22', '77', '55', '10', '31', '21', '2', '20', '63', '23', '16']\n",
      "core           INFO \tLoading data for Australian Grand Prix - Qualifying [v3.6.0]\n",
      "req            INFO \tUsing cached data for session_info\n",
      "req            INFO \tUsing cached data for driver_info\n"
     ]
    },
    {
     "name": "stdout",
     "output_type": "stream",
     "text": [
      "    Loaded 20 race results entries for 2023 Round 3 (Race).\n",
      "    Loading 2023 Round 3 (Qualifying)...\n"
     ]
    },
    {
     "name": "stderr",
     "output_type": "stream",
     "text": [
      "req            INFO \tUsing cached data for race_control_messages\n",
      "core           INFO \tFinished loading data for 20 drivers: ['1', '63', '44', '14', '55', '18', '16', '23', '10', '27', '31', '22', '4', '20', '21', '81', '24', '2', '77', '11']\n",
      "core           INFO \tLoading data for Miami Grand Prix - Race [v3.6.0]\n",
      "req            INFO \tUsing cached data for session_info\n",
      "req            INFO \tUsing cached data for driver_info\n"
     ]
    },
    {
     "name": "stdout",
     "output_type": "stream",
     "text": [
      "    Loaded 20 qualifying results entries for 2023 Round 3 (Qualifying).\n",
      "  -> Attempting to load data for 2023 Round 5...\n",
      "    Loading 2023 Round 5 (Race)...\n"
     ]
    },
    {
     "name": "stderr",
     "output_type": "stream",
     "text": [
      "req            INFO \tUsing cached data for race_control_messages\n",
      "core           INFO \tFinished loading data for 20 drivers: ['1', '11', '14', '63', '55', '44', '16', '10', '31', '20', '22', '18', '77', '23', '27', '24', '4', '21', '81', '2']\n",
      "core           INFO \tLoading data for Miami Grand Prix - Qualifying [v3.6.0]\n",
      "req            INFO \tUsing cached data for session_info\n",
      "req            INFO \tUsing cached data for driver_info\n"
     ]
    },
    {
     "name": "stdout",
     "output_type": "stream",
     "text": [
      "    Loaded 20 race results entries for 2023 Round 5 (Race).\n",
      "    Loading 2023 Round 5 (Qualifying)...\n"
     ]
    },
    {
     "name": "stderr",
     "output_type": "stream",
     "text": [
      "req            INFO \tUsing cached data for race_control_messages\n",
      "core           INFO \tFinished loading data for 20 drivers: ['11', '14', '55', '20', '10', '63', '16', '31', '1', '77', '23', '27', '44', '24', '21', '4', '22', '18', '81', '2']\n",
      "core           INFO \tLoading data for Monaco Grand Prix - Race [v3.6.0]\n",
      "req            INFO \tUsing cached data for session_info\n",
      "req            INFO \tUsing cached data for driver_info\n"
     ]
    },
    {
     "name": "stdout",
     "output_type": "stream",
     "text": [
      "    Loaded 20 qualifying results entries for 2023 Round 5 (Qualifying).\n",
      "  -> Attempting to load data for 2023 Round 6...\n",
      "    Loading 2023 Round 6 (Race)...\n"
     ]
    },
    {
     "name": "stderr",
     "output_type": "stream",
     "text": [
      "req            INFO \tUsing cached data for race_control_messages\n",
      "core           INFO \tFinished loading data for 20 drivers: ['1', '14', '31', '44', '63', '16', '10', '55', '4', '81', '77', '21', '24', '23', '22', '11', '27', '2', '20', '18']\n",
      "core           INFO \tLoading data for Monaco Grand Prix - Qualifying [v3.6.0]\n",
      "req            INFO \tUsing cached data for session_info\n",
      "req            INFO \tUsing cached data for driver_info\n"
     ]
    },
    {
     "name": "stdout",
     "output_type": "stream",
     "text": [
      "    Loaded 20 race results entries for 2023 Round 6 (Race).\n",
      "    Loading 2023 Round 6 (Qualifying)...\n"
     ]
    },
    {
     "name": "stderr",
     "output_type": "stream",
     "text": [
      "req            INFO \tUsing cached data for race_control_messages\n",
      "core           INFO \tFinished loading data for 20 drivers: ['1', '14', '16', '31', '55', '44', '10', '63', '22', '4', '81', '21', '23', '18', '77', '2', '20', '27', '24', '11']\n",
      "core           INFO \tLoading data for Spanish Grand Prix - Race [v3.6.0]\n",
      "req            INFO \tUsing cached data for session_info\n",
      "req            INFO \tUsing cached data for driver_info\n"
     ]
    },
    {
     "name": "stdout",
     "output_type": "stream",
     "text": [
      "    Loaded 20 qualifying results entries for 2023 Round 6 (Qualifying).\n",
      "  -> Attempting to load data for 2023 Round 7...\n",
      "    Loading 2023 Round 7 (Race)...\n"
     ]
    },
    {
     "name": "stderr",
     "output_type": "stream",
     "text": [
      "req            INFO \tUsing cached data for race_control_messages\n",
      "core           INFO \tFinished loading data for 20 drivers: ['1', '44', '63', '11', '55', '18', '14', '31', '24', '10', '16', '22', '81', '21', '27', '23', '4', '20', '77', '2']\n",
      "core           INFO \tLoading data for Spanish Grand Prix - Qualifying [v3.6.0]\n",
      "req            INFO \tUsing cached data for session_info\n",
      "req            INFO \tUsing cached data for driver_info\n"
     ]
    },
    {
     "name": "stdout",
     "output_type": "stream",
     "text": [
      "    Loaded 20 race results entries for 2023 Round 7 (Race).\n",
      "    Loading 2023 Round 7 (Qualifying)...\n"
     ]
    },
    {
     "name": "stderr",
     "output_type": "stream",
     "text": [
      "req            INFO \tUsing cached data for race_control_messages\n",
      "core           INFO \tFinished loading data for 20 drivers: ['1', '55', '4', '10', '44', '18', '31', '27', '14', '81', '11', '63', '24', '21', '22', '77', '20', '23', '16', '2']\n",
      "core           INFO \tLoading data for Canadian Grand Prix - Race [v3.6.0]\n",
      "req            INFO \tUsing cached data for session_info\n",
      "req            INFO \tUsing cached data for driver_info\n"
     ]
    },
    {
     "name": "stdout",
     "output_type": "stream",
     "text": [
      "    Loaded 20 qualifying results entries for 2023 Round 7 (Qualifying).\n",
      "  -> Attempting to load data for 2023 Round 8...\n",
      "    Loading 2023 Round 8 (Race)...\n"
     ]
    },
    {
     "name": "stderr",
     "output_type": "stream",
     "text": [
      "req            INFO \tUsing cached data for race_control_messages\n",
      "core           INFO \tFinished loading data for 20 drivers: ['1', '14', '44', '16', '55', '11', '23', '31', '18', '77', '81', '10', '4', '22', '27', '24', '20', '21', '63', '2']\n",
      "core           INFO \tLoading data for Canadian Grand Prix - Qualifying [v3.6.0]\n",
      "req            INFO \tUsing cached data for session_info\n",
      "req            INFO \tUsing cached data for driver_info\n",
      "req            INFO \tUsing cached data for race_control_messages\n"
     ]
    },
    {
     "name": "stdout",
     "output_type": "stream",
     "text": [
      "    Loaded 20 race results entries for 2023 Round 8 (Race).\n",
      "    Loading 2023 Round 8 (Qualifying)...\n"
     ]
    },
    {
     "name": "stderr",
     "output_type": "stream",
     "text": [
      "core           INFO \tFinished loading data for 20 drivers: ['1', '27', '14', '44', '63', '31', '4', '55', '81', '23', '16', '11', '18', '20', '77', '22', '10', '21', '2', '24']\n",
      "core           INFO \tLoading data for British Grand Prix - Race [v3.6.0]\n",
      "req            INFO \tUsing cached data for session_info\n",
      "req            INFO \tUsing cached data for driver_info\n"
     ]
    },
    {
     "name": "stdout",
     "output_type": "stream",
     "text": [
      "    Loaded 20 qualifying results entries for 2023 Round 8 (Qualifying).\n",
      "  -> Attempting to load data for 2023 Round 10...\n",
      "    Loading 2023 Round 10 (Race)...\n"
     ]
    },
    {
     "name": "stderr",
     "output_type": "stream",
     "text": [
      "req            INFO \tUsing cached data for race_control_messages\n",
      "core           INFO \tFinished loading data for 20 drivers: ['1', '4', '44', '81', '63', '11', '14', '23', '16', '55', '2', '77', '27', '18', '24', '22', '21', '10', '20', '31']\n",
      "core           INFO \tLoading data for British Grand Prix - Qualifying [v3.6.0]\n",
      "req            INFO \tUsing cached data for session_info\n",
      "req            INFO \tUsing cached data for driver_info\n"
     ]
    },
    {
     "name": "stdout",
     "output_type": "stream",
     "text": [
      "    Loaded 20 race results entries for 2023 Round 10 (Race).\n",
      "    Loading 2023 Round 10 (Qualifying)...\n"
     ]
    },
    {
     "name": "stderr",
     "output_type": "stream",
     "text": [
      "req            INFO \tUsing cached data for race_control_messages\n",
      "core           INFO \tFinished loading data for 20 drivers: ['1', '4', '81', '16', '55', '63', '44', '23', '14', '10', '27', '18', '31', '2', '77', '11', '22', '24', '21', '20']\n",
      "core           INFO \tLoading data for Hungarian Grand Prix - Race [v3.6.0]\n",
      "req            INFO \tUsing cached data for session_info\n",
      "req            INFO \tUsing cached data for driver_info\n"
     ]
    },
    {
     "name": "stdout",
     "output_type": "stream",
     "text": [
      "    Loaded 20 qualifying results entries for 2023 Round 10 (Qualifying).\n",
      "  -> Attempting to load data for 2023 Round 11...\n",
      "    Loading 2023 Round 11 (Race)...\n"
     ]
    },
    {
     "name": "stderr",
     "output_type": "stream",
     "text": [
      "req            INFO \tUsing cached data for race_control_messages\n",
      "core           INFO \tFinished loading data for 20 drivers: ['1', '4', '11', '44', '81', '63', '16', '55', '14', '18', '23', '77', '3', '27', '22', '24', '20', '2', '31', '10']\n",
      "core           INFO \tLoading data for Hungarian Grand Prix - Qualifying [v3.6.0]\n",
      "req            INFO \tUsing cached data for session_info\n",
      "req            INFO \tUsing cached data for driver_info\n"
     ]
    },
    {
     "name": "stdout",
     "output_type": "stream",
     "text": [
      "    Loaded 20 race results entries for 2023 Round 11 (Race).\n",
      "    Loading 2023 Round 11 (Qualifying)...\n"
     ]
    },
    {
     "name": "stderr",
     "output_type": "stream",
     "text": [
      "req            INFO \tUsing cached data for race_control_messages\n",
      "core           INFO \tFinished loading data for 20 drivers: ['44', '1', '4', '81', '24', '16', '77', '14', '11', '27', '55', '31', '3', '18', '10', '23', '22', '63', '20', '2']\n",
      "core           INFO \tLoading data for Dutch Grand Prix - Race [v3.6.0]\n",
      "req            INFO \tUsing cached data for session_info\n",
      "req            INFO \tUsing cached data for driver_info\n"
     ]
    },
    {
     "name": "stdout",
     "output_type": "stream",
     "text": [
      "    Loaded 20 qualifying results entries for 2023 Round 11 (Qualifying).\n",
      "  -> Attempting to load data for 2023 Round 13...\n",
      "    Loading 2023 Round 13 (Race)...\n"
     ]
    },
    {
     "name": "stderr",
     "output_type": "stream",
     "text": [
      "req            INFO \tUsing cached data for race_control_messages\n",
      "core           INFO \tFinished loading data for 20 drivers: ['1', '14', '10', '11', '55', '44', '4', '23', '81', '31', '18', '27', '40', '77', '22', '20', '63', '24', '16', '2']\n",
      "core           INFO \tLoading data for Dutch Grand Prix - Qualifying [v3.6.0]\n",
      "req            INFO \tUsing cached data for session_info\n",
      "req            INFO \tUsing cached data for driver_info\n"
     ]
    },
    {
     "name": "stdout",
     "output_type": "stream",
     "text": [
      "    Loaded 20 race results entries for 2023 Round 13 (Race).\n",
      "    Loading 2023 Round 13 (Qualifying)...\n"
     ]
    },
    {
     "name": "stderr",
     "output_type": "stream",
     "text": [
      "req            INFO \tUsing cached data for race_control_messages\n",
      "core           INFO \tFinished loading data for 20 drivers: ['1', '4', '63', '23', '14', '55', '11', '81', '16', '2', '18', '10', '44', '22', '27', '24', '31', '20', '77', '40']\n",
      "core           INFO \tLoading data for Italian Grand Prix - Race [v3.6.0]\n",
      "req            INFO \tUsing cached data for session_info\n",
      "req            INFO \tUsing cached data for driver_info\n"
     ]
    },
    {
     "name": "stdout",
     "output_type": "stream",
     "text": [
      "    Loaded 20 qualifying results entries for 2023 Round 13 (Qualifying).\n",
      "  -> Attempting to load data for 2023 Round 14...\n",
      "    Loading 2023 Round 14 (Race)...\n"
     ]
    },
    {
     "name": "stderr",
     "output_type": "stream",
     "text": [
      "req            INFO \tUsing cached data for race_control_messages\n",
      "core           INFO \tFinished loading data for 20 drivers: ['1', '11', '55', '16', '63', '44', '23', '4', '14', '77', '40', '81', '2', '24', '10', '18', '27', '20', '31', '22']\n",
      "core           INFO \tLoading data for Italian Grand Prix - Qualifying [v3.6.0]\n",
      "req            INFO \tUsing cached data for session_info\n",
      "req            INFO \tUsing cached data for driver_info\n"
     ]
    },
    {
     "name": "stdout",
     "output_type": "stream",
     "text": [
      "    Loaded 20 race results entries for 2023 Round 14 (Race).\n",
      "    Loading 2023 Round 14 (Qualifying)...\n"
     ]
    },
    {
     "name": "stderr",
     "output_type": "stream",
     "text": [
      "req            INFO \tUsing cached data for race_control_messages\n",
      "core           INFO \tFinished loading data for 20 drivers: ['55', '1', '16', '63', '11', '23', '81', '44', '4', '14', '22', '40', '27', '77', '2', '24', '10', '31', '20', '18']\n",
      "core           INFO \tLoading data for Singapore Grand Prix - Race [v3.6.0]\n",
      "req            INFO \tUsing cached data for session_info\n",
      "req            INFO \tUsing cached data for driver_info\n"
     ]
    },
    {
     "name": "stdout",
     "output_type": "stream",
     "text": [
      "    Loaded 20 qualifying results entries for 2023 Round 14 (Qualifying).\n",
      "  -> Attempting to load data for 2023 Round 15...\n",
      "    Loading 2023 Round 15 (Race)...\n"
     ]
    },
    {
     "name": "stderr",
     "output_type": "stream",
     "text": [
      "req            INFO \tUsing cached data for race_control_messages\n",
      "core           INFO \tFinished loading data for 20 drivers: ['55', '4', '44', '16', '1', '10', '81', '11', '40', '20', '23', '24', '27', '2', '14', '63', '77', '31', '22', '18']\n",
      "core           INFO \tLoading data for Singapore Grand Prix - Qualifying [v3.6.0]\n",
      "req            INFO \tUsing cached data for session_info\n",
      "req            INFO \tUsing cached data for driver_info\n"
     ]
    },
    {
     "name": "stdout",
     "output_type": "stream",
     "text": [
      "    Loaded 20 race results entries for 2023 Round 15 (Race).\n",
      "    Loading 2023 Round 15 (Qualifying)...\n"
     ]
    },
    {
     "name": "stderr",
     "output_type": "stream",
     "text": [
      "req            INFO \tUsing cached data for race_control_messages\n",
      "core           INFO \tFinished loading data for 20 drivers: ['55', '63', '16', '4', '44', '20', '14', '31', '27', '40', '1', '10', '11', '23', '22', '77', '81', '2', '24', '18']\n",
      "core           INFO \tLoading data for Japanese Grand Prix - Race [v3.6.0]\n",
      "req            INFO \tUsing cached data for session_info\n",
      "req            INFO \tUsing cached data for driver_info\n"
     ]
    },
    {
     "name": "stdout",
     "output_type": "stream",
     "text": [
      "    Loaded 20 qualifying results entries for 2023 Round 15 (Qualifying).\n",
      "  -> Attempting to load data for 2023 Round 16...\n",
      "    Loading 2023 Round 16 (Race)...\n"
     ]
    },
    {
     "name": "stderr",
     "output_type": "stream",
     "text": [
      "req            INFO \tUsing cached data for race_control_messages\n",
      "core           INFO \tFinished loading data for 20 drivers: ['1', '4', '81', '16', '44', '55', '63', '14', '31', '10', '40', '22', '24', '27', '20', '23', '2', '18', '11', '77']\n",
      "core           INFO \tLoading data for Japanese Grand Prix - Qualifying [v3.6.0]\n",
      "req            INFO \tUsing cached data for session_info\n",
      "req            INFO \tUsing cached data for driver_info\n"
     ]
    },
    {
     "name": "stdout",
     "output_type": "stream",
     "text": [
      "    Loaded 20 race results entries for 2023 Round 16 (Race).\n",
      "    Loading 2023 Round 16 (Qualifying)...\n"
     ]
    },
    {
     "name": "stderr",
     "output_type": "stream",
     "text": [
      "req            INFO \tUsing cached data for race_control_messages\n",
      "core           INFO \tFinished loading data for 20 drivers: ['1', '81', '4', '16', '11', '55', '44', '63', '22', '14', '40', '10', '23', '31', '20', '77', '18', '27', '24', '2']\n",
      "core           INFO \tLoading data for Mexico City Grand Prix - Race [v3.6.0]\n",
      "req            INFO \tUsing cached data for session_info\n",
      "req            INFO \tUsing cached data for driver_info\n"
     ]
    },
    {
     "name": "stdout",
     "output_type": "stream",
     "text": [
      "    Loaded 20 qualifying results entries for 2023 Round 16 (Qualifying).\n",
      "  -> Attempting to load data for 2023 Round 19...\n",
      "    Loading 2023 Round 19 (Race)...\n"
     ]
    },
    {
     "name": "stderr",
     "output_type": "stream",
     "text": [
      "req            INFO \tUsing cached data for race_control_messages\n",
      "core           INFO \tFinished loading data for 20 drivers: ['1', '44', '16', '55', '4', '63', '3', '81', '23', '31', '10', '22', '27', '24', '77', '2', '18', '14', '20', '11']\n",
      "core           INFO \tLoading data for Mexico City Grand Prix - Qualifying [v3.6.0]\n",
      "req            INFO \tUsing cached data for session_info\n",
      "req            INFO \tUsing cached data for driver_info\n"
     ]
    },
    {
     "name": "stdout",
     "output_type": "stream",
     "text": [
      "    Loaded 20 race results entries for 2023 Round 19 (Race).\n",
      "    Loading 2023 Round 19 (Qualifying)...\n"
     ]
    },
    {
     "name": "stderr",
     "output_type": "stream",
     "text": [
      "req            INFO \tUsing cached data for race_control_messages\n",
      "core           INFO \tFinished loading data for 20 drivers: ['16', '55', '1', '3', '11', '44', '81', '63', '77', '24', '10', '27', '14', '23', '22', '31', '20', '18', '4', '2']\n",
      "core           INFO \tLoading data for Las Vegas Grand Prix - Race [v3.6.0]\n",
      "req            INFO \tUsing cached data for session_info\n",
      "req            INFO \tUsing cached data for driver_info\n"
     ]
    },
    {
     "name": "stdout",
     "output_type": "stream",
     "text": [
      "    Loaded 20 qualifying results entries for 2023 Round 19 (Qualifying).\n",
      "  -> Attempting to load data for 2023 Round 21...\n",
      "    Loading 2023 Round 21 (Race)...\n"
     ]
    },
    {
     "name": "stderr",
     "output_type": "stream",
     "text": [
      "req            INFO \tUsing cached data for race_control_messages\n",
      "core           INFO \tFinished loading data for 20 drivers: ['1', '16', '11', '31', '18', '55', '44', '63', '14', '81', '10', '23', '20', '3', '24', '2', '77', '22', '27', '4']\n",
      "core           INFO \tLoading data for Las Vegas Grand Prix - Qualifying [v3.6.0]\n",
      "req            INFO \tUsing cached data for session_info\n",
      "req            INFO \tUsing cached data for driver_info\n"
     ]
    },
    {
     "name": "stdout",
     "output_type": "stream",
     "text": [
      "    Loaded 20 race results entries for 2023 Round 21 (Race).\n",
      "    Loading 2023 Round 21 (Qualifying)...\n"
     ]
    },
    {
     "name": "stderr",
     "output_type": "stream",
     "text": [
      "req            INFO \tUsing cached data for race_control_messages\n",
      "core           INFO \tFinished loading data for 20 drivers: ['16', '55', '1', '63', '10', '23', '2', '77', '20', '14', '44', '11', '27', '18', '3', '4', '31', '24', '81', '22']\n",
      "core           INFO \tLoading data for Abu Dhabi Grand Prix - Race [v3.6.0]\n",
      "req            INFO \tUsing cached data for session_info\n",
      "req            INFO \tUsing cached data for driver_info\n"
     ]
    },
    {
     "name": "stdout",
     "output_type": "stream",
     "text": [
      "    Loaded 20 qualifying results entries for 2023 Round 21 (Qualifying).\n",
      "  -> Attempting to load data for 2023 Round 22...\n",
      "    Loading 2023 Round 22 (Race)...\n"
     ]
    },
    {
     "name": "stderr",
     "output_type": "stream",
     "text": [
      "req            INFO \tUsing cached data for race_control_messages\n",
      "core           INFO \tFinished loading data for 20 drivers: ['1', '16', '63', '11', '4', '81', '14', '22', '44', '18', '3', '31', '10', '23', '27', '2', '24', '55', '77', '20']\n",
      "core           INFO \tLoading data for Abu Dhabi Grand Prix - Qualifying [v3.6.0]\n",
      "req            INFO \tUsing cached data for session_info\n",
      "req            INFO \tUsing cached data for driver_info\n"
     ]
    },
    {
     "name": "stdout",
     "output_type": "stream",
     "text": [
      "    Loaded 20 race results entries for 2023 Round 22 (Race).\n",
      "    Loading 2023 Round 22 (Qualifying)...\n"
     ]
    },
    {
     "name": "stderr",
     "output_type": "stream",
     "text": [
      "req            INFO \tUsing cached data for race_control_messages\n",
      "core           INFO \tFinished loading data for 20 drivers: ['1', '16', '81', '63', '4', '22', '14', '27', '11', '10', '44', '31', '18', '23', '3', '55', '20', '77', '24', '2']\n"
     ]
    },
    {
     "name": "stdout",
     "output_type": "stream",
     "text": [
      "    Loaded 20 qualifying results entries for 2023 Round 22 (Qualifying).\n",
      "\n",
      "Processing season: 2024\n",
      "  Attempting to get event schedule for 2024...\n"
     ]
    },
    {
     "name": "stderr",
     "output_type": "stream",
     "text": [
      "core           INFO \tLoading data for Bahrain Grand Prix - Race [v3.6.0]\n",
      "req            INFO \tUsing cached data for session_info\n",
      "req            INFO \tUsing cached data for driver_info\n"
     ]
    },
    {
     "name": "stdout",
     "output_type": "stream",
     "text": [
      "  Schedule loaded for 2024. Found 25 events.\n",
      "  Filtered for 'conventional'/'sprint' race events. Found 18 race weekends.\n",
      "  -> Attempting to load data for 2024 Round 1...\n",
      "    Loading 2024 Round 1 (Race)...\n"
     ]
    },
    {
     "name": "stderr",
     "output_type": "stream",
     "text": [
      "req            INFO \tUsing cached data for race_control_messages\n",
      "core           INFO \tFinished loading data for 20 drivers: ['1', '11', '55', '16', '63', '4', '44', '81', '14', '18', '24', '20', '3', '22', '23', '27', '31', '10', '77', '2']\n",
      "core           INFO \tLoading data for Bahrain Grand Prix - Qualifying [v3.6.0]\n",
      "req            INFO \tUsing cached data for session_info\n",
      "req            INFO \tUsing cached data for driver_info\n"
     ]
    },
    {
     "name": "stdout",
     "output_type": "stream",
     "text": [
      "    Loaded 20 race results entries for 2024 Round 1 (Race).\n",
      "    Loading 2024 Round 1 (Qualifying)...\n"
     ]
    },
    {
     "name": "stderr",
     "output_type": "stream",
     "text": [
      "req            INFO \tUsing cached data for race_control_messages\n",
      "core           INFO \tFinished loading data for 20 drivers: ['1', '16', '63', '55', '11', '14', '4', '81', '44', '27', '22', '18', '23', '3', '20', '77', '24', '2', '31', '10']\n",
      "core           INFO \tLoading data for Saudi Arabian Grand Prix - Race [v3.6.0]\n",
      "req            INFO \tUsing cached data for session_info\n",
      "req            INFO \tUsing cached data for driver_info\n"
     ]
    },
    {
     "name": "stdout",
     "output_type": "stream",
     "text": [
      "    Loaded 20 qualifying results entries for 2024 Round 1 (Qualifying).\n",
      "  -> Attempting to load data for 2024 Round 2...\n",
      "    Loading 2024 Round 2 (Race)...\n"
     ]
    },
    {
     "name": "stderr",
     "output_type": "stream",
     "text": [
      "req            INFO \tUsing cached data for race_control_messages\n",
      "core           INFO \tFinished loading data for 20 drivers: ['1', '11', '16', '81', '14', '63', '38', '4', '44', '27', '23', '20', '31', '2', '22', '3', '77', '24', '18', '10']\n",
      "core           INFO \tLoading data for Saudi Arabian Grand Prix - Qualifying [v3.6.0]\n",
      "req            INFO \tUsing cached data for session_info\n",
      "req            INFO \tUsing cached data for driver_info\n"
     ]
    },
    {
     "name": "stdout",
     "output_type": "stream",
     "text": [
      "    Loaded 20 race results entries for 2024 Round 2 (Race).\n",
      "    Loading 2024 Round 2 (Qualifying)...\n"
     ]
    },
    {
     "name": "stderr",
     "output_type": "stream",
     "text": [
      "req            INFO \tUsing cached data for race_control_messages\n",
      "core           INFO \tFinished loading data for 20 drivers: ['1', '16', '11', '14', '81', '4', '63', '44', '22', '18', '38', '23', '20', '3', '27', '77', '31', '10', '2', '24']\n",
      "core           INFO \tLoading data for Australian Grand Prix - Race [v3.6.0]\n",
      "req            INFO \tUsing cached data for session_info\n",
      "req            INFO \tUsing cached data for driver_info\n"
     ]
    },
    {
     "name": "stdout",
     "output_type": "stream",
     "text": [
      "    Loaded 20 qualifying results entries for 2024 Round 2 (Qualifying).\n",
      "  -> Attempting to load data for 2024 Round 3...\n",
      "    Loading 2024 Round 3 (Race)...\n"
     ]
    },
    {
     "name": "stderr",
     "output_type": "stream",
     "text": [
      "req            INFO \tUsing cached data for race_control_messages\n",
      "core           INFO \tFinished loading data for 19 drivers: ['55', '16', '4', '81', '11', '18', '22', '14', '27', '20', '23', '3', '10', '77', '24', '31', '63', '44', '1']\n",
      "core           INFO \tLoading data for Australian Grand Prix - Qualifying [v3.6.0]\n",
      "req            INFO \tUsing cached data for session_info\n",
      "req            INFO \tUsing cached data for driver_info\n"
     ]
    },
    {
     "name": "stdout",
     "output_type": "stream",
     "text": [
      "    Loaded 19 race results entries for 2024 Round 3 (Race).\n",
      "    Loading 2024 Round 3 (Qualifying)...\n"
     ]
    },
    {
     "name": "stderr",
     "output_type": "stream",
     "text": [
      "req            INFO \tUsing cached data for race_control_messages\n",
      "core           INFO \tFinished loading data for 19 drivers: ['1', '55', '11', '4', '16', '81', '63', '22', '18', '14', '44', '23', '77', '20', '31', '27', '10', '3', '24']\n",
      "core           INFO \tLoading data for Japanese Grand Prix - Race [v3.6.0]\n",
      "req            INFO \tUsing cached data for session_info\n",
      "req            INFO \tUsing cached data for driver_info\n"
     ]
    },
    {
     "name": "stdout",
     "output_type": "stream",
     "text": [
      "    Loaded 19 qualifying results entries for 2024 Round 3 (Qualifying).\n",
      "  -> Attempting to load data for 2024 Round 4...\n",
      "    Loading 2024 Round 4 (Race)...\n"
     ]
    },
    {
     "name": "stderr",
     "output_type": "stream",
     "text": [
      "req            INFO \tUsing cached data for race_control_messages\n",
      "core           INFO \tFinished loading data for 20 drivers: ['1', '11', '55', '16', '4', '14', '63', '81', '44', '22', '27', '18', '20', '77', '31', '10', '2', '24', '3', '23']\n",
      "core           INFO \tLoading data for Japanese Grand Prix - Qualifying [v3.6.0]\n",
      "req            INFO \tUsing cached data for session_info\n",
      "req            INFO \tUsing cached data for driver_info\n"
     ]
    },
    {
     "name": "stdout",
     "output_type": "stream",
     "text": [
      "    Loaded 20 race results entries for 2024 Round 4 (Race).\n",
      "    Loading 2024 Round 4 (Qualifying)...\n"
     ]
    },
    {
     "name": "stderr",
     "output_type": "stream",
     "text": [
      "req            INFO \tUsing cached data for race_control_messages\n",
      "core           INFO \tFinished loading data for 20 drivers: ['1', '11', '4', '55', '14', '81', '44', '16', '63', '22', '3', '27', '77', '23', '31', '18', '10', '20', '2', '24']\n",
      "core           INFO \tLoading data for Emilia Romagna Grand Prix - Race [v3.6.0]\n",
      "req            INFO \tUsing cached data for session_info\n",
      "req            INFO \tUsing cached data for driver_info\n"
     ]
    },
    {
     "name": "stdout",
     "output_type": "stream",
     "text": [
      "    Loaded 20 qualifying results entries for 2024 Round 4 (Qualifying).\n",
      "  -> Attempting to load data for 2024 Round 7...\n",
      "    Loading 2024 Round 7 (Race)...\n"
     ]
    },
    {
     "name": "stderr",
     "output_type": "stream",
     "text": [
      "req            INFO \tUsing cached data for race_control_messages\n",
      "core           INFO \tFinished loading data for 20 drivers: ['1', '4', '16', '81', '55', '44', '63', '11', '18', '22', '27', '20', '3', '31', '24', '10', '2', '77', '14', '23']\n",
      "core           INFO \tLoading data for Emilia Romagna Grand Prix - Qualifying [v3.6.0]\n",
      "req            INFO \tUsing cached data for session_info\n",
      "req            INFO \tUsing cached data for driver_info\n"
     ]
    },
    {
     "name": "stdout",
     "output_type": "stream",
     "text": [
      "    Loaded 20 race results entries for 2024 Round 7 (Race).\n",
      "    Loading 2024 Round 7 (Qualifying)...\n"
     ]
    },
    {
     "name": "stderr",
     "output_type": "stream",
     "text": [
      "req            INFO \tUsing cached data for race_control_messages\n",
      "core           INFO \tFinished loading data for 20 drivers: ['1', '81', '4', '16', '55', '63', '22', '44', '3', '27', '11', '31', '18', '23', '10', '77', '24', '20', '14', '2']\n",
      "core           INFO \tLoading data for Monaco Grand Prix - Race [v3.6.0]\n",
      "req            INFO \tUsing cached data for session_info\n",
      "req            INFO \tUsing cached data for driver_info\n"
     ]
    },
    {
     "name": "stdout",
     "output_type": "stream",
     "text": [
      "    Loaded 20 qualifying results entries for 2024 Round 7 (Qualifying).\n",
      "  -> Attempting to load data for 2024 Round 8...\n",
      "    Loading 2024 Round 8 (Race)...\n"
     ]
    },
    {
     "name": "stderr",
     "output_type": "stream",
     "text": [
      "req            INFO \tUsing cached data for race_control_messages\n",
      "core           INFO \tFinished loading data for 20 drivers: ['16', '81', '55', '4', '63', '1', '44', '22', '23', '10', '14', '3', '77', '18', '2', '24', '31', '11', '27', '20']\n",
      "core           INFO \tLoading data for Monaco Grand Prix - Qualifying [v3.6.0]\n",
      "req            INFO \tUsing cached data for session_info\n",
      "req            INFO \tUsing cached data for driver_info\n"
     ]
    },
    {
     "name": "stdout",
     "output_type": "stream",
     "text": [
      "    Loaded 20 race results entries for 2024 Round 8 (Race).\n",
      "    Loading 2024 Round 8 (Qualifying)...\n"
     ]
    },
    {
     "name": "stderr",
     "output_type": "stream",
     "text": [
      "req            INFO \tUsing cached data for race_control_messages\n",
      "core           INFO \tFinished loading data for 20 drivers: ['16', '81', '55', '4', '63', '1', '44', '22', '23', '10', '31', '3', '18', '27', '14', '2', '20', '11', '77', '24']\n",
      "core           INFO \tLoading data for Canadian Grand Prix - Race [v3.6.0]\n",
      "req            INFO \tUsing cached data for session_info\n",
      "req            INFO \tUsing cached data for driver_info\n"
     ]
    },
    {
     "name": "stdout",
     "output_type": "stream",
     "text": [
      "    Loaded 20 qualifying results entries for 2024 Round 8 (Qualifying).\n",
      "  -> Attempting to load data for 2024 Round 9...\n",
      "    Loading 2024 Round 9 (Race)...\n"
     ]
    },
    {
     "name": "stderr",
     "output_type": "stream",
     "text": [
      "req            INFO \tUsing cached data for race_control_messages\n",
      "core           INFO \tFinished loading data for 20 drivers: ['1', '4', '63', '44', '81', '14', '18', '3', '10', '31', '27', '20', '77', '22', '24', '55', '23', '11', '16', '2']\n",
      "core           INFO \tLoading data for Canadian Grand Prix - Qualifying [v3.6.0]\n",
      "req            INFO \tUsing cached data for session_info\n",
      "req            INFO \tUsing cached data for driver_info\n"
     ]
    },
    {
     "name": "stdout",
     "output_type": "stream",
     "text": [
      "    Loaded 20 race results entries for 2024 Round 9 (Race).\n",
      "    Loading 2024 Round 9 (Qualifying)...\n"
     ]
    },
    {
     "name": "stderr",
     "output_type": "stream",
     "text": [
      "req            INFO \tUsing cached data for race_control_messages\n",
      "core           INFO \tFinished loading data for 20 drivers: ['63', '1', '4', '81', '3', '14', '44', '22', '18', '23', '16', '55', '2', '20', '10', '11', '77', '31', '27', '24']\n",
      "core           INFO \tLoading data for Spanish Grand Prix - Race [v3.6.0]\n",
      "req            INFO \tUsing cached data for session_info\n",
      "req            INFO \tUsing cached data for driver_info\n"
     ]
    },
    {
     "name": "stdout",
     "output_type": "stream",
     "text": [
      "    Loaded 20 qualifying results entries for 2024 Round 9 (Qualifying).\n",
      "  -> Attempting to load data for 2024 Round 10...\n",
      "    Loading 2024 Round 10 (Race)...\n"
     ]
    },
    {
     "name": "stderr",
     "output_type": "stream",
     "text": [
      "req            INFO \tUsing cached data for race_control_messages\n",
      "core           INFO \tFinished loading data for 20 drivers: ['1', '4', '44', '63', '16', '55', '81', '11', '10', '31', '27', '14', '24', '18', '3', '77', '20', '23', '22', '2']\n",
      "core           INFO \tLoading data for Spanish Grand Prix - Qualifying [v3.6.0]\n",
      "req            INFO \tUsing cached data for session_info\n",
      "req            INFO \tUsing cached data for driver_info\n"
     ]
    },
    {
     "name": "stdout",
     "output_type": "stream",
     "text": [
      "    Loaded 20 race results entries for 2024 Round 10 (Race).\n",
      "    Loading 2024 Round 10 (Qualifying)...\n"
     ]
    },
    {
     "name": "stderr",
     "output_type": "stream",
     "text": [
      "req            INFO \tUsing cached data for race_control_messages\n",
      "core           INFO \tFinished loading data for 20 drivers: ['4', '1', '44', '63', '16', '55', '10', '11', '31', '81', '14', '77', '27', '18', '24', '20', '22', '3', '23', '2']\n",
      "core           INFO \tLoading data for British Grand Prix - Race [v3.6.0]\n",
      "req            INFO \tUsing cached data for session_info\n",
      "req            INFO \tUsing cached data for driver_info\n"
     ]
    },
    {
     "name": "stdout",
     "output_type": "stream",
     "text": [
      "    Loaded 20 qualifying results entries for 2024 Round 10 (Qualifying).\n",
      "  -> Attempting to load data for 2024 Round 12...\n",
      "    Loading 2024 Round 12 (Race)...\n"
     ]
    },
    {
     "name": "stderr",
     "output_type": "stream",
     "text": [
      "req            INFO \tUsing cached data for race_control_messages\n",
      "core           INFO \tFinished loading data for 20 drivers: ['44', '1', '4', '81', '55', '27', '18', '14', '23', '22', '2', '20', '3', '16', '77', '31', '11', '24', '63', '10']\n",
      "core           INFO \tLoading data for British Grand Prix - Qualifying [v3.6.0]\n",
      "req            INFO \tUsing cached data for session_info\n",
      "req            INFO \tUsing cached data for driver_info\n"
     ]
    },
    {
     "name": "stdout",
     "output_type": "stream",
     "text": [
      "    Loaded 20 race results entries for 2024 Round 12 (Race).\n",
      "    Loading 2024 Round 12 (Qualifying)...\n"
     ]
    },
    {
     "name": "stderr",
     "output_type": "stream",
     "text": [
      "req            INFO \tUsing cached data for race_control_messages\n",
      "core           INFO \tFinished loading data for 20 drivers: ['63', '44', '4', '1', '81', '27', '55', '18', '23', '14', '16', '2', '22', '24', '3', '77', '20', '31', '11', '10']\n",
      "core           INFO \tLoading data for Hungarian Grand Prix - Race [v3.6.0]\n",
      "req            INFO \tUsing cached data for session_info\n",
      "req            INFO \tUsing cached data for driver_info\n"
     ]
    },
    {
     "name": "stdout",
     "output_type": "stream",
     "text": [
      "    Loaded 20 qualifying results entries for 2024 Round 12 (Qualifying).\n",
      "  -> Attempting to load data for 2024 Round 13...\n",
      "    Loading 2024 Round 13 (Race)...\n"
     ]
    },
    {
     "name": "stderr",
     "output_type": "stream",
     "text": [
      "req            INFO \tUsing cached data for race_control_messages\n",
      "core           INFO \tFinished loading data for 20 drivers: ['81', '4', '44', '16', '1', '55', '11', '63', '22', '18', '14', '3', '27', '23', '20', '77', '2', '31', '24', '10']\n",
      "core           INFO \tLoading data for Hungarian Grand Prix - Qualifying [v3.6.0]\n",
      "req            INFO \tUsing cached data for session_info\n",
      "req            INFO \tUsing cached data for driver_info\n"
     ]
    },
    {
     "name": "stdout",
     "output_type": "stream",
     "text": [
      "    Loaded 20 race results entries for 2024 Round 13 (Race).\n",
      "    Loading 2024 Round 13 (Qualifying)...\n"
     ]
    },
    {
     "name": "stderr",
     "output_type": "stream",
     "text": [
      "req            INFO \tUsing cached data for race_control_messages\n",
      "core           INFO \tFinished loading data for 20 drivers: ['4', '81', '1', '55', '44', '16', '14', '18', '3', '22', '27', '77', '23', '2', '20', '11', '63', '24', '31', '10']\n",
      "core           INFO \tLoading data for Belgian Grand Prix - Race [v3.6.0]\n",
      "req            INFO \tUsing cached data for session_info\n",
      "req            INFO \tUsing cached data for driver_info\n"
     ]
    },
    {
     "name": "stdout",
     "output_type": "stream",
     "text": [
      "    Loaded 20 qualifying results entries for 2024 Round 13 (Qualifying).\n",
      "  -> Attempting to load data for 2024 Round 14...\n",
      "    Loading 2024 Round 14 (Race)...\n"
     ]
    },
    {
     "name": "stderr",
     "output_type": "stream",
     "text": [
      "req            INFO \tUsing cached data for race_control_messages\n",
      "core           INFO \tFinished loading data for 20 drivers: ['44', '81', '16', '1', '4', '55', '11', '14', '31', '3', '18', '23', '10', '20', '77', '22', '2', '27', '24', '63']\n",
      "core           INFO \tLoading data for Belgian Grand Prix - Qualifying [v3.6.0]\n",
      "req            INFO \tUsing cached data for session_info\n",
      "req            INFO \tUsing cached data for driver_info\n"
     ]
    },
    {
     "name": "stdout",
     "output_type": "stream",
     "text": [
      "    Loaded 20 race results entries for 2024 Round 14 (Race).\n",
      "    Loading 2024 Round 14 (Qualifying)...\n"
     ]
    },
    {
     "name": "stderr",
     "output_type": "stream",
     "text": [
      "req            INFO \tUsing cached data for race_control_messages\n",
      "core           INFO \tFinished loading data for 20 drivers: ['1', '16', '11', '44', '4', '81', '63', '55', '14', '31', '23', '10', '3', '77', '18', '27', '20', '22', '2', '24']\n",
      "core           INFO \tLoading data for Dutch Grand Prix - Race [v3.6.0]\n",
      "req            INFO \tUsing cached data for session_info\n",
      "req            INFO \tUsing cached data for driver_info\n"
     ]
    },
    {
     "name": "stdout",
     "output_type": "stream",
     "text": [
      "    Loaded 20 qualifying results entries for 2024 Round 14 (Qualifying).\n",
      "  -> Attempting to load data for 2024 Round 15...\n",
      "    Loading 2024 Round 15 (Race)...\n"
     ]
    },
    {
     "name": "stderr",
     "output_type": "stream",
     "text": [
      "req            INFO \tUsing cached data for race_control_messages\n",
      "core           INFO \tFinished loading data for 20 drivers: ['4', '1', '16', '81', '55', '11', '63', '44', '10', '14', '27', '3', '18', '23', '31', '2', '22', '20', '77', '24']\n",
      "core           INFO \tLoading data for Dutch Grand Prix - Qualifying [v3.6.0]\n",
      "req            INFO \tUsing cached data for session_info\n",
      "req            INFO \tUsing cached data for driver_info\n"
     ]
    },
    {
     "name": "stdout",
     "output_type": "stream",
     "text": [
      "    Loaded 20 race results entries for 2024 Round 15 (Race).\n",
      "    Loading 2024 Round 15 (Qualifying)...\n"
     ]
    },
    {
     "name": "stderr",
     "output_type": "stream",
     "text": [
      "req            INFO \tUsing cached data for race_control_messages\n",
      "core           INFO \tFinished loading data for 20 drivers: ['4', '1', '81', '63', '11', '16', '14', '18', '10', '55', '23', '44', '22', '27', '20', '3', '31', '77', '24', '2']\n",
      "core           INFO \tLoading data for Italian Grand Prix - Race [v3.6.0]\n",
      "req            INFO \tUsing cached data for session_info\n",
      "req            INFO \tUsing cached data for driver_info\n"
     ]
    },
    {
     "name": "stdout",
     "output_type": "stream",
     "text": [
      "    Loaded 20 qualifying results entries for 2024 Round 15 (Qualifying).\n",
      "  -> Attempting to load data for 2024 Round 16...\n",
      "    Loading 2024 Round 16 (Race)...\n"
     ]
    },
    {
     "name": "stderr",
     "output_type": "stream",
     "text": [
      "req            INFO \tUsing cached data for race_control_messages\n",
      "core           INFO \tFinished loading data for 20 drivers: ['16', '81', '4', '55', '44', '1', '63', '11', '23', '20', '14', '43', '3', '31', '10', '77', '27', '24', '18', '22']\n",
      "core           INFO \tLoading data for Italian Grand Prix - Qualifying [v3.6.0]\n",
      "req            INFO \tUsing cached data for session_info\n",
      "req            INFO \tUsing cached data for driver_info\n"
     ]
    },
    {
     "name": "stdout",
     "output_type": "stream",
     "text": [
      "    Loaded 20 race results entries for 2024 Round 16 (Race).\n",
      "    Loading 2024 Round 16 (Qualifying)...\n"
     ]
    },
    {
     "name": "stderr",
     "output_type": "stream",
     "text": [
      "req            INFO \tUsing cached data for race_control_messages\n",
      "core           INFO \tFinished loading data for 20 drivers: ['4', '81', '63', '16', '55', '44', '1', '11', '23', '27', '14', '3', '20', '10', '31', '22', '18', '43', '77', '24']\n",
      "core           INFO \tLoading data for Azerbaijan Grand Prix - Race [v3.6.0]\n",
      "req            INFO \tUsing cached data for session_info\n",
      "req            INFO \tUsing cached data for driver_info\n"
     ]
    },
    {
     "name": "stdout",
     "output_type": "stream",
     "text": [
      "    Loaded 20 qualifying results entries for 2024 Round 16 (Qualifying).\n",
      "  -> Attempting to load data for 2024 Round 17...\n",
      "    Loading 2024 Round 17 (Race)...\n"
     ]
    },
    {
     "name": "stderr",
     "output_type": "stream",
     "text": [
      "req            INFO \tUsing cached data for race_control_messages\n",
      "core           INFO \tFinished loading data for 20 drivers: ['81', '16', '63', '4', '1', '14', '23', '43', '44', '50', '27', '10', '3', '24', '31', '77', '11', '55', '18', '22']\n",
      "core           INFO \tLoading data for Azerbaijan Grand Prix - Qualifying [v3.6.0]\n",
      "req            INFO \tUsing cached data for session_info\n",
      "req            INFO \tUsing cached data for driver_info\n"
     ]
    },
    {
     "name": "stdout",
     "output_type": "stream",
     "text": [
      "    Loaded 20 race results entries for 2024 Round 17 (Race).\n",
      "    Loading 2024 Round 17 (Qualifying)...\n"
     ]
    },
    {
     "name": "stderr",
     "output_type": "stream",
     "text": [
      "req            INFO \tUsing cached data for race_control_messages\n",
      "core           INFO \tFinished loading data for 20 drivers: ['16', '81', '55', '11', '63', '1', '44', '14', '43', '23', '50', '22', '27', '18', '3', '10', '4', '77', '24', '31']\n",
      "core           INFO \tLoading data for Singapore Grand Prix - Race [v3.6.0]\n",
      "req            INFO \tUsing cached data for session_info\n",
      "req            INFO \tUsing cached data for driver_info\n"
     ]
    },
    {
     "name": "stdout",
     "output_type": "stream",
     "text": [
      "    Loaded 20 qualifying results entries for 2024 Round 17 (Qualifying).\n",
      "  -> Attempting to load data for 2024 Round 18...\n",
      "    Loading 2024 Round 18 (Race)...\n"
     ]
    },
    {
     "name": "stderr",
     "output_type": "stream",
     "text": [
      "req            INFO \tUsing cached data for race_control_messages\n",
      "core           INFO \tFinished loading data for 20 drivers: ['4', '1', '81', '63', '16', '44', '55', '14', '27', '11', '43', '22', '31', '18', '24', '77', '10', '3', '20', '23']\n",
      "core           INFO \tLoading data for Singapore Grand Prix - Qualifying [v3.6.0]\n",
      "req            INFO \tUsing cached data for session_info\n",
      "req            INFO \tUsing cached data for driver_info\n"
     ]
    },
    {
     "name": "stdout",
     "output_type": "stream",
     "text": [
      "    Loaded 20 race results entries for 2024 Round 18 (Race).\n",
      "    Loading 2024 Round 18 (Qualifying)...\n"
     ]
    },
    {
     "name": "stderr",
     "output_type": "stream",
     "text": [
      "req            INFO \tUsing cached data for race_control_messages\n",
      "core           INFO \tFinished loading data for 20 drivers: ['4', '1', '44', '63', '81', '27', '14', '22', '16', '55', '23', '43', '11', '20', '31', '3', '18', '10', '77', '24']\n",
      "core           INFO \tLoading data for Mexico City Grand Prix - Race [v3.6.0]\n",
      "req            INFO \tUsing cached data for session_info\n",
      "req            INFO \tUsing cached data for driver_info\n"
     ]
    },
    {
     "name": "stdout",
     "output_type": "stream",
     "text": [
      "    Loaded 20 qualifying results entries for 2024 Round 18 (Qualifying).\n",
      "  -> Attempting to load data for 2024 Round 20...\n",
      "    Loading 2024 Round 20 (Race)...\n"
     ]
    },
    {
     "name": "stderr",
     "output_type": "stream",
     "text": [
      "req            INFO \tUsing cached data for race_control_messages\n",
      "core           INFO \tFinished loading data for 20 drivers: ['55', '4', '16', '44', '63', '1', '20', '81', '27', '10', '18', '43', '31', '77', '24', '30', '11', '14', '23', '22']\n",
      "core           INFO \tLoading data for Mexico City Grand Prix - Qualifying [v3.6.0]\n",
      "req            INFO \tUsing cached data for session_info\n",
      "req            INFO \tUsing cached data for driver_info\n"
     ]
    },
    {
     "name": "stdout",
     "output_type": "stream",
     "text": [
      "    Loaded 20 race results entries for 2024 Round 20 (Race).\n",
      "    Loading 2024 Round 20 (Qualifying)...\n"
     ]
    },
    {
     "name": "stderr",
     "output_type": "stream",
     "text": [
      "req            INFO \tUsing cached data for race_control_messages\n",
      "core           INFO \tFinished loading data for 20 drivers: ['55', '1', '4', '16', '63', '44', '20', '10', '23', '27', '22', '30', '14', '18', '77', '43', '81', '11', '31', '24']\n",
      "core           INFO \tLoading data for Las Vegas Grand Prix - Race [v3.6.0]\n",
      "req            INFO \tUsing cached data for session_info\n",
      "req            INFO \tUsing cached data for driver_info\n"
     ]
    },
    {
     "name": "stdout",
     "output_type": "stream",
     "text": [
      "    Loaded 20 qualifying results entries for 2024 Round 20 (Qualifying).\n",
      "  -> Attempting to load data for 2024 Round 22...\n",
      "    Loading 2024 Round 22 (Race)...\n"
     ]
    },
    {
     "name": "stderr",
     "output_type": "stream",
     "text": [
      "req            INFO \tUsing cached data for race_control_messages\n",
      "core           INFO \tFinished loading data for 20 drivers: ['63', '44', '55', '16', '1', '4', '81', '27', '22', '11', '14', '20', '24', '43', '18', '30', '31', '77', '23', '10']\n",
      "core           INFO \tLoading data for Las Vegas Grand Prix - Qualifying [v3.6.0]\n",
      "req            INFO \tUsing cached data for session_info\n",
      "req            INFO \tUsing cached data for driver_info\n"
     ]
    },
    {
     "name": "stdout",
     "output_type": "stream",
     "text": [
      "    Loaded 20 race results entries for 2024 Round 22 (Race).\n",
      "    Loading 2024 Round 22 (Qualifying)...\n"
     ]
    },
    {
     "name": "stderr",
     "output_type": "stream",
     "text": [
      "req            INFO \tUsing cached data for race_control_messages\n",
      "core           INFO \tFinished loading data for 20 drivers: ['63', '55', '10', '16', '1', '4', '22', '81', '27', '44', '31', '20', '24', '43', '30', '11', '14', '23', '77', '18']\n",
      "core           INFO \tLoading data for Abu Dhabi Grand Prix - Race [v3.6.0]\n",
      "req            INFO \tUsing cached data for session_info\n",
      "req            INFO \tUsing cached data for driver_info\n"
     ]
    },
    {
     "name": "stdout",
     "output_type": "stream",
     "text": [
      "    Loaded 20 qualifying results entries for 2024 Round 22 (Qualifying).\n",
      "  -> Attempting to load data for 2024 Round 24...\n",
      "    Loading 2024 Round 24 (Race)...\n"
     ]
    },
    {
     "name": "stderr",
     "output_type": "stream",
     "text": [
      "req            INFO \tUsing cached data for race_control_messages\n",
      "core           INFO \tFinished loading data for 20 drivers: ['4', '55', '16', '44', '63', '1', '10', '27', '14', '81', '23', '22', '24', '18', '61', '20', '30', '77', '43', '11']\n",
      "core           INFO \tLoading data for Abu Dhabi Grand Prix - Qualifying [v3.6.0]\n",
      "req            INFO \tUsing cached data for session_info\n",
      "req            INFO \tUsing cached data for driver_info\n"
     ]
    },
    {
     "name": "stdout",
     "output_type": "stream",
     "text": [
      "    Loaded 20 race results entries for 2024 Round 24 (Race).\n",
      "    Loading 2024 Round 24 (Qualifying)...\n"
     ]
    },
    {
     "name": "stderr",
     "output_type": "stream",
     "text": [
      "Request for URL https://api.jolpi.ca/ergast/f1/2024/24/qualifying.json failed; using cached response\n",
      "Traceback (most recent call last):\n",
      "  File \"c:\\Users\\CLL\\AppData\\Local\\Programs\\Python\\Python313\\Lib\\site-packages\\requests_cache\\session.py\", line 291, in _resend\n",
      "    response.raise_for_status()\n",
      "    ~~~~~~~~~~~~~~~~~~~~~~~~~^^\n",
      "  File \"c:\\Users\\CLL\\AppData\\Local\\Programs\\Python\\Python313\\Lib\\site-packages\\requests\\models.py\", line 1024, in raise_for_status\n",
      "    raise HTTPError(http_error_msg, response=self)\n",
      "requests.exceptions.HTTPError: 429 Client Error: Too Many Requests for url: https://api.jolpi.ca/ergast/f1/2024/24/qualifying.json\n",
      "req            INFO \tUsing cached data for race_control_messages\n",
      "core           INFO \tFinished loading data for 20 drivers: ['4', '81', '55', '27', '1', '10', '63', '14', '77', '11', '22', '30', '18', '16', '20', '23', '24', '44', '43', '61']\n"
     ]
    },
    {
     "name": "stdout",
     "output_type": "stream",
     "text": [
      "    Loaded 20 qualifying results entries for 2024 Round 24 (Qualifying).\n",
      "\n",
      "Processing season: 2025\n",
      "  Attempting to get event schedule for 2025...\n"
     ]
    },
    {
     "name": "stderr",
     "output_type": "stream",
     "text": [
      "core           INFO \tLoading data for Australian Grand Prix - Race [v3.6.0]\n",
      "req            INFO \tUsing cached data for session_info\n",
      "req            INFO \tUsing cached data for driver_info\n"
     ]
    },
    {
     "name": "stdout",
     "output_type": "stream",
     "text": [
      "  Schedule loaded for 2025. Found 25 events.\n",
      "  Filtered for 'conventional'/'sprint' race events. Found 18 race weekends.\n",
      "  -> Attempting to load data for 2025 Round 1...\n",
      "    Loading 2025 Round 1 (Race)...\n"
     ]
    },
    {
     "name": "stderr",
     "output_type": "stream",
     "text": [
      "Request for URL https://api.jolpi.ca/ergast/f1/2025/1/results.json failed; using cached response\n",
      "Traceback (most recent call last):\n",
      "  File \"c:\\Users\\CLL\\AppData\\Local\\Programs\\Python\\Python313\\Lib\\site-packages\\requests_cache\\session.py\", line 291, in _resend\n",
      "    response.raise_for_status()\n",
      "    ~~~~~~~~~~~~~~~~~~~~~~~~~^^\n",
      "  File \"c:\\Users\\CLL\\AppData\\Local\\Programs\\Python\\Python313\\Lib\\site-packages\\requests\\models.py\", line 1024, in raise_for_status\n",
      "    raise HTTPError(http_error_msg, response=self)\n",
      "requests.exceptions.HTTPError: 429 Client Error: Too Many Requests for url: https://api.jolpi.ca/ergast/f1/2025/1/results.json\n",
      "req            INFO \tUsing cached data for race_control_messages\n",
      "core           INFO \tFinished loading data for 20 drivers: ['4', '1', '63', '12', '23', '18', '27', '16', '81', '44', '10', '22', '31', '87', '30', '5', '14', '55', '7', '6']\n",
      "core           INFO \tLoading data for Australian Grand Prix - Qualifying [v3.6.0]\n",
      "req            INFO \tUsing cached data for session_info\n",
      "req            INFO \tUsing cached data for driver_info\n"
     ]
    },
    {
     "name": "stdout",
     "output_type": "stream",
     "text": [
      "    Loaded 20 race results entries for 2025 Round 1 (Race).\n",
      "    Loading 2025 Round 1 (Qualifying)...\n"
     ]
    },
    {
     "name": "stderr",
     "output_type": "stream",
     "text": [
      "Request for URL https://api.jolpi.ca/ergast/f1/2025/1/qualifying.json failed; using cached response\n",
      "Traceback (most recent call last):\n",
      "  File \"c:\\Users\\CLL\\AppData\\Local\\Programs\\Python\\Python313\\Lib\\site-packages\\requests_cache\\session.py\", line 291, in _resend\n",
      "    response.raise_for_status()\n",
      "    ~~~~~~~~~~~~~~~~~~~~~~~~~^^\n",
      "  File \"c:\\Users\\CLL\\AppData\\Local\\Programs\\Python\\Python313\\Lib\\site-packages\\requests\\models.py\", line 1024, in raise_for_status\n",
      "    raise HTTPError(http_error_msg, response=self)\n",
      "requests.exceptions.HTTPError: 429 Client Error: Too Many Requests for url: https://api.jolpi.ca/ergast/f1/2025/1/qualifying.json\n",
      "req            INFO \tUsing cached data for race_control_messages\n",
      "core           INFO \tFinished loading data for 20 drivers: ['4', '81', '1', '63', '22', '23', '16', '44', '10', '55', '6', '14', '18', '7', '5', '12', '27', '30', '31', '87']\n",
      "core           INFO \tLoading data for Japanese Grand Prix - Race [v3.6.0]\n",
      "req            INFO \tUsing cached data for session_info\n",
      "req            INFO \tUsing cached data for driver_info\n",
      "Request for URL https://api.jolpi.ca/ergast/f1/2025/3/results.json failed; using cached response\n",
      "Traceback (most recent call last):\n",
      "  File \"c:\\Users\\CLL\\AppData\\Local\\Programs\\Python\\Python313\\Lib\\site-packages\\requests_cache\\session.py\", line 291, in _resend\n",
      "    response.raise_for_status()\n",
      "    ~~~~~~~~~~~~~~~~~~~~~~~~~^^\n",
      "  File \"c:\\Users\\CLL\\AppData\\Local\\Programs\\Python\\Python313\\Lib\\site-packages\\requests\\models.py\", line 1024, in raise_for_status\n",
      "    raise HTTPError(http_error_msg, response=self)\n",
      "requests.exceptions.HTTPError: 429 Client Error: Too Many Requests for url: https://api.jolpi.ca/ergast/f1/2025/3/results.json\n"
     ]
    },
    {
     "name": "stdout",
     "output_type": "stream",
     "text": [
      "    Loaded 20 qualifying results entries for 2025 Round 1 (Qualifying).\n",
      "  -> Attempting to load data for 2025 Round 3...\n",
      "    Loading 2025 Round 3 (Race)...\n"
     ]
    },
    {
     "name": "stderr",
     "output_type": "stream",
     "text": [
      "req            INFO \tUsing cached data for race_control_messages\n",
      "core           INFO \tFinished loading data for 20 drivers: ['1', '4', '81', '16', '63', '12', '44', '6', '23', '87', '14', '22', '10', '55', '7', '27', '30', '31', '5', '18']\n",
      "core           INFO \tLoading data for Japanese Grand Prix - Qualifying [v3.6.0]\n",
      "req            INFO \tUsing cached data for session_info\n",
      "req            INFO \tUsing cached data for driver_info\n",
      "Request for URL https://api.jolpi.ca/ergast/f1/2025/3/qualifying.json failed; using cached response\n",
      "Traceback (most recent call last):\n",
      "  File \"c:\\Users\\CLL\\AppData\\Local\\Programs\\Python\\Python313\\Lib\\site-packages\\requests_cache\\session.py\", line 291, in _resend\n",
      "    response.raise_for_status()\n",
      "    ~~~~~~~~~~~~~~~~~~~~~~~~~^^\n",
      "  File \"c:\\Users\\CLL\\AppData\\Local\\Programs\\Python\\Python313\\Lib\\site-packages\\requests\\models.py\", line 1024, in raise_for_status\n",
      "    raise HTTPError(http_error_msg, response=self)\n",
      "requests.exceptions.HTTPError: 429 Client Error: Too Many Requests for url: https://api.jolpi.ca/ergast/f1/2025/3/qualifying.json\n"
     ]
    },
    {
     "name": "stdout",
     "output_type": "stream",
     "text": [
      "    Loaded 20 race results entries for 2025 Round 3 (Race).\n",
      "    Loading 2025 Round 3 (Qualifying)...\n"
     ]
    },
    {
     "name": "stderr",
     "output_type": "stream",
     "text": [
      "req            INFO \tUsing cached data for race_control_messages\n",
      "core           INFO \tFinished loading data for 20 drivers: ['1', '4', '81', '16', '63', '12', '6', '44', '23', '87', '10', '55', '14', '30', '22', '27', '5', '31', '7', '18']\n",
      "core           INFO \tLoading data for Bahrain Grand Prix - Race [v3.6.0]\n",
      "req            INFO \tUsing cached data for session_info\n",
      "req            INFO \tUsing cached data for driver_info\n"
     ]
    },
    {
     "name": "stdout",
     "output_type": "stream",
     "text": [
      "    Loaded 20 qualifying results entries for 2025 Round 3 (Qualifying).\n",
      "  -> Attempting to load data for 2025 Round 4...\n",
      "    Loading 2025 Round 4 (Race)...\n"
     ]
    },
    {
     "name": "stderr",
     "output_type": "stream",
     "text": [
      "Request for URL https://api.jolpi.ca/ergast/f1/2025/4/results.json failed; using cached response\n",
      "Traceback (most recent call last):\n",
      "  File \"c:\\Users\\CLL\\AppData\\Local\\Programs\\Python\\Python313\\Lib\\site-packages\\requests_cache\\session.py\", line 291, in _resend\n",
      "    response.raise_for_status()\n",
      "    ~~~~~~~~~~~~~~~~~~~~~~~~~^^\n",
      "  File \"c:\\Users\\CLL\\AppData\\Local\\Programs\\Python\\Python313\\Lib\\site-packages\\requests\\models.py\", line 1024, in raise_for_status\n",
      "    raise HTTPError(http_error_msg, response=self)\n",
      "requests.exceptions.HTTPError: 429 Client Error: Too Many Requests for url: https://api.jolpi.ca/ergast/f1/2025/4/results.json\n",
      "req            INFO \tUsing cached data for race_control_messages\n",
      "core           INFO \tFinished loading data for 20 drivers: ['81', '63', '4', '16', '44', '1', '10', '31', '22', '87', '12', '23', '6', '7', '14', '30', '18', '5', '55', '27']\n",
      "core           INFO \tLoading data for Bahrain Grand Prix - Qualifying [v3.6.0]\n",
      "req            INFO \tUsing cached data for session_info\n",
      "req            INFO \tUsing cached data for driver_info\n"
     ]
    },
    {
     "name": "stdout",
     "output_type": "stream",
     "text": [
      "    Loaded 20 race results entries for 2025 Round 4 (Race).\n",
      "    Loading 2025 Round 4 (Qualifying)...\n"
     ]
    },
    {
     "name": "stderr",
     "output_type": "stream",
     "text": [
      "Request for URL https://api.jolpi.ca/ergast/f1/2025/4/qualifying.json failed; using cached response\n",
      "Traceback (most recent call last):\n",
      "  File \"c:\\Users\\CLL\\AppData\\Local\\Programs\\Python\\Python313\\Lib\\site-packages\\requests_cache\\session.py\", line 291, in _resend\n",
      "    response.raise_for_status()\n",
      "    ~~~~~~~~~~~~~~~~~~~~~~~~~^^\n",
      "  File \"c:\\Users\\CLL\\AppData\\Local\\Programs\\Python\\Python313\\Lib\\site-packages\\requests\\models.py\", line 1024, in raise_for_status\n",
      "    raise HTTPError(http_error_msg, response=self)\n",
      "requests.exceptions.HTTPError: 429 Client Error: Too Many Requests for url: https://api.jolpi.ca/ergast/f1/2025/4/qualifying.json\n",
      "req            INFO \tUsing cached data for race_control_messages\n",
      "core           INFO \tFinished loading data for 20 drivers: ['81', '63', '16', '12', '10', '4', '1', '55', '44', '22', '7', '6', '14', '31', '23', '27', '30', '5', '18', '87']\n",
      "core           INFO \tLoading data for Saudi Arabian Grand Prix - Race [v3.6.0]\n",
      "req            INFO \tUsing cached data for session_info\n",
      "req            INFO \tUsing cached data for driver_info\n"
     ]
    },
    {
     "name": "stdout",
     "output_type": "stream",
     "text": [
      "    Loaded 20 qualifying results entries for 2025 Round 4 (Qualifying).\n",
      "  -> Attempting to load data for 2025 Round 5...\n",
      "    Loading 2025 Round 5 (Race)...\n"
     ]
    },
    {
     "name": "stderr",
     "output_type": "stream",
     "text": [
      "Request for URL https://api.jolpi.ca/ergast/f1/2025/5/results.json failed; using cached response\n",
      "Traceback (most recent call last):\n",
      "  File \"c:\\Users\\CLL\\AppData\\Local\\Programs\\Python\\Python313\\Lib\\site-packages\\requests_cache\\session.py\", line 291, in _resend\n",
      "    response.raise_for_status()\n",
      "    ~~~~~~~~~~~~~~~~~~~~~~~~~^^\n",
      "  File \"c:\\Users\\CLL\\AppData\\Local\\Programs\\Python\\Python313\\Lib\\site-packages\\requests\\models.py\", line 1024, in raise_for_status\n",
      "    raise HTTPError(http_error_msg, response=self)\n",
      "requests.exceptions.HTTPError: 429 Client Error: Too Many Requests for url: https://api.jolpi.ca/ergast/f1/2025/5/results.json\n",
      "req            INFO \tUsing cached data for race_control_messages\n",
      "core           INFO \tFinished loading data for 20 drivers: ['81', '1', '16', '4', '63', '12', '44', '55', '23', '6', '14', '30', '87', '31', '27', '18', '7', '5', '22', '10']\n",
      "core           INFO \tLoading data for Saudi Arabian Grand Prix - Qualifying [v3.6.0]\n",
      "req            INFO \tUsing cached data for session_info\n",
      "req            INFO \tUsing cached data for driver_info\n"
     ]
    },
    {
     "name": "stdout",
     "output_type": "stream",
     "text": [
      "    Loaded 20 race results entries for 2025 Round 5 (Race).\n",
      "    Loading 2025 Round 5 (Qualifying)...\n"
     ]
    },
    {
     "name": "stderr",
     "output_type": "stream",
     "text": [
      "req            INFO \tUsing cached data for race_control_messages\n",
      "core           INFO \tFinished loading data for 20 drivers: ['1', '81', '63', '16', '12', '55', '44', '22', '10', '4', '23', '30', '14', '6', '87', '18', '7', '27', '31', '5']\n",
      "core           INFO \tLoading data for Emilia Romagna Grand Prix - Race [v3.6.0]\n",
      "req            INFO \tUsing cached data for session_info\n",
      "req            INFO \tUsing cached data for driver_info\n"
     ]
    },
    {
     "name": "stdout",
     "output_type": "stream",
     "text": [
      "    Loaded 20 qualifying results entries for 2025 Round 5 (Qualifying).\n",
      "  -> Attempting to load data for 2025 Round 7...\n",
      "    Loading 2025 Round 7 (Race)...\n"
     ]
    },
    {
     "name": "stderr",
     "output_type": "stream",
     "text": [
      "Request for URL https://api.jolpi.ca/ergast/f1/2025/7/results.json failed; using cached response\n",
      "Traceback (most recent call last):\n",
      "  File \"c:\\Users\\CLL\\AppData\\Local\\Programs\\Python\\Python313\\Lib\\site-packages\\requests_cache\\session.py\", line 291, in _resend\n",
      "    response.raise_for_status()\n",
      "    ~~~~~~~~~~~~~~~~~~~~~~~~~^^\n",
      "  File \"c:\\Users\\CLL\\AppData\\Local\\Programs\\Python\\Python313\\Lib\\site-packages\\requests\\models.py\", line 1024, in raise_for_status\n",
      "    raise HTTPError(http_error_msg, response=self)\n",
      "requests.exceptions.HTTPError: 429 Client Error: Too Many Requests for url: https://api.jolpi.ca/ergast/f1/2025/7/results.json\n",
      "req            INFO \tUsing cached data for race_control_messages\n",
      "core           INFO \tFinished loading data for 20 drivers: ['1', '4', '81', '44', '23', '16', '63', '55', '6', '22', '14', '27', '10', '30', '18', '43', '87', '5', '12', '31']\n",
      "core           INFO \tLoading data for Emilia Romagna Grand Prix - Qualifying [v3.6.0]\n",
      "req            INFO \tUsing cached data for session_info\n",
      "req            INFO \tUsing cached data for driver_info\n"
     ]
    },
    {
     "name": "stdout",
     "output_type": "stream",
     "text": [
      "    Loaded 20 race results entries for 2025 Round 7 (Race).\n",
      "    Loading 2025 Round 7 (Qualifying)...\n"
     ]
    },
    {
     "name": "stderr",
     "output_type": "stream",
     "text": [
      "Request for URL https://api.jolpi.ca/ergast/f1/2025/7/qualifying.json failed; using cached response\n",
      "Traceback (most recent call last):\n",
      "  File \"c:\\Users\\CLL\\AppData\\Local\\Programs\\Python\\Python313\\Lib\\site-packages\\requests_cache\\session.py\", line 291, in _resend\n",
      "    response.raise_for_status()\n",
      "    ~~~~~~~~~~~~~~~~~~~~~~~~~^^\n",
      "  File \"c:\\Users\\CLL\\AppData\\Local\\Programs\\Python\\Python313\\Lib\\site-packages\\requests\\models.py\", line 1024, in raise_for_status\n",
      "    raise HTTPError(http_error_msg, response=self)\n",
      "requests.exceptions.HTTPError: 429 Client Error: Too Many Requests for url: https://api.jolpi.ca/ergast/f1/2025/7/qualifying.json\n",
      "req            INFO \tUsing cached data for race_control_messages\n",
      "core           INFO \tFinished loading data for 20 drivers: ['81', '1', '63', '4', '14', '55', '23', '18', '6', '10', '16', '44', '12', '5', '43', '30', '27', '31', '87', '22']\n",
      "core           INFO \tLoading data for Monaco Grand Prix - Race [v3.6.0]\n",
      "req            INFO \tUsing cached data for session_info\n",
      "req            INFO \tUsing cached data for driver_info\n",
      "Request for URL https://api.jolpi.ca/ergast/f1/2025/8/results.json failed; using cached response\n",
      "Traceback (most recent call last):\n",
      "  File \"c:\\Users\\CLL\\AppData\\Local\\Programs\\Python\\Python313\\Lib\\site-packages\\requests_cache\\session.py\", line 291, in _resend\n",
      "    response.raise_for_status()\n",
      "    ~~~~~~~~~~~~~~~~~~~~~~~~~^^\n",
      "  File \"c:\\Users\\CLL\\AppData\\Local\\Programs\\Python\\Python313\\Lib\\site-packages\\requests\\models.py\", line 1024, in raise_for_status\n",
      "    raise HTTPError(http_error_msg, response=self)\n",
      "requests.exceptions.HTTPError: 429 Client Error: Too Many Requests for url: https://api.jolpi.ca/ergast/f1/2025/8/results.json\n"
     ]
    },
    {
     "name": "stdout",
     "output_type": "stream",
     "text": [
      "    Loaded 20 qualifying results entries for 2025 Round 7 (Qualifying).\n",
      "  -> Attempting to load data for 2025 Round 8...\n",
      "    Loading 2025 Round 8 (Race)...\n"
     ]
    },
    {
     "name": "stderr",
     "output_type": "stream",
     "text": [
      "req            INFO \tUsing cached data for race_control_messages\n",
      "core           INFO \tFinished loading data for 20 drivers: ['4', '16', '81', '1', '44', '6', '31', '30', '23', '55', '63', '87', '43', '5', '18', '27', '22', '12', '14', '10']\n",
      "core           INFO \tLoading data for Monaco Grand Prix - Qualifying [v3.6.0]\n",
      "req            INFO \tUsing cached data for session_info\n",
      "req            INFO \tUsing cached data for driver_info\n"
     ]
    },
    {
     "name": "stdout",
     "output_type": "stream",
     "text": [
      "    Loaded 20 race results entries for 2025 Round 8 (Race).\n",
      "    Loading 2025 Round 8 (Qualifying)...\n"
     ]
    },
    {
     "name": "stderr",
     "output_type": "stream",
     "text": [
      "Request for URL https://api.jolpi.ca/ergast/f1/2025/8/qualifying.json failed; using cached response\n",
      "Traceback (most recent call last):\n",
      "  File \"c:\\Users\\CLL\\AppData\\Local\\Programs\\Python\\Python313\\Lib\\site-packages\\requests_cache\\session.py\", line 291, in _resend\n",
      "    response.raise_for_status()\n",
      "    ~~~~~~~~~~~~~~~~~~~~~~~~~^^\n",
      "  File \"c:\\Users\\CLL\\AppData\\Local\\Programs\\Python\\Python313\\Lib\\site-packages\\requests\\models.py\", line 1024, in raise_for_status\n",
      "    raise HTTPError(http_error_msg, response=self)\n",
      "requests.exceptions.HTTPError: 429 Client Error: Too Many Requests for url: https://api.jolpi.ca/ergast/f1/2025/8/qualifying.json\n",
      "req            INFO \tUsing cached data for race_control_messages\n",
      "core           INFO \tFinished loading data for 20 drivers: ['4', '16', '81', '44', '1', '6', '14', '31', '30', '23', '55', '22', '27', '63', '12', '5', '87', '10', '18', '43']\n",
      "core           INFO \tLoading data for Spanish Grand Prix - Race [v3.6.0]\n",
      "req            INFO \tUsing cached data for session_info\n",
      "req            INFO \tUsing cached data for driver_info\n"
     ]
    },
    {
     "name": "stdout",
     "output_type": "stream",
     "text": [
      "    Loaded 20 qualifying results entries for 2025 Round 8 (Qualifying).\n",
      "  -> Attempting to load data for 2025 Round 9...\n",
      "    Loading 2025 Round 9 (Race)...\n"
     ]
    },
    {
     "name": "stderr",
     "output_type": "stream",
     "text": [
      "Request for URL https://api.jolpi.ca/ergast/f1/2025/9/results.json failed; using cached response\n",
      "Traceback (most recent call last):\n",
      "  File \"c:\\Users\\CLL\\AppData\\Local\\Programs\\Python\\Python313\\Lib\\site-packages\\requests_cache\\session.py\", line 291, in _resend\n",
      "    response.raise_for_status()\n",
      "    ~~~~~~~~~~~~~~~~~~~~~~~~~^^\n",
      "  File \"c:\\Users\\CLL\\AppData\\Local\\Programs\\Python\\Python313\\Lib\\site-packages\\requests\\models.py\", line 1024, in raise_for_status\n",
      "    raise HTTPError(http_error_msg, response=self)\n",
      "requests.exceptions.HTTPError: 429 Client Error: Too Many Requests for url: https://api.jolpi.ca/ergast/f1/2025/9/results.json\n",
      "req            INFO \tUsing cached data for race_control_messages\n",
      "core           INFO \tFinished loading data for 19 drivers: ['81', '4', '16', '63', '27', '44', '6', '10', '14', '1', '30', '5', '22', '55', '43', '31', '87', '12', '23']\n",
      "core           INFO \tLoading data for Spanish Grand Prix - Qualifying [v3.6.0]\n",
      "req            INFO \tUsing cached data for session_info\n",
      "req            INFO \tUsing cached data for driver_info\n",
      "Request for URL https://api.jolpi.ca/ergast/f1/2025/9/qualifying.json failed; using cached response\n",
      "Traceback (most recent call last):\n",
      "  File \"c:\\Users\\CLL\\AppData\\Local\\Programs\\Python\\Python313\\Lib\\site-packages\\requests_cache\\session.py\", line 291, in _resend\n",
      "    response.raise_for_status()\n",
      "    ~~~~~~~~~~~~~~~~~~~~~~~~~^^\n",
      "  File \"c:\\Users\\CLL\\AppData\\Local\\Programs\\Python\\Python313\\Lib\\site-packages\\requests\\models.py\", line 1024, in raise_for_status\n",
      "    raise HTTPError(http_error_msg, response=self)\n",
      "requests.exceptions.HTTPError: 429 Client Error: Too Many Requests for url: https://api.jolpi.ca/ergast/f1/2025/9/qualifying.json\n"
     ]
    },
    {
     "name": "stdout",
     "output_type": "stream",
     "text": [
      "    Loaded 19 race results entries for 2025 Round 9 (Race).\n",
      "    Loading 2025 Round 9 (Qualifying)...\n"
     ]
    },
    {
     "name": "stderr",
     "output_type": "stream",
     "text": [
      "req            INFO \tUsing cached data for race_control_messages\n",
      "core           INFO \tFinished loading data for 20 drivers: ['81', '4', '1', '63', '44', '12', '16', '10', '6', '14', '23', '5', '30', '18', '87', '27', '31', '55', '43', '22']\n",
      "core           INFO \tLoading data for Canadian Grand Prix - Race [v3.6.0]\n",
      "req            INFO \tUsing cached data for session_info\n",
      "req            INFO \tUsing cached data for driver_info\n"
     ]
    },
    {
     "name": "stdout",
     "output_type": "stream",
     "text": [
      "    Loaded 20 qualifying results entries for 2025 Round 9 (Qualifying).\n",
      "  -> Attempting to load data for 2025 Round 10...\n",
      "    Loading 2025 Round 10 (Race)...\n"
     ]
    },
    {
     "name": "stderr",
     "output_type": "stream",
     "text": [
      "Request for URL https://api.jolpi.ca/ergast/f1/2025/10/results.json failed; using cached response\n",
      "Traceback (most recent call last):\n",
      "  File \"c:\\Users\\CLL\\AppData\\Local\\Programs\\Python\\Python313\\Lib\\site-packages\\requests_cache\\session.py\", line 291, in _resend\n",
      "    response.raise_for_status()\n",
      "    ~~~~~~~~~~~~~~~~~~~~~~~~~^^\n",
      "  File \"c:\\Users\\CLL\\AppData\\Local\\Programs\\Python\\Python313\\Lib\\site-packages\\requests\\models.py\", line 1024, in raise_for_status\n",
      "    raise HTTPError(http_error_msg, response=self)\n",
      "requests.exceptions.HTTPError: 429 Client Error: Too Many Requests for url: https://api.jolpi.ca/ergast/f1/2025/10/results.json\n",
      "req            INFO \tUsing cached data for race_control_messages\n",
      "core           INFO \tFinished loading data for 20 drivers: ['63', '1', '12', '81', '16', '44', '14', '27', '31', '55', '87', '22', '43', '5', '10', '6', '18', '4', '30', '23']\n",
      "core           INFO \tLoading data for Canadian Grand Prix - Qualifying [v3.6.0]\n",
      "req            INFO \tUsing cached data for session_info\n",
      "req            INFO \tUsing cached data for driver_info\n"
     ]
    },
    {
     "name": "stdout",
     "output_type": "stream",
     "text": [
      "    Loaded 20 race results entries for 2025 Round 10 (Race).\n",
      "    Loading 2025 Round 10 (Qualifying)...\n"
     ]
    },
    {
     "name": "stderr",
     "output_type": "stream",
     "text": [
      "Request for URL https://api.jolpi.ca/ergast/f1/2025/10/qualifying.json failed; using cached response\n",
      "Traceback (most recent call last):\n",
      "  File \"c:\\Users\\CLL\\AppData\\Local\\Programs\\Python\\Python313\\Lib\\site-packages\\requests_cache\\session.py\", line 291, in _resend\n",
      "    response.raise_for_status()\n",
      "    ~~~~~~~~~~~~~~~~~~~~~~~~~^^\n",
      "  File \"c:\\Users\\CLL\\AppData\\Local\\Programs\\Python\\Python313\\Lib\\site-packages\\requests\\models.py\", line 1024, in raise_for_status\n",
      "    raise HTTPError(http_error_msg, response=self)\n",
      "requests.exceptions.HTTPError: 429 Client Error: Too Many Requests for url: https://api.jolpi.ca/ergast/f1/2025/10/qualifying.json\n",
      "req            INFO \tUsing cached data for race_control_messages\n",
      "core           INFO \tFinished loading data for 20 drivers: ['63', '1', '81', '12', '44', '14', '4', '16', '6', '23', '22', '43', '27', '87', '31', '5', '55', '18', '30', '10']\n",
      "core           INFO \tLoading data for Austrian Grand Prix - Race [v3.6.0]\n",
      "req            INFO \tUsing cached data for session_info\n",
      "req            INFO \tUsing cached data for driver_info\n"
     ]
    },
    {
     "name": "stdout",
     "output_type": "stream",
     "text": [
      "    Loaded 20 qualifying results entries for 2025 Round 10 (Qualifying).\n",
      "  -> Attempting to load data for 2025 Round 11...\n",
      "    Loading 2025 Round 11 (Race)...\n"
     ]
    },
    {
     "name": "stderr",
     "output_type": "stream",
     "text": [
      "Request for URL https://api.jolpi.ca/ergast/f1/2025/11/results.json failed; using cached response\n",
      "Traceback (most recent call last):\n",
      "  File \"c:\\Users\\CLL\\AppData\\Local\\Programs\\Python\\Python313\\Lib\\site-packages\\requests_cache\\session.py\", line 291, in _resend\n",
      "    response.raise_for_status()\n",
      "    ~~~~~~~~~~~~~~~~~~~~~~~~~^^\n",
      "  File \"c:\\Users\\CLL\\AppData\\Local\\Programs\\Python\\Python313\\Lib\\site-packages\\requests\\models.py\", line 1024, in raise_for_status\n",
      "    raise HTTPError(http_error_msg, response=self)\n",
      "requests.exceptions.HTTPError: 429 Client Error: Too Many Requests for url: https://api.jolpi.ca/ergast/f1/2025/11/results.json\n",
      "req            INFO \tUsing cached data for race_control_messages\n",
      "core           INFO \tFinished loading data for 20 drivers: ['4', '81', '16', '44', '63', '30', '14', '5', '27', '31', '87', '6', '10', '18', '43', '22', '23', '1', '12', '55']\n",
      "core           INFO \tLoading data for Austrian Grand Prix - Qualifying [v3.6.0]\n",
      "req            INFO \tUsing cached data for session_info\n",
      "req            INFO \tUsing cached data for driver_info\n"
     ]
    },
    {
     "name": "stdout",
     "output_type": "stream",
     "text": [
      "    Loaded 20 race results entries for 2025 Round 11 (Race).\n",
      "    Loading 2025 Round 11 (Qualifying)...\n"
     ]
    },
    {
     "name": "stderr",
     "output_type": "stream",
     "text": [
      "Request for URL https://api.jolpi.ca/ergast/f1/2025/11/qualifying.json failed; using cached response\n",
      "Traceback (most recent call last):\n",
      "  File \"c:\\Users\\CLL\\AppData\\Local\\Programs\\Python\\Python313\\Lib\\site-packages\\requests_cache\\session.py\", line 291, in _resend\n",
      "    response.raise_for_status()\n",
      "    ~~~~~~~~~~~~~~~~~~~~~~~~~^^\n",
      "  File \"c:\\Users\\CLL\\AppData\\Local\\Programs\\Python\\Python313\\Lib\\site-packages\\requests\\models.py\", line 1024, in raise_for_status\n",
      "    raise HTTPError(http_error_msg, response=self)\n",
      "requests.exceptions.HTTPError: 429 Client Error: Too Many Requests for url: https://api.jolpi.ca/ergast/f1/2025/11/qualifying.json\n",
      "req            INFO \tUsing cached data for race_control_messages\n",
      "core           INFO \tFinished loading data for 20 drivers: ['4', '16', '81', '44', '63', '30', '1', '5', '12', '10', '14', '23', '6', '43', '87', '18', '31', '22', '55', '27']\n",
      "core           INFO \tLoading data for British Grand Prix - Race [v3.6.0]\n",
      "req            INFO \tUsing cached data for session_info\n",
      "req            INFO \tUsing cached data for driver_info\n",
      "Request for URL https://api.jolpi.ca/ergast/f1/2025/12/results.json failed; using cached response\n",
      "Traceback (most recent call last):\n",
      "  File \"c:\\Users\\CLL\\AppData\\Local\\Programs\\Python\\Python313\\Lib\\site-packages\\requests_cache\\session.py\", line 291, in _resend\n",
      "    response.raise_for_status()\n",
      "    ~~~~~~~~~~~~~~~~~~~~~~~~~^^\n",
      "  File \"c:\\Users\\CLL\\AppData\\Local\\Programs\\Python\\Python313\\Lib\\site-packages\\requests\\models.py\", line 1024, in raise_for_status\n",
      "    raise HTTPError(http_error_msg, response=self)\n",
      "requests.exceptions.HTTPError: 429 Client Error: Too Many Requests for url: https://api.jolpi.ca/ergast/f1/2025/12/results.json\n"
     ]
    },
    {
     "name": "stdout",
     "output_type": "stream",
     "text": [
      "    Loaded 20 qualifying results entries for 2025 Round 11 (Qualifying).\n",
      "  -> Attempting to load data for 2025 Round 12...\n",
      "    Loading 2025 Round 12 (Race)...\n"
     ]
    },
    {
     "name": "stderr",
     "output_type": "stream",
     "text": [
      "req            INFO \tUsing cached data for race_control_messages\n",
      "core           INFO \tFinished loading data for 20 drivers: ['4', '81', '27', '44', '1', '10', '18', '23', '14', '63', '87', '55', '31', '16', '22', '12', '6', '5', '30', '43']\n",
      "core           INFO \tLoading data for British Grand Prix - Qualifying [v3.6.0]\n",
      "req            INFO \tUsing cached data for session_info\n",
      "req            INFO \tUsing cached data for driver_info\n"
     ]
    },
    {
     "name": "stdout",
     "output_type": "stream",
     "text": [
      "    Loaded 20 race results entries for 2025 Round 12 (Race).\n",
      "    Loading 2025 Round 12 (Qualifying)...\n"
     ]
    },
    {
     "name": "stderr",
     "output_type": "stream",
     "text": [
      "req            INFO \tUsing cached data for race_control_messages\n",
      "core           INFO \tFinished loading data for 20 drivers: ['1', '81', '4', '63', '44', '16', '12', '87', '14', '10', '55', '22', '6', '23', '31', '30', '5', '18', '27', '43']\n",
      "core           INFO \tLoading data for Hungarian Grand Prix - Race [v3.6.0]\n",
      "req            INFO \tNo cached data found for session_info. Loading data...\n",
      "_api           INFO \tFetching session info data...\n"
     ]
    },
    {
     "name": "stdout",
     "output_type": "stream",
     "text": [
      "    Loaded 20 qualifying results entries for 2025 Round 12 (Qualifying).\n",
      "  -> Attempting to load data for 2025 Round 14...\n",
      "    Loading 2025 Round 14 (Race)...\n"
     ]
    },
    {
     "name": "stderr",
     "output_type": "stream",
     "text": [
      "logger      WARNING \tFailed to load session info data!\n",
      "req            INFO \tNo cached data found for driver_info. Loading data...\n",
      "_api           INFO \tFetching driver list...\n",
      "core        WARNING \tFailed to load extended driver information!\n",
      "Request for URL https://api.jolpi.ca/ergast/f1/2025/14/results.json failed; using cached response\n",
      "Traceback (most recent call last):\n",
      "  File \"c:\\Users\\CLL\\AppData\\Local\\Programs\\Python\\Python313\\Lib\\site-packages\\requests_cache\\session.py\", line 291, in _resend\n",
      "    response.raise_for_status()\n",
      "    ~~~~~~~~~~~~~~~~~~~~~~~~~^^\n",
      "  File \"c:\\Users\\CLL\\AppData\\Local\\Programs\\Python\\Python313\\Lib\\site-packages\\requests\\models.py\", line 1024, in raise_for_status\n",
      "    raise HTTPError(http_error_msg, response=self)\n",
      "requests.exceptions.HTTPError: 429 Client Error: Too Many Requests for url: https://api.jolpi.ca/ergast/f1/2025/14/results.json\n",
      "core        WARNING \tNo result data for this session available on Ergast! (This is expected for recent sessions)\n",
      "core        WARNING \tFailed to load driver list and session results!\n",
      "req            INFO \tNo cached data found for race_control_messages. Loading data...\n",
      "_api           INFO \tFetching race control messages...\n",
      "logger      WARNING \tFailed to load race control messages!\n",
      "core           INFO \tFinished loading data for 0 drivers: []\n",
      "core           INFO \tLoading data for Hungarian Grand Prix - Qualifying [v3.6.0]\n",
      "req            INFO \tNo cached data found for session_info. Loading data...\n",
      "_api           INFO \tFetching session info data...\n"
     ]
    },
    {
     "name": "stdout",
     "output_type": "stream",
     "text": [
      "    WARNING: No results found for 2025 Round 14 (Race). It might not have happened yet or data is unavailable.\n",
      "    Loading 2025 Round 14 (Qualifying)...\n"
     ]
    },
    {
     "name": "stderr",
     "output_type": "stream",
     "text": [
      "logger      WARNING \tFailed to load session info data!\n",
      "req            INFO \tNo cached data found for driver_info. Loading data...\n",
      "_api           INFO \tFetching driver list...\n",
      "core        WARNING \tFailed to load extended driver information!\n",
      "core        WARNING \tNo result data for this session available on Ergast! (This is expected for recent sessions)\n",
      "core        WARNING \tFailed to load driver list and session results!\n",
      "req            INFO \tNo cached data found for race_control_messages. Loading data...\n",
      "_api           INFO \tFetching race control messages...\n",
      "logger      WARNING \tFailed to load race control messages!\n",
      "core           INFO \tFinished loading data for 0 drivers: []\n",
      "core           INFO \tLoading data for Dutch Grand Prix - Race [v3.6.0]\n",
      "req            INFO \tNo cached data found for session_info. Loading data...\n",
      "_api           INFO \tFetching session info data...\n"
     ]
    },
    {
     "name": "stdout",
     "output_type": "stream",
     "text": [
      "    WARNING: No results found for 2025 Round 14 (Qualifying). It might not have happened yet or data is unavailable.\n",
      "  -> Attempting to load data for 2025 Round 15...\n",
      "    Loading 2025 Round 15 (Race)...\n"
     ]
    },
    {
     "name": "stderr",
     "output_type": "stream",
     "text": [
      "logger      WARNING \tFailed to load session info data!\n",
      "req            INFO \tNo cached data found for driver_info. Loading data...\n",
      "_api           INFO \tFetching driver list...\n",
      "core        WARNING \tFailed to load extended driver information!\n",
      "core        WARNING \tNo result data for this session available on Ergast! (This is expected for recent sessions)\n",
      "core        WARNING \tFailed to load driver list and session results!\n",
      "req            INFO \tNo cached data found for race_control_messages. Loading data...\n",
      "_api           INFO \tFetching race control messages...\n",
      "logger      WARNING \tFailed to load race control messages!\n",
      "core           INFO \tFinished loading data for 0 drivers: []\n",
      "core           INFO \tLoading data for Dutch Grand Prix - Qualifying [v3.6.0]\n",
      "req            INFO \tNo cached data found for session_info. Loading data...\n",
      "_api           INFO \tFetching session info data...\n"
     ]
    },
    {
     "name": "stdout",
     "output_type": "stream",
     "text": [
      "    WARNING: No results found for 2025 Round 15 (Race). It might not have happened yet or data is unavailable.\n",
      "    Loading 2025 Round 15 (Qualifying)...\n"
     ]
    },
    {
     "name": "stderr",
     "output_type": "stream",
     "text": [
      "logger      WARNING \tFailed to load session info data!\n",
      "req            INFO \tNo cached data found for driver_info. Loading data...\n",
      "_api           INFO \tFetching driver list...\n",
      "core        WARNING \tFailed to load extended driver information!\n",
      "core        WARNING \tNo result data for this session available on Ergast! (This is expected for recent sessions)\n",
      "core        WARNING \tFailed to load driver list and session results!\n",
      "req            INFO \tNo cached data found for race_control_messages. Loading data...\n",
      "_api           INFO \tFetching race control messages...\n",
      "logger      WARNING \tFailed to load race control messages!\n",
      "core           INFO \tFinished loading data for 0 drivers: []\n",
      "core           INFO \tLoading data for Italian Grand Prix - Race [v3.6.0]\n",
      "req            INFO \tNo cached data found for session_info. Loading data...\n",
      "_api           INFO \tFetching session info data...\n"
     ]
    },
    {
     "name": "stdout",
     "output_type": "stream",
     "text": [
      "    WARNING: No results found for 2025 Round 15 (Qualifying). It might not have happened yet or data is unavailable.\n",
      "  -> Attempting to load data for 2025 Round 16...\n",
      "    Loading 2025 Round 16 (Race)...\n"
     ]
    },
    {
     "name": "stderr",
     "output_type": "stream",
     "text": [
      "logger      WARNING \tFailed to load session info data!\n",
      "req            INFO \tNo cached data found for driver_info. Loading data...\n",
      "_api           INFO \tFetching driver list...\n",
      "core        WARNING \tFailed to load extended driver information!\n",
      "core        WARNING \tNo result data for this session available on Ergast! (This is expected for recent sessions)\n",
      "core        WARNING \tFailed to load driver list and session results!\n",
      "req            INFO \tNo cached data found for race_control_messages. Loading data...\n",
      "_api           INFO \tFetching race control messages...\n",
      "logger      WARNING \tFailed to load race control messages!\n",
      "core           INFO \tFinished loading data for 0 drivers: []\n",
      "core           INFO \tLoading data for Italian Grand Prix - Qualifying [v3.6.0]\n",
      "req            INFO \tNo cached data found for session_info. Loading data...\n",
      "_api           INFO \tFetching session info data...\n"
     ]
    },
    {
     "name": "stdout",
     "output_type": "stream",
     "text": [
      "    WARNING: No results found for 2025 Round 16 (Race). It might not have happened yet or data is unavailable.\n",
      "    Loading 2025 Round 16 (Qualifying)...\n"
     ]
    },
    {
     "name": "stderr",
     "output_type": "stream",
     "text": [
      "logger      WARNING \tFailed to load session info data!\n",
      "req            INFO \tNo cached data found for driver_info. Loading data...\n",
      "_api           INFO \tFetching driver list...\n",
      "core        WARNING \tFailed to load extended driver information!\n",
      "core        WARNING \tNo result data for this session available on Ergast! (This is expected for recent sessions)\n",
      "core        WARNING \tFailed to load driver list and session results!\n",
      "req            INFO \tNo cached data found for race_control_messages. Loading data...\n",
      "_api           INFO \tFetching race control messages...\n",
      "logger      WARNING \tFailed to load race control messages!\n",
      "core           INFO \tFinished loading data for 0 drivers: []\n",
      "core           INFO \tLoading data for Azerbaijan Grand Prix - Race [v3.6.0]\n",
      "req            INFO \tNo cached data found for session_info. Loading data...\n",
      "_api           INFO \tFetching session info data...\n"
     ]
    },
    {
     "name": "stdout",
     "output_type": "stream",
     "text": [
      "    WARNING: No results found for 2025 Round 16 (Qualifying). It might not have happened yet or data is unavailable.\n",
      "  -> Attempting to load data for 2025 Round 17...\n",
      "    Loading 2025 Round 17 (Race)...\n"
     ]
    },
    {
     "name": "stderr",
     "output_type": "stream",
     "text": [
      "logger      WARNING \tFailed to load session info data!\n",
      "req            INFO \tNo cached data found for driver_info. Loading data...\n",
      "_api           INFO \tFetching driver list...\n",
      "core        WARNING \tFailed to load extended driver information!\n",
      "core        WARNING \tNo result data for this session available on Ergast! (This is expected for recent sessions)\n",
      "core        WARNING \tFailed to load driver list and session results!\n",
      "req            INFO \tNo cached data found for race_control_messages. Loading data...\n",
      "_api           INFO \tFetching race control messages...\n",
      "logger      WARNING \tFailed to load race control messages!\n",
      "core           INFO \tFinished loading data for 0 drivers: []\n",
      "core           INFO \tLoading data for Azerbaijan Grand Prix - Qualifying [v3.6.0]\n",
      "req            INFO \tNo cached data found for session_info. Loading data...\n",
      "_api           INFO \tFetching session info data...\n"
     ]
    },
    {
     "name": "stdout",
     "output_type": "stream",
     "text": [
      "    WARNING: No results found for 2025 Round 17 (Race). It might not have happened yet or data is unavailable.\n",
      "    Loading 2025 Round 17 (Qualifying)...\n"
     ]
    },
    {
     "name": "stderr",
     "output_type": "stream",
     "text": [
      "logger      WARNING \tFailed to load session info data!\n",
      "req            INFO \tNo cached data found for driver_info. Loading data...\n",
      "_api           INFO \tFetching driver list...\n",
      "core        WARNING \tFailed to load extended driver information!\n",
      "core        WARNING \tNo result data for this session available on Ergast! (This is expected for recent sessions)\n",
      "core        WARNING \tFailed to load driver list and session results!\n",
      "req            INFO \tNo cached data found for race_control_messages. Loading data...\n",
      "_api           INFO \tFetching race control messages...\n",
      "logger      WARNING \tFailed to load race control messages!\n",
      "core           INFO \tFinished loading data for 0 drivers: []\n",
      "core           INFO \tLoading data for Singapore Grand Prix - Race [v3.6.0]\n",
      "req            INFO \tNo cached data found for session_info. Loading data...\n",
      "_api           INFO \tFetching session info data...\n"
     ]
    },
    {
     "name": "stdout",
     "output_type": "stream",
     "text": [
      "    WARNING: No results found for 2025 Round 17 (Qualifying). It might not have happened yet or data is unavailable.\n",
      "  -> Attempting to load data for 2025 Round 18...\n",
      "    Loading 2025 Round 18 (Race)...\n"
     ]
    },
    {
     "name": "stderr",
     "output_type": "stream",
     "text": [
      "logger      WARNING \tFailed to load session info data!\n",
      "req            INFO \tNo cached data found for driver_info. Loading data...\n",
      "_api           INFO \tFetching driver list...\n",
      "core        WARNING \tFailed to load extended driver information!\n",
      "core        WARNING \tNo result data for this session available on Ergast! (This is expected for recent sessions)\n",
      "core        WARNING \tFailed to load driver list and session results!\n",
      "req            INFO \tNo cached data found for race_control_messages. Loading data...\n",
      "_api           INFO \tFetching race control messages...\n",
      "logger      WARNING \tFailed to load race control messages!\n",
      "core           INFO \tFinished loading data for 0 drivers: []\n",
      "core           INFO \tLoading data for Singapore Grand Prix - Qualifying [v3.6.0]\n",
      "req            INFO \tNo cached data found for session_info. Loading data...\n",
      "_api           INFO \tFetching session info data...\n"
     ]
    },
    {
     "name": "stdout",
     "output_type": "stream",
     "text": [
      "    WARNING: No results found for 2025 Round 18 (Race). It might not have happened yet or data is unavailable.\n",
      "    Loading 2025 Round 18 (Qualifying)...\n"
     ]
    },
    {
     "name": "stderr",
     "output_type": "stream",
     "text": [
      "logger      WARNING \tFailed to load session info data!\n",
      "req            INFO \tNo cached data found for driver_info. Loading data...\n",
      "_api           INFO \tFetching driver list...\n",
      "core        WARNING \tFailed to load extended driver information!\n",
      "core        WARNING \tNo result data for this session available on Ergast! (This is expected for recent sessions)\n",
      "core        WARNING \tFailed to load driver list and session results!\n",
      "req            INFO \tNo cached data found for race_control_messages. Loading data...\n",
      "_api           INFO \tFetching race control messages...\n",
      "logger      WARNING \tFailed to load race control messages!\n",
      "core           INFO \tFinished loading data for 0 drivers: []\n",
      "core           INFO \tLoading data for Mexico City Grand Prix - Race [v3.6.0]\n",
      "req            INFO \tNo cached data found for session_info. Loading data...\n",
      "_api           INFO \tFetching session info data...\n"
     ]
    },
    {
     "name": "stdout",
     "output_type": "stream",
     "text": [
      "    WARNING: No results found for 2025 Round 18 (Qualifying). It might not have happened yet or data is unavailable.\n",
      "  -> Attempting to load data for 2025 Round 20...\n",
      "    Loading 2025 Round 20 (Race)...\n"
     ]
    },
    {
     "name": "stderr",
     "output_type": "stream",
     "text": [
      "logger      WARNING \tFailed to load session info data!\n",
      "req            INFO \tNo cached data found for driver_info. Loading data...\n",
      "_api           INFO \tFetching driver list...\n",
      "core        WARNING \tFailed to load extended driver information!\n",
      "core        WARNING \tNo result data for this session available on Ergast! (This is expected for recent sessions)\n",
      "core        WARNING \tFailed to load driver list and session results!\n",
      "req            INFO \tNo cached data found for race_control_messages. Loading data...\n",
      "_api           INFO \tFetching race control messages...\n",
      "logger      WARNING \tFailed to load race control messages!\n",
      "core           INFO \tFinished loading data for 0 drivers: []\n",
      "core           INFO \tLoading data for Mexico City Grand Prix - Qualifying [v3.6.0]\n",
      "req            INFO \tNo cached data found for session_info. Loading data...\n",
      "_api           INFO \tFetching session info data...\n"
     ]
    },
    {
     "name": "stdout",
     "output_type": "stream",
     "text": [
      "    WARNING: No results found for 2025 Round 20 (Race). It might not have happened yet or data is unavailable.\n",
      "    Loading 2025 Round 20 (Qualifying)...\n"
     ]
    },
    {
     "name": "stderr",
     "output_type": "stream",
     "text": [
      "logger      WARNING \tFailed to load session info data!\n",
      "req            INFO \tNo cached data found for driver_info. Loading data...\n",
      "_api           INFO \tFetching driver list...\n",
      "core        WARNING \tFailed to load extended driver information!\n",
      "core        WARNING \tNo result data for this session available on Ergast! (This is expected for recent sessions)\n",
      "core        WARNING \tFailed to load driver list and session results!\n",
      "req            INFO \tNo cached data found for race_control_messages. Loading data...\n",
      "_api           INFO \tFetching race control messages...\n",
      "logger      WARNING \tFailed to load race control messages!\n",
      "core           INFO \tFinished loading data for 0 drivers: []\n",
      "core           INFO \tLoading data for Las Vegas Grand Prix - Race [v3.6.0]\n",
      "req            INFO \tNo cached data found for session_info. Loading data...\n",
      "_api           INFO \tFetching session info data...\n"
     ]
    },
    {
     "name": "stdout",
     "output_type": "stream",
     "text": [
      "    WARNING: No results found for 2025 Round 20 (Qualifying). It might not have happened yet or data is unavailable.\n",
      "  -> Attempting to load data for 2025 Round 22...\n",
      "    Loading 2025 Round 22 (Race)...\n"
     ]
    },
    {
     "name": "stderr",
     "output_type": "stream",
     "text": [
      "logger      WARNING \tFailed to load session info data!\n",
      "req            INFO \tNo cached data found for driver_info. Loading data...\n",
      "_api           INFO \tFetching driver list...\n",
      "core        WARNING \tFailed to load extended driver information!\n",
      "core        WARNING \tNo result data for this session available on Ergast! (This is expected for recent sessions)\n",
      "core        WARNING \tFailed to load driver list and session results!\n",
      "req            INFO \tNo cached data found for race_control_messages. Loading data...\n",
      "_api           INFO \tFetching race control messages...\n",
      "logger      WARNING \tFailed to load race control messages!\n",
      "core           INFO \tFinished loading data for 0 drivers: []\n",
      "core           INFO \tLoading data for Las Vegas Grand Prix - Qualifying [v3.6.0]\n",
      "req            INFO \tNo cached data found for session_info. Loading data...\n",
      "_api           INFO \tFetching session info data...\n"
     ]
    },
    {
     "name": "stdout",
     "output_type": "stream",
     "text": [
      "    WARNING: No results found for 2025 Round 22 (Race). It might not have happened yet or data is unavailable.\n",
      "    Loading 2025 Round 22 (Qualifying)...\n"
     ]
    },
    {
     "name": "stderr",
     "output_type": "stream",
     "text": [
      "logger      WARNING \tFailed to load session info data!\n",
      "req            INFO \tNo cached data found for driver_info. Loading data...\n",
      "_api           INFO \tFetching driver list...\n",
      "core        WARNING \tFailed to load extended driver information!\n",
      "core        WARNING \tNo result data for this session available on Ergast! (This is expected for recent sessions)\n",
      "core        WARNING \tFailed to load driver list and session results!\n",
      "req            INFO \tNo cached data found for race_control_messages. Loading data...\n",
      "_api           INFO \tFetching race control messages...\n",
      "logger      WARNING \tFailed to load race control messages!\n",
      "core           INFO \tFinished loading data for 0 drivers: []\n",
      "core           INFO \tLoading data for Abu Dhabi Grand Prix - Race [v3.6.0]\n",
      "req            INFO \tNo cached data found for session_info. Loading data...\n",
      "_api           INFO \tFetching session info data...\n"
     ]
    },
    {
     "name": "stdout",
     "output_type": "stream",
     "text": [
      "    WARNING: No results found for 2025 Round 22 (Qualifying). It might not have happened yet or data is unavailable.\n",
      "  -> Attempting to load data for 2025 Round 24...\n",
      "    Loading 2025 Round 24 (Race)...\n"
     ]
    },
    {
     "name": "stderr",
     "output_type": "stream",
     "text": [
      "logger      WARNING \tFailed to load session info data!\n",
      "req            INFO \tNo cached data found for driver_info. Loading data...\n",
      "_api           INFO \tFetching driver list...\n",
      "core        WARNING \tFailed to load extended driver information!\n",
      "core        WARNING \tNo result data for this session available on Ergast! (This is expected for recent sessions)\n",
      "core        WARNING \tFailed to load driver list and session results!\n",
      "req            INFO \tNo cached data found for race_control_messages. Loading data...\n",
      "_api           INFO \tFetching race control messages...\n",
      "logger      WARNING \tFailed to load race control messages!\n",
      "core           INFO \tFinished loading data for 0 drivers: []\n",
      "core           INFO \tLoading data for Abu Dhabi Grand Prix - Qualifying [v3.6.0]\n",
      "req            INFO \tNo cached data found for session_info. Loading data...\n",
      "_api           INFO \tFetching session info data...\n"
     ]
    },
    {
     "name": "stdout",
     "output_type": "stream",
     "text": [
      "    WARNING: No results found for 2025 Round 24 (Race). It might not have happened yet or data is unavailable.\n",
      "    Loading 2025 Round 24 (Qualifying)...\n"
     ]
    },
    {
     "name": "stderr",
     "output_type": "stream",
     "text": [
      "logger      WARNING \tFailed to load session info data!\n",
      "req            INFO \tNo cached data found for driver_info. Loading data...\n",
      "_api           INFO \tFetching driver list...\n",
      "core        WARNING \tFailed to load extended driver information!\n",
      "core        WARNING \tNo result data for this session available on Ergast! (This is expected for recent sessions)\n",
      "core        WARNING \tFailed to load driver list and session results!\n",
      "req            INFO \tNo cached data found for race_control_messages. Loading data...\n",
      "_api           INFO \tFetching race control messages...\n",
      "logger      WARNING \tFailed to load race control messages!\n",
      "core           INFO \tFinished loading data for 0 drivers: []\n"
     ]
    },
    {
     "name": "stdout",
     "output_type": "stream",
     "text": [
      "    WARNING: No results found for 2025 Round 24 (Qualifying). It might not have happened yet or data is unavailable.\n",
      "\n",
      "--- Concatenating collected data ---\n",
      "\n",
      "--- Full Race Results DataFrame ---\n",
      "Total entries in Race Results: 878\n",
      "  DriverNumber BroadcastName Abbreviation        DriverId         TeamName  \\\n",
      "0            1  M VERSTAPPEN          VER  max_verstappen  Red Bull Racing   \n",
      "1           11       S PEREZ          PER           perez  Red Bull Racing   \n",
      "2           14      F ALONSO          ALO          alonso     Aston Martin   \n",
      "3           55       C SAINZ          SAI           sainz          Ferrari   \n",
      "4           44    L HAMILTON          HAM        hamilton         Mercedes   \n",
      "\n",
      "  TeamColor        TeamId FirstName    LastName         FullName  ...  Q2  Q3  \\\n",
      "0    3671C6      red_bull       Max  Verstappen   Max Verstappen  ... NaT NaT   \n",
      "1    3671C6      red_bull    Sergio       Perez     Sergio Perez  ... NaT NaT   \n",
      "2    358C75  aston_martin  Fernando      Alonso  Fernando Alonso  ... NaT NaT   \n",
      "3    F91536       ferrari    Carlos       Sainz     Carlos Sainz  ... NaT NaT   \n",
      "4    6CD3BF      mercedes     Lewis    Hamilton   Lewis Hamilton  ... NaT NaT   \n",
      "\n",
      "                    Time    Status  Points  Laps Season Round  \\\n",
      "0 0 days 01:33:56.736000  Finished    25.0  57.0   2023     1   \n",
      "1 0 days 00:00:11.987000  Finished    18.0  57.0   2023     1   \n",
      "2 0 days 00:00:38.637000  Finished    15.0  57.0   2023     1   \n",
      "3 0 days 00:00:48.052000  Finished    12.0  57.0   2023     1   \n",
      "4 0 days 00:00:50.977000  Finished    10.0  57.0   2023     1   \n",
      "\n",
      "            EventName SessionType  \n",
      "0  Bahrain Grand Prix        Race  \n",
      "1  Bahrain Grand Prix        Race  \n",
      "2  Bahrain Grand Prix        Race  \n",
      "3  Bahrain Grand Prix        Race  \n",
      "4  Bahrain Grand Prix        Race  \n",
      "\n",
      "[5 rows x 26 columns]\n",
      "<class 'fastf1.core.SessionResults'>\n",
      "RangeIndex: 878 entries, 0 to 877\n",
      "Data columns (total 26 columns):\n",
      " #   Column              Non-Null Count  Dtype          \n",
      "---  ------              --------------  -----          \n",
      " 0   DriverNumber        878 non-null    object         \n",
      " 1   BroadcastName       878 non-null    object         \n",
      " 2   Abbreviation        878 non-null    object         \n",
      " 3   DriverId            878 non-null    object         \n",
      " 4   TeamName            878 non-null    object         \n",
      " 5   TeamColor           878 non-null    object         \n",
      " 6   TeamId              878 non-null    object         \n",
      " 7   FirstName           878 non-null    object         \n",
      " 8   LastName            878 non-null    object         \n",
      " 9   FullName            878 non-null    object         \n",
      " 10  HeadshotUrl         878 non-null    object         \n",
      " 11  CountryCode         878 non-null    object         \n",
      " 12  Position            877 non-null    float64        \n",
      " 13  ClassifiedPosition  878 non-null    object         \n",
      " 14  GridPosition        877 non-null    float64        \n",
      " 15  Q1                  0 non-null      timedelta64[ns]\n",
      " 16  Q2                  0 non-null      timedelta64[ns]\n",
      " 17  Q3                  0 non-null      timedelta64[ns]\n",
      " 18  Time                764 non-null    timedelta64[ns]\n",
      " 19  Status              878 non-null    object         \n",
      " 20  Points              878 non-null    float64        \n",
      " 21  Laps                878 non-null    float64        \n",
      " 22  Season              878 non-null    int64          \n",
      " 23  Round               878 non-null    int64          \n",
      " 24  EventName           878 non-null    object         \n",
      " 25  SessionType         878 non-null    object         \n",
      "dtypes: float64(4), int64(2), object(16), timedelta64[ns](4)\n",
      "memory usage: 178.5+ KB\n",
      "None\n",
      "\n",
      "--- Full Qualifying Results DataFrame ---\n",
      "Total entries in Qualifying Results: 879\n",
      "  DriverNumber BroadcastName Abbreviation        DriverId         TeamName  \\\n",
      "0            1  M VERSTAPPEN          VER  max_verstappen  Red Bull Racing   \n",
      "1           11       S PEREZ          PER           perez  Red Bull Racing   \n",
      "2           16     C LECLERC          LEC         leclerc          Ferrari   \n",
      "3           55       C SAINZ          SAI           sainz          Ferrari   \n",
      "4           14      F ALONSO          ALO          alonso     Aston Martin   \n",
      "\n",
      "  TeamColor        TeamId FirstName    LastName         FullName  ...  \\\n",
      "0    3671C6      red_bull       Max  Verstappen   Max Verstappen  ...   \n",
      "1    3671C6      red_bull    Sergio       Perez     Sergio Perez  ...   \n",
      "2    F91536       ferrari   Charles     Leclerc  Charles Leclerc  ...   \n",
      "3    F91536       ferrari    Carlos       Sainz     Carlos Sainz  ...   \n",
      "4    358C75  aston_martin  Fernando      Alonso  Fernando Alonso  ...   \n",
      "\n",
      "                      Q2                     Q3  Time Status  Points Laps  \\\n",
      "0 0 days 00:01:30.503000 0 days 00:01:29.708000   NaT            NaN  NaN   \n",
      "1 0 days 00:01:30.746000 0 days 00:01:29.846000   NaT            NaN  NaN   \n",
      "2 0 days 00:01:30.282000        0 days 00:01:30   NaT            NaN  NaN   \n",
      "3 0 days 00:01:30.515000 0 days 00:01:30.154000   NaT            NaN  NaN   \n",
      "4 0 days 00:01:30.645000 0 days 00:01:30.336000   NaT            NaN  NaN   \n",
      "\n",
      "  Season Round           EventName SessionType  \n",
      "0   2023     1  Bahrain Grand Prix  Qualifying  \n",
      "1   2023     1  Bahrain Grand Prix  Qualifying  \n",
      "2   2023     1  Bahrain Grand Prix  Qualifying  \n",
      "3   2023     1  Bahrain Grand Prix  Qualifying  \n",
      "4   2023     1  Bahrain Grand Prix  Qualifying  \n",
      "\n",
      "[5 rows x 26 columns]\n",
      "<class 'fastf1.core.SessionResults'>\n",
      "RangeIndex: 879 entries, 0 to 878\n",
      "Data columns (total 26 columns):\n",
      " #   Column              Non-Null Count  Dtype          \n",
      "---  ------              --------------  -----          \n",
      " 0   DriverNumber        879 non-null    object         \n",
      " 1   BroadcastName       879 non-null    object         \n",
      " 2   Abbreviation        879 non-null    object         \n",
      " 3   DriverId            879 non-null    object         \n",
      " 4   TeamName            879 non-null    object         \n",
      " 5   TeamColor           879 non-null    object         \n",
      " 6   TeamId              879 non-null    object         \n",
      " 7   FirstName           879 non-null    object         \n",
      " 8   LastName            879 non-null    object         \n",
      " 9   FullName            879 non-null    object         \n",
      " 10  HeadshotUrl         879 non-null    object         \n",
      " 11  CountryCode         879 non-null    object         \n",
      " 12  Position            879 non-null    float64        \n",
      " 13  ClassifiedPosition  879 non-null    object         \n",
      " 14  GridPosition        0 non-null      float64        \n",
      " 15  Q1                  868 non-null    timedelta64[ns]\n",
      " 16  Q2                  650 non-null    timedelta64[ns]\n",
      " 17  Q3                  432 non-null    timedelta64[ns]\n",
      " 18  Time                0 non-null      timedelta64[ns]\n",
      " 19  Status              879 non-null    object         \n",
      " 20  Points              0 non-null      float64        \n",
      " 21  Laps                0 non-null      float64        \n",
      " 22  Season              879 non-null    int64          \n",
      " 23  Round               879 non-null    int64          \n",
      " 24  EventName           879 non-null    object         \n",
      " 25  SessionType         879 non-null    object         \n",
      "dtypes: float64(4), int64(2), object(16), timedelta64[ns](4)\n",
      "memory usage: 178.7+ KB\n",
      "None\n",
      "\n",
      "--- Data collection process finished ---\n"
     ]
    }
   ],
   "source": [
    "import fastf1\n",
    "import pandas as pd\n",
    "import os\n",
    "\n",
    "# --- 1. Configure FastF1 Caching ---\n",
    "# Ensure this directory exists and is accessible\n",
    "cache_dir = './data_cache'\n",
    "if not os.path.exists(cache_dir):\n",
    "    os.makedirs(cache_dir)\n",
    "    print(f\"Created cache directory: {cache_dir}\")\n",
    "else:\n",
    "    print(f\"Cache directory already exists: {cache_dir}\")\n",
    "\n",
    "fastf1.Cache.enable_cache(cache_dir)\n",
    "print(f\"FastF1 caching enabled to '{cache_dir}'\")\n",
    "\n",
    "# --- IMPORTANT: REMOVE OR COMMENT OUT THIS LINE TO SEE ALL FASTF1 MESSAGES ---\n",
    "# fastf1.set_log_level('ERROR') # <--- Make sure this line is commented out or deleted!\n",
    "print(\"\\nFastF1 log level set to default (INFO) to show all messages.\")\n",
    "\n",
    "\n",
    "# --- 2. Define the Years You Want to Read ---\n",
    "start_year = 2023\n",
    "end_year = 2025 # Includes this year\n",
    "\n",
    "# Lists to hold DataFrames from each race\n",
    "all_race_results = []\n",
    "all_qualifying_results = []\n",
    "\n",
    "print(f\"\\n--- Starting data collection for seasons {start_year} to {end_year} ---\")\n",
    "\n",
    "for year in range(start_year, end_year + 1):\n",
    "    print(f\"\\nProcessing season: {year}\")\n",
    "    try:\n",
    "        # Get the event schedule for the current year\n",
    "        print(f\"  Attempting to get event schedule for {year}...\")\n",
    "        schedule = fastf1.get_event_schedule(year)\n",
    "        print(f\"  Schedule loaded for {year}. Found {len(schedule)} events.\")\n",
    "\n",
    "        # Filter for actual race events (excluding test sessions, etc.)\n",
    "        race_events = schedule.loc[schedule['EventFormat'].isin(['conventional', 'sprint'])]\n",
    "        print(f\"  Filtered for 'conventional'/'sprint' race events. Found {len(race_events)} race weekends.\")\n",
    "\n",
    "        if race_events.empty:\n",
    "            print(f\"  No 'conventional' or 'sprint' race events found for {year}. Skipping season.\")\n",
    "            continue\n",
    "\n",
    "        for round_num in race_events['RoundNumber']:\n",
    "            print(f\"  -> Attempting to load data for {year} Round {round_num}...\")\n",
    "            try:\n",
    "                # --- Load Race Session Results ---\n",
    "                race_session_name = f\"{year} Round {round_num} (Race)\"\n",
    "                print(f\"    Loading {race_session_name}...\")\n",
    "                race_session = fastf1.get_session(year, round_num, 'R')\n",
    "                race_session.load(telemetry=False, laps=False, weather=False)\n",
    "\n",
    "                if race_session.results.empty:\n",
    "                    print(f\"    WARNING: No results found for {race_session_name}. It might not have happened yet or data is unavailable.\")\n",
    "                else:\n",
    "                    results_df = race_session.results.copy()\n",
    "                    results_df['Season'] = year\n",
    "                    results_df['Round'] = round_num\n",
    "                    results_df['EventName'] = race_session.event['EventName']\n",
    "                    results_df['SessionType'] = 'Race'\n",
    "                    all_race_results.append(results_df)\n",
    "                    print(f\"    Loaded {len(results_df)} race results entries for {race_session_name}.\")\n",
    "\n",
    "                # --- Optionally, load Qualifying Session Results ---\n",
    "                try:\n",
    "                    quali_session_name = f\"{year} Round {round_num} (Qualifying)\"\n",
    "                    print(f\"    Loading {quali_session_name}...\")\n",
    "                    quali_session = fastf1.get_session(year, round_num, 'Q')\n",
    "                    quali_session.load(telemetry=False, laps=False, weather=False)\n",
    "\n",
    "                    if quali_session.results.empty:\n",
    "                        print(f\"    WARNING: No results found for {quali_session_name}. It might not have happened yet or data is unavailable.\")\n",
    "                    else:\n",
    "                        quali_results_df = quali_session.results.copy()\n",
    "                        quali_results_df['Season'] = year\n",
    "                        quali_results_df['Round'] = round_num\n",
    "                        quali_results_df['EventName'] = quali_session.event['EventName']\n",
    "                        quali_results_df['SessionType'] = 'Qualifying'\n",
    "                        all_qualifying_results.append(quali_results_df)\n",
    "                        print(f\"    Loaded {len(quali_results_df)} qualifying results entries for {quali_session_name}.\")\n",
    "\n",
    "                except Exception as e:\n",
    "                    print(f\"    Error loading Qualifying for {year} R{round_num}: {e}. Skipping qualifying data for this race.\")\n",
    "\n",
    "            except Exception as e:\n",
    "                print(f\"  CRITICAL ERROR loading session {year} R{round_num}: {e}. Skipping this race and round.\")\n",
    "\n",
    "    except Exception as e:\n",
    "        print(f\"Error retrieving schedule for {year}: {e}. This season might not exist or there's a connectivity issue. Skipping season.\")\n",
    "\n",
    "# --- 3. Concatenate All DataFrames ---\n",
    "print(\"\\n--- Concatenating collected data ---\")\n",
    "if all_race_results:\n",
    "    full_race_results_df = pd.concat(all_race_results, ignore_index=True)\n",
    "    print(\"\\n--- Full Race Results DataFrame ---\")\n",
    "    print(f\"Total entries in Race Results: {len(full_race_results_df)}\")\n",
    "    print(full_race_results_df.head())\n",
    "    print(full_race_results_df.info())\n",
    "else:\n",
    "    print(\"\\nNo race results data collected into a DataFrame.\")\n",
    "\n",
    "if all_qualifying_results:\n",
    "    full_quali_results_df = pd.concat(all_qualifying_results, ignore_index=True)\n",
    "    print(\"\\n--- Full Qualifying Results DataFrame ---\")\n",
    "    print(f\"Total entries in Qualifying Results: {len(full_quali_results_df)}\")\n",
    "    print(full_quali_results_df.head())\n",
    "    print(full_quali_results_df.info())\n",
    "else:\n",
    "    print(\"\\nNo qualifying results data collected into a DataFrame.\")\n",
    "\n",
    "print(\"\\n--- Data collection process finished ---\")"
   ]
  },
  {
   "cell_type": "markdown",
   "metadata": {},
   "source": [
    "## Data Preprocessing\n",
    "We now handle any missing values in the dataframe, ensuring appropriate format for training.\n",
    "The code cell below reveals the columns in `full_race_results_df`, from which we will remove the ones unnecessary in the training of the model."
   ]
  },
  {
   "cell_type": "code",
   "execution_count": 3,
   "metadata": {},
   "outputs": [
    {
     "data": {
      "text/plain": [
       "Index(['DriverNumber', 'BroadcastName', 'Abbreviation', 'DriverId', 'TeamName',\n",
       "       'TeamColor', 'TeamId', 'FirstName', 'LastName', 'FullName',\n",
       "       'HeadshotUrl', 'CountryCode', 'Position', 'ClassifiedPosition',\n",
       "       'GridPosition', 'Q1', 'Q2', 'Q3', 'Time', 'Status', 'Points', 'Laps',\n",
       "       'Season', 'Round', 'EventName', 'SessionType'],\n",
       "      dtype='object')"
      ]
     },
     "execution_count": 3,
     "metadata": {},
     "output_type": "execute_result"
    }
   ],
   "source": [
    "full_race_results_df.columns"
   ]
  },
  {
   "cell_type": "markdown",
   "metadata": {},
   "source": [
    "The columns `'DriverNumber', 'BroadcastName', 'DriverId', 'TeamColor', 'TeamId', 'FirstName', 'LastName', 'FullName', 'HeadshotUrl', 'CountryCode', 'ClassifiedPosition', 'Q1', 'Q2', 'Q3', 'Time', 'Status', 'Points', 'Laps', 'SessionType'` are dropped from the original DataFrame, and the resulting DataFrame is stored in `new_df`.\n",
    "\n",
    "As the model will be made to predict the raw `Position` of each driver, `ClassifiedPosition` is removed since race retirement is extremely situational and `Position` will instead be used as the target variable."
   ]
  },
  {
   "cell_type": "code",
   "execution_count": 4,
   "metadata": {},
   "outputs": [],
   "source": [
    "race_data_for_merge = full_race_results_df.drop(['DriverNumber', 'BroadcastName', 'DriverId', 'TeamColor', 'TeamId', 'FirstName', 'LastName', 'FullName', 'HeadshotUrl', 'CountryCode', 'ClassifiedPosition', 'Q1', 'Q2', 'Q3', 'Time', 'Status', 'Points', 'Laps', 'SessionType'], axis=1)"
   ]
  },
  {
   "cell_type": "markdown",
   "metadata": {},
   "source": [
    "`'Q1', 'Q2', and 'Q3'` are `timedelta` objects and are converted into seconds and stored respectively in the new columns `'Q1_s', 'Q2_s', and 'Q3_s'`. This will allow for its meaningful use when training the model."
   ]
  },
  {
   "cell_type": "code",
   "execution_count": 5,
   "metadata": {},
   "outputs": [],
   "source": [
    "# Creating new columns to hold values of 'Q1', 'Q2, and 'Q3' in seconds.\n",
    "full_quali_results_df['Q1_s'] = full_quali_results_df['Q1'].dt.total_seconds().fillna(9999.0)\n",
    "full_quali_results_df['Q2_s'] = full_quali_results_df['Q2'].dt.total_seconds().fillna(9999.0)\n",
    "full_quali_results_df['Q3_s'] = full_quali_results_df['Q3'].dt.total_seconds().fillna(9999.0)"
   ]
  },
  {
   "cell_type": "markdown",
   "metadata": {},
   "source": [
    "Since certain qualifying data are useful for training the model, we merge a subset of the 2 dataframes `full_race_results_df` and `full_quali_results_df`, keeping only the relevant information."
   ]
  },
  {
   "cell_type": "code",
   "execution_count": 6,
   "metadata": {},
   "outputs": [],
   "source": [
    "quali_data_for_merge = full_quali_results_df[['Abbreviation', 'Season', 'Round', 'EventName', 'Q1_s', 'Q2_s', 'Q3_s']].copy() \n",
    "\n",
    "merged_df = pd.merge(\n",
    "    race_data_for_merge,\n",
    "    quali_data_for_merge,\n",
    "    on=['Abbreviation', 'Season', 'Round', 'EventName'],\n",
    "    how='left'\n",
    ")\n",
    "\n",
    "# Organising columns for readability and easier management\n",
    "merged_df = merged_df[[    \n",
    "    'Season',         \n",
    "    'Round',\n",
    "    'EventName',\n",
    "    'Abbreviation',   # Driver identifier eg. 'VER', 'PER', 'ALO'\n",
    "    'TeamName',      \n",
    "    'GridPosition',   # Qualifying positions, also positions in which they start on during race\n",
    "    'Q1_s',           # Q1 time in seconds\n",
    "    'Q2_s',\n",
    "    'Q3_s',\n",
    "    'Position'        # The target variable for race prediction\n",
    "]]"
   ]
  },
  {
   "cell_type": "code",
   "execution_count": 7,
   "metadata": {},
   "outputs": [
    {
     "data": {
      "text/html": [
       "<div>\n",
       "<style scoped>\n",
       "    .dataframe tbody tr th:only-of-type {\n",
       "        vertical-align: middle;\n",
       "    }\n",
       "\n",
       "    .dataframe tbody tr th {\n",
       "        vertical-align: top;\n",
       "    }\n",
       "\n",
       "    .dataframe thead th {\n",
       "        text-align: right;\n",
       "    }\n",
       "</style>\n",
       "<table border=\"1\" class=\"dataframe\">\n",
       "  <thead>\n",
       "    <tr style=\"text-align: right;\">\n",
       "      <th></th>\n",
       "      <th>Season</th>\n",
       "      <th>Round</th>\n",
       "      <th>EventName</th>\n",
       "      <th>Abbreviation</th>\n",
       "      <th>TeamName</th>\n",
       "      <th>GridPosition</th>\n",
       "      <th>Q1_s</th>\n",
       "      <th>Q2_s</th>\n",
       "      <th>Q3_s</th>\n",
       "      <th>Position</th>\n",
       "    </tr>\n",
       "  </thead>\n",
       "  <tbody>\n",
       "    <tr>\n",
       "      <th>0</th>\n",
       "      <td>2023</td>\n",
       "      <td>1</td>\n",
       "      <td>Bahrain Grand Prix</td>\n",
       "      <td>VER</td>\n",
       "      <td>Red Bull Racing</td>\n",
       "      <td>1.0</td>\n",
       "      <td>91.295</td>\n",
       "      <td>90.503</td>\n",
       "      <td>89.708</td>\n",
       "      <td>1.0</td>\n",
       "    </tr>\n",
       "    <tr>\n",
       "      <th>1</th>\n",
       "      <td>2023</td>\n",
       "      <td>1</td>\n",
       "      <td>Bahrain Grand Prix</td>\n",
       "      <td>PER</td>\n",
       "      <td>Red Bull Racing</td>\n",
       "      <td>2.0</td>\n",
       "      <td>91.479</td>\n",
       "      <td>90.746</td>\n",
       "      <td>89.846</td>\n",
       "      <td>2.0</td>\n",
       "    </tr>\n",
       "    <tr>\n",
       "      <th>2</th>\n",
       "      <td>2023</td>\n",
       "      <td>1</td>\n",
       "      <td>Bahrain Grand Prix</td>\n",
       "      <td>ALO</td>\n",
       "      <td>Aston Martin</td>\n",
       "      <td>5.0</td>\n",
       "      <td>91.158</td>\n",
       "      <td>90.645</td>\n",
       "      <td>90.336</td>\n",
       "      <td>3.0</td>\n",
       "    </tr>\n",
       "    <tr>\n",
       "      <th>3</th>\n",
       "      <td>2023</td>\n",
       "      <td>1</td>\n",
       "      <td>Bahrain Grand Prix</td>\n",
       "      <td>SAI</td>\n",
       "      <td>Ferrari</td>\n",
       "      <td>4.0</td>\n",
       "      <td>90.993</td>\n",
       "      <td>90.515</td>\n",
       "      <td>90.154</td>\n",
       "      <td>4.0</td>\n",
       "    </tr>\n",
       "    <tr>\n",
       "      <th>4</th>\n",
       "      <td>2023</td>\n",
       "      <td>1</td>\n",
       "      <td>Bahrain Grand Prix</td>\n",
       "      <td>HAM</td>\n",
       "      <td>Mercedes</td>\n",
       "      <td>7.0</td>\n",
       "      <td>91.543</td>\n",
       "      <td>90.513</td>\n",
       "      <td>90.384</td>\n",
       "      <td>5.0</td>\n",
       "    </tr>\n",
       "    <tr>\n",
       "      <th>5</th>\n",
       "      <td>2023</td>\n",
       "      <td>1</td>\n",
       "      <td>Bahrain Grand Prix</td>\n",
       "      <td>STR</td>\n",
       "      <td>Aston Martin</td>\n",
       "      <td>8.0</td>\n",
       "      <td>91.184</td>\n",
       "      <td>91.127</td>\n",
       "      <td>90.836</td>\n",
       "      <td>6.0</td>\n",
       "    </tr>\n",
       "    <tr>\n",
       "      <th>6</th>\n",
       "      <td>2023</td>\n",
       "      <td>1</td>\n",
       "      <td>Bahrain Grand Prix</td>\n",
       "      <td>RUS</td>\n",
       "      <td>Mercedes</td>\n",
       "      <td>6.0</td>\n",
       "      <td>91.057</td>\n",
       "      <td>90.507</td>\n",
       "      <td>90.340</td>\n",
       "      <td>7.0</td>\n",
       "    </tr>\n",
       "    <tr>\n",
       "      <th>7</th>\n",
       "      <td>2023</td>\n",
       "      <td>1</td>\n",
       "      <td>Bahrain Grand Prix</td>\n",
       "      <td>BOT</td>\n",
       "      <td>Alfa Romeo</td>\n",
       "      <td>12.0</td>\n",
       "      <td>91.504</td>\n",
       "      <td>91.443</td>\n",
       "      <td>9999.000</td>\n",
       "      <td>8.0</td>\n",
       "    </tr>\n",
       "    <tr>\n",
       "      <th>8</th>\n",
       "      <td>2023</td>\n",
       "      <td>1</td>\n",
       "      <td>Bahrain Grand Prix</td>\n",
       "      <td>GAS</td>\n",
       "      <td>Alpine</td>\n",
       "      <td>20.0</td>\n",
       "      <td>92.181</td>\n",
       "      <td>9999.000</td>\n",
       "      <td>9999.000</td>\n",
       "      <td>9.0</td>\n",
       "    </tr>\n",
       "    <tr>\n",
       "      <th>9</th>\n",
       "      <td>2023</td>\n",
       "      <td>1</td>\n",
       "      <td>Bahrain Grand Prix</td>\n",
       "      <td>ALB</td>\n",
       "      <td>Williams</td>\n",
       "      <td>15.0</td>\n",
       "      <td>91.461</td>\n",
       "      <td>9999.000</td>\n",
       "      <td>9999.000</td>\n",
       "      <td>10.0</td>\n",
       "    </tr>\n",
       "    <tr>\n",
       "      <th>10</th>\n",
       "      <td>2023</td>\n",
       "      <td>1</td>\n",
       "      <td>Bahrain Grand Prix</td>\n",
       "      <td>TSU</td>\n",
       "      <td>AlphaTauri</td>\n",
       "      <td>14.0</td>\n",
       "      <td>91.400</td>\n",
       "      <td>92.510</td>\n",
       "      <td>9999.000</td>\n",
       "      <td>11.0</td>\n",
       "    </tr>\n",
       "    <tr>\n",
       "      <th>11</th>\n",
       "      <td>2023</td>\n",
       "      <td>1</td>\n",
       "      <td>Bahrain Grand Prix</td>\n",
       "      <td>SAR</td>\n",
       "      <td>Williams</td>\n",
       "      <td>16.0</td>\n",
       "      <td>91.652</td>\n",
       "      <td>9999.000</td>\n",
       "      <td>9999.000</td>\n",
       "      <td>12.0</td>\n",
       "    </tr>\n",
       "    <tr>\n",
       "      <th>12</th>\n",
       "      <td>2023</td>\n",
       "      <td>1</td>\n",
       "      <td>Bahrain Grand Prix</td>\n",
       "      <td>MAG</td>\n",
       "      <td>Haas F1 Team</td>\n",
       "      <td>17.0</td>\n",
       "      <td>91.892</td>\n",
       "      <td>9999.000</td>\n",
       "      <td>9999.000</td>\n",
       "      <td>13.0</td>\n",
       "    </tr>\n",
       "    <tr>\n",
       "      <th>13</th>\n",
       "      <td>2023</td>\n",
       "      <td>1</td>\n",
       "      <td>Bahrain Grand Prix</td>\n",
       "      <td>DEV</td>\n",
       "      <td>AlphaTauri</td>\n",
       "      <td>19.0</td>\n",
       "      <td>92.121</td>\n",
       "      <td>9999.000</td>\n",
       "      <td>9999.000</td>\n",
       "      <td>14.0</td>\n",
       "    </tr>\n",
       "    <tr>\n",
       "      <th>14</th>\n",
       "      <td>2023</td>\n",
       "      <td>1</td>\n",
       "      <td>Bahrain Grand Prix</td>\n",
       "      <td>HUL</td>\n",
       "      <td>Haas F1 Team</td>\n",
       "      <td>10.0</td>\n",
       "      <td>91.204</td>\n",
       "      <td>90.809</td>\n",
       "      <td>9999.000</td>\n",
       "      <td>15.0</td>\n",
       "    </tr>\n",
       "    <tr>\n",
       "      <th>15</th>\n",
       "      <td>2023</td>\n",
       "      <td>1</td>\n",
       "      <td>Bahrain Grand Prix</td>\n",
       "      <td>ZHO</td>\n",
       "      <td>Alfa Romeo</td>\n",
       "      <td>13.0</td>\n",
       "      <td>91.615</td>\n",
       "      <td>91.473</td>\n",
       "      <td>9999.000</td>\n",
       "      <td>16.0</td>\n",
       "    </tr>\n",
       "    <tr>\n",
       "      <th>16</th>\n",
       "      <td>2023</td>\n",
       "      <td>1</td>\n",
       "      <td>Bahrain Grand Prix</td>\n",
       "      <td>NOR</td>\n",
       "      <td>McLaren</td>\n",
       "      <td>11.0</td>\n",
       "      <td>91.652</td>\n",
       "      <td>91.381</td>\n",
       "      <td>9999.000</td>\n",
       "      <td>17.0</td>\n",
       "    </tr>\n",
       "    <tr>\n",
       "      <th>17</th>\n",
       "      <td>2023</td>\n",
       "      <td>1</td>\n",
       "      <td>Bahrain Grand Prix</td>\n",
       "      <td>OCO</td>\n",
       "      <td>Alpine</td>\n",
       "      <td>9.0</td>\n",
       "      <td>91.508</td>\n",
       "      <td>90.914</td>\n",
       "      <td>90.984</td>\n",
       "      <td>18.0</td>\n",
       "    </tr>\n",
       "    <tr>\n",
       "      <th>18</th>\n",
       "      <td>2023</td>\n",
       "      <td>1</td>\n",
       "      <td>Bahrain Grand Prix</td>\n",
       "      <td>LEC</td>\n",
       "      <td>Ferrari</td>\n",
       "      <td>3.0</td>\n",
       "      <td>91.094</td>\n",
       "      <td>90.282</td>\n",
       "      <td>90.000</td>\n",
       "      <td>19.0</td>\n",
       "    </tr>\n",
       "    <tr>\n",
       "      <th>19</th>\n",
       "      <td>2023</td>\n",
       "      <td>1</td>\n",
       "      <td>Bahrain Grand Prix</td>\n",
       "      <td>PIA</td>\n",
       "      <td>McLaren</td>\n",
       "      <td>18.0</td>\n",
       "      <td>92.101</td>\n",
       "      <td>9999.000</td>\n",
       "      <td>9999.000</td>\n",
       "      <td>20.0</td>\n",
       "    </tr>\n",
       "  </tbody>\n",
       "</table>\n",
       "</div>"
      ],
      "text/plain": [
       "    Season  Round           EventName Abbreviation         TeamName  \\\n",
       "0     2023      1  Bahrain Grand Prix          VER  Red Bull Racing   \n",
       "1     2023      1  Bahrain Grand Prix          PER  Red Bull Racing   \n",
       "2     2023      1  Bahrain Grand Prix          ALO     Aston Martin   \n",
       "3     2023      1  Bahrain Grand Prix          SAI          Ferrari   \n",
       "4     2023      1  Bahrain Grand Prix          HAM         Mercedes   \n",
       "5     2023      1  Bahrain Grand Prix          STR     Aston Martin   \n",
       "6     2023      1  Bahrain Grand Prix          RUS         Mercedes   \n",
       "7     2023      1  Bahrain Grand Prix          BOT       Alfa Romeo   \n",
       "8     2023      1  Bahrain Grand Prix          GAS           Alpine   \n",
       "9     2023      1  Bahrain Grand Prix          ALB         Williams   \n",
       "10    2023      1  Bahrain Grand Prix          TSU       AlphaTauri   \n",
       "11    2023      1  Bahrain Grand Prix          SAR         Williams   \n",
       "12    2023      1  Bahrain Grand Prix          MAG     Haas F1 Team   \n",
       "13    2023      1  Bahrain Grand Prix          DEV       AlphaTauri   \n",
       "14    2023      1  Bahrain Grand Prix          HUL     Haas F1 Team   \n",
       "15    2023      1  Bahrain Grand Prix          ZHO       Alfa Romeo   \n",
       "16    2023      1  Bahrain Grand Prix          NOR          McLaren   \n",
       "17    2023      1  Bahrain Grand Prix          OCO           Alpine   \n",
       "18    2023      1  Bahrain Grand Prix          LEC          Ferrari   \n",
       "19    2023      1  Bahrain Grand Prix          PIA          McLaren   \n",
       "\n",
       "    GridPosition    Q1_s      Q2_s      Q3_s  Position  \n",
       "0            1.0  91.295    90.503    89.708       1.0  \n",
       "1            2.0  91.479    90.746    89.846       2.0  \n",
       "2            5.0  91.158    90.645    90.336       3.0  \n",
       "3            4.0  90.993    90.515    90.154       4.0  \n",
       "4            7.0  91.543    90.513    90.384       5.0  \n",
       "5            8.0  91.184    91.127    90.836       6.0  \n",
       "6            6.0  91.057    90.507    90.340       7.0  \n",
       "7           12.0  91.504    91.443  9999.000       8.0  \n",
       "8           20.0  92.181  9999.000  9999.000       9.0  \n",
       "9           15.0  91.461  9999.000  9999.000      10.0  \n",
       "10          14.0  91.400    92.510  9999.000      11.0  \n",
       "11          16.0  91.652  9999.000  9999.000      12.0  \n",
       "12          17.0  91.892  9999.000  9999.000      13.0  \n",
       "13          19.0  92.121  9999.000  9999.000      14.0  \n",
       "14          10.0  91.204    90.809  9999.000      15.0  \n",
       "15          13.0  91.615    91.473  9999.000      16.0  \n",
       "16          11.0  91.652    91.381  9999.000      17.0  \n",
       "17           9.0  91.508    90.914    90.984      18.0  \n",
       "18           3.0  91.094    90.282    90.000      19.0  \n",
       "19          18.0  92.101  9999.000  9999.000      20.0  "
      ]
     },
     "execution_count": 7,
     "metadata": {},
     "output_type": "execute_result"
    }
   ],
   "source": [
    "quali_data_for_merge = full_quali_results_df[['Abbreviation', 'Season', 'Round', 'EventName', 'Q1_s', 'Q2_s', 'Q3_s']].copy()\n",
    "\n",
    "merged_df = pd.merge(\n",
    "    race_data_for_merge,\n",
    "    quali_data_for_merge,\n",
    "    on=['Abbreviation', 'Season', 'Round', 'EventName'],\n",
    "    how='left'\n",
    ")\n",
    "\n",
    "# Organising columns for readability and easier management\n",
    "merged_df = merged_df[[\n",
    "    'Season', \n",
    "    'Round',\n",
    "    'EventName',\n",
    "    'Abbreviation', # Driver identifier eg. 'VER', 'PER', 'ALO'\n",
    "    'TeamName',\n",
    "    'GridPosition', # Qualifying positions, also positions in which they start on during race\n",
    "    'Q1_s', # Q1 time in seconds\n",
    "    'Q2_s',\n",
    "    'Q3_s',\n",
    "    'Position' # The target variable for race prediction\n",
    "]]\n",
    "\n",
    "merged_df.head(20) # DataFrame snippet of race 1"
   ]
  },
  {
   "cell_type": "markdown",
   "metadata": {},
   "source": [
    "During the 2023 Singapore Grand Prix, driver Lance Stroll was withdrawn from the Sunday race following a heavy crash during Saturday's qualifying session. \n",
    "\n",
    "As a result, we see an empty value for Stroll's `'GridPosition'` and `'Position'`for the event.\n",
    "\n",
    "As there are instances (rows 197, 241, 278, 633) where drivers starting from the pitlanes has resulted in `'GridPosition'` and `'Position'` holding the value of 0.0, we deduce that this is an anomaly on the side of the API."
   ]
  },
  {
   "cell_type": "code",
   "execution_count": null,
   "metadata": {},
   "outputs": [
    {
     "name": "stdout",
     "output_type": "stream",
     "text": [
      "Number of rows with missing values for 'GridPosition' before cleaning: 0\n",
      "Number of rows with missing values for 'GridPosition' after cleaning: 0\n"
     ]
    }
   ],
   "source": [
    "# Result should be 1, referring to this singular anomaly\n",
    "print(\"Number of rows with missing values for 'GridPosition' before cleaning:\", merged_df['GridPosition'].isna().sum())\n",
    "\n",
    "# A simple fix would be to replace all missing values with 0.0\n",
    "merged_df.loc[merged_df['GridPosition'].isna(), 'GridPosition'] = 0.0\n",
    "merged_df.loc[merged_df['Position'].isna(), 'Position'] = 0.0\n",
    "\n",
    "# Result after cleaning\n",
    "print(\"Number of rows with missing values for 'GridPosition' after cleaning:\", merged_df['GridPosition'].isna().sum())\n",
    "\n",
    "#merged_df.to_csv(os.path.join(os.getcwd(), 'merged_df.csv'), index=False) # This line creates a .csv file for better visualisation"
   ]
  },
  {
   "cell_type": "markdown",
   "metadata": {},
   "source": [
    "#### One-hot Encoding\n",
    "\n",
    "Now that we have the prepared `merged_df`, we have to convert categorical (non-numerical) data into a numerical format that machine learning algorithms can understand and process effectively. \n",
    "\n",
    "Let us look at the `'TeamName'` column. Without one-hot encoding, if we were to simply assign each team values eg. Red Bull = 1, Ferrari = 2, Mercedes = 3, a machine learning model would interpret these numbers as having an inherent order or magnitude. It might think that Mercedes (3) is \"better\" or \"more important\" or \"further away\" from Red Bull (1) than Ferrari (2) is. This is clearly false for nominal categories like team names, where there's no inherent numerical relationship. This false ordinality can mislead the model and lead to incorrect predictions or reduced performance.\n",
    "\n",
    "With one-hot encoding, we create new binary (0 or 1) columns for every team that exists. If in row 1 was Max Verstappen from team Red bull Racing, we would now have a value of 1 in Team_RedBull and a 0 in the columns of every other team."
   ]
  },
  {
   "cell_type": "code",
   "execution_count": null,
   "metadata": {},
   "outputs": [
    {
     "name": "stdout",
     "output_type": "stream",
     "text": [
      "\n",
      "Original DataFrame shape: (878, 10)\n",
      "Encoded DataFrame shape: (878, 65)\n"
     ]
    }
   ],
   "source": [
    "# Define categorical columns for one-hot encoding\n",
    "categorical_cols_to_encode = ['Abbreviation', 'TeamName', 'EventName']\n",
    "\n",
    "# Perform One-Hot Encoding\n",
    "# drop_first=True prevents multicollinearity; dtype=int ensures binary integers\n",
    "merged_df_encoded = pd.get_dummies(\n",
    "    merged_df,\n",
    "    columns=categorical_cols_to_encode,\n",
    "    drop_first=True,\n",
    "    dtype=int\n",
    ")\n",
    "\n",
    "# Note the increase in number of columns after encoding\n",
    "print(f\"\\nOriginal DataFrame shape: {merged_df.shape}\")\n",
    "print(f\"Encoded DataFrame shape: {merged_df_encoded.shape}\")\n",
    "\n",
    "#merged_df_encoded.to_csv(os.path.join(os.getcwd(), 'merged_df_encoded.csv'), index=False) # This line creates a .csv file for better visualisation"
   ]
  },
  {
   "cell_type": "markdown",
   "metadata": {},
   "source": [
    "## Model Selection\n",
    "\n",
    "Splitting data into features (X) and the target variable (y)."
   ]
  },
  {
   "cell_type": "code",
   "execution_count": 10,
   "metadata": {},
   "outputs": [
    {
     "name": "stdout",
     "output_type": "stream",
     "text": [
      "\n",
      "X shape: (878, 64)\n",
      "y shape: (878,)\n"
     ]
    }
   ],
   "source": [
    "# Define the target variable\n",
    "y = merged_df_encoded['Position']\n",
    "\n",
    "# Define the features (X) by dropping the target and any other non-feature columns\n",
    "columns_to_exclude_from_X = ['Position'] # Only exclude the target variable\n",
    "\n",
    "X = merged_df_encoded.drop(columns=columns_to_exclude_from_X, axis=1)\n",
    "\n",
    "print(f\"\\nX shape: {X.shape}\")\n",
    "print(f\"y shape: {y.shape}\")"
   ]
  },
  {
   "cell_type": "markdown",
   "metadata": {},
   "source": [
    "Dividing the data into training and testing sets."
   ]
  },
  {
   "cell_type": "code",
   "execution_count": 11,
   "metadata": {},
   "outputs": [
    {
     "name": "stdout",
     "output_type": "stream",
     "text": [
      "\n",
      "Train set shape (X_train, y_train): (702, 64), (702,)\n",
      "Test set shape (X_test, y_test): (176, 64), (176,)\n"
     ]
    }
   ],
   "source": [
    "from sklearn.model_selection import train_test_split\n",
    "\n",
    "# Split the data with 80% for training and 20% for testing\n",
    "# random_state ensures reproducibility of your split\n",
    "X_train, X_test, y_train, y_test = train_test_split(X, y, test_size=0.2, random_state=42)\n",
    "\n",
    "print(f\"\\nTrain set shape (X_train, y_train): {X_train.shape}, {y_train.shape}\")\n",
    "print(f\"Test set shape (X_test, y_test): {X_test.shape}, {y_test.shape}\")"
   ]
  },
  {
   "cell_type": "markdown",
   "metadata": {},
   "source": [
    "Choose __Candidate Models__ and define __Hyperparameter Grids__"
   ]
  },
  {
   "cell_type": "code",
   "execution_count": 12,
   "metadata": {},
   "outputs": [],
   "source": [
    "from sklearn.ensemble import RandomForestRegressor, GradientBoostingRegressor\n",
    "from sklearn.model_selection import GridSearchCV, RandomizedSearchCV\n",
    "from sklearn.metrics import mean_absolute_error, make_scorer\n",
    "import joblib # To save the model\n",
    "\n",
    "# Define the scoring metric for optimization\n",
    "# For MAE, lower is better, so we use 'neg_mean_absolute_error' for GridSearchCV\n",
    "# which maximizes the score.\n",
    "mae_scorer = make_scorer(mean_absolute_error, greater_is_better=False)\n",
    "\n",
    "# --- Model 1: RandomForestRegressor ---\n",
    "rf_model = RandomForestRegressor(random_state=42)\n",
    "rf_param_grid = {\n",
    "    'n_estimators': [100, 200, 300],\n",
    "    'max_features': [0.6, 0.8, 1.0],\n",
    "    'min_samples_leaf': [1, 2, 4],\n",
    "}\n",
    "\n",
    "# --- Model 2: GradientBoostingRegressor ---\n",
    "gb_model = GradientBoostingRegressor(random_state=42)\n",
    "gb_param_grid = {\n",
    "    'n_estimators': [100, 200, 300, 700],\n",
    "    'learning_rate': [0.01, 0.05, 0.1],\n",
    "    'max_depth': [3, 4, 5],\n",
    "}\n",
    "\n",
    "# You could add more models here, e.g.,\n",
    "# from xgboost import XGBRegressor\n",
    "# xgb_model = XGBRegressor(random_state=42)\n",
    "# xgb_param_grid = { ... }"
   ]
  },
  {
   "cell_type": "markdown",
   "metadata": {},
   "source": [
    "Perform __Hyperparameter Tuning__ with Cross-Validation (GridSearchCV)"
   ]
  },
  {
   "cell_type": "code",
   "execution_count": 13,
   "metadata": {},
   "outputs": [
    {
     "name": "stdout",
     "output_type": "stream",
     "text": [
      "\n",
      "--- Starting GridSearchCV for RandomForestRegressor ---\n",
      "Fitting 5 folds for each of 27 candidates, totalling 135 fits\n",
      "\n",
      "Best parameters for RandomForestRegressor: {'max_features': 0.6, 'min_samples_leaf': 2, 'n_estimators': 300}\n",
      "Best cross-validated MAE for RandomForestRegressor: 3.2466499917244094\n",
      "\n",
      "--- Starting GridSearchCV for GradientBoostingRegressor ---\n",
      "Fitting 5 folds for each of 36 candidates, totalling 180 fits\n",
      "\n",
      "Best parameters for GradientBoostingRegressor: {'learning_rate': 0.01, 'max_depth': 3, 'n_estimators': 700}\n",
      "Best cross-validated MAE for GradientBoostingRegressor: 3.153530733884392\n"
     ]
    }
   ],
   "source": [
    "# --- GridSearchCV for RandomForestRegressor ---\n",
    "print(\"\\n--- Starting GridSearchCV for RandomForestRegressor ---\")\n",
    "rf_grid_search = GridSearchCV(\n",
    "    estimator=rf_model,\n",
    "    param_grid=rf_param_grid,\n",
    "    scoring=mae_scorer,\n",
    "    cv=5,            # 5-fold cross-validation\n",
    "    n_jobs=-1,       # Use all available CPU cores\n",
    "    verbose=1        # Show progress\n",
    ")\n",
    "rf_grid_search.fit(X_train, y_train)\n",
    "\n",
    "print(\"\\nBest parameters for RandomForestRegressor:\", rf_grid_search.best_params_)\n",
    "print(\"Best cross-validated MAE for RandomForestRegressor:\", -rf_grid_search.best_score_)\n",
    "\n",
    "\n",
    "# --- GridSearchCV for GradientBoostingRegressor ---\n",
    "print(\"\\n--- Starting GridSearchCV for GradientBoostingRegressor ---\")\n",
    "gb_grid_search = GridSearchCV(\n",
    "    estimator=gb_model,\n",
    "    param_grid=gb_param_grid,\n",
    "    scoring=mae_scorer,\n",
    "    cv=5,\n",
    "    n_jobs=-1,\n",
    "    verbose=1\n",
    ")\n",
    "gb_grid_search.fit(X_train, y_train)\n",
    "\n",
    "print(\"\\nBest parameters for GradientBoostingRegressor:\", gb_grid_search.best_params_)\n",
    "print(\"Best cross-validated MAE for GradientBoostingRegressor:\", -gb_grid_search.best_score_)"
   ]
  },
  {
   "cell_type": "code",
   "execution_count": 14,
   "metadata": {},
   "outputs": [
    {
     "name": "stdout",
     "output_type": "stream",
     "text": [
      "\n",
      "--- GradientBoostingRegressor Evaluation ---\n"
     ]
    }
   ],
   "source": [
    "from sklearn.metrics import mean_absolute_error, r2_score, mean_squared_error\n",
    "import joblib # For model persistence\n",
    "\n",
    "best_gb_model = gb_grid_search.best_estimator_\n",
    "\n",
    "gb_predictions = best_gb_model.predict(X_test)\n",
    "\n",
    "print(\"\\n--- GradientBoostingRegressor Evaluation ---\")\n",
    "gb_mae = mean_absolute_error(y_test, gb_predictions)\n",
    "gb_r2 = r2_score(y_test, gb_predictions)\n",
    "gb_rmse = np.sqrt(mean_squared_error(y_test, gb_predictions))"
   ]
  },
  {
   "cell_type": "markdown",
   "metadata": {},
   "source": [
    " Evaluate the Best Models on the Test Set\n"
   ]
  },
  {
   "cell_type": "code",
   "execution_count": 15,
   "metadata": {},
   "outputs": [
    {
     "name": "stdout",
     "output_type": "stream",
     "text": [
      "--- Step 5: Evaluate the Best Models on the Test Set ---\n",
      "\n",
      "--- RandomForestRegressor Evaluation ---\n",
      "RandomForestRegressor MAE on Test Set: 3.0805\n",
      "RandomForestRegressor R2 on Test Set: 0.4046\n",
      "RandomForestRegressor RMSE on Test Set: 4.1315\n",
      "\n",
      "--- GradientBoostingRegressor Evaluation ---\n",
      "GradientBoostingRegressor MAE on Test Set: 2.9869\n",
      "GradientBoostingRegressor R2 on Test Set: 0.4133\n",
      "GradientBoostingRegressor RMSE on Test Set: 4.1013\n",
      "\n",
      "--- Model Comparison ---\n",
      "GradientBoostingRegressor performed better in terms of MAE.\n"
     ]
    }
   ],
   "source": [
    "from sklearn.metrics import mean_absolute_error, r2_score, mean_squared_error\n",
    "import joblib # For model persistence\n",
    "\n",
    "print(\"--- Step 5: Evaluate the Best Models on the Test Set ---\")\n",
    "\n",
    "# Retrieve the best models from GridSearchCV\n",
    "best_rf_model = rf_grid_search.best_estimator_\n",
    "best_gb_model = gb_grid_search.best_estimator_\n",
    "\n",
    "# Make predictions on the test set\n",
    "rf_predictions = best_rf_model.predict(X_test)\n",
    "gb_predictions = best_gb_model.predict(X_test)\n",
    "\n",
    "print(\"\\n--- RandomForestRegressor Evaluation ---\")\n",
    "rf_mae = mean_absolute_error(y_test, rf_predictions)\n",
    "rf_r2 = r2_score(y_test, rf_predictions)\n",
    "rf_rmse = np.sqrt(mean_squared_error(y_test, rf_predictions))\n",
    "\n",
    "print(f\"RandomForestRegressor MAE on Test Set: {rf_mae:.4f}\")\n",
    "print(f\"RandomForestRegressor R2 on Test Set: {rf_r2:.4f}\")\n",
    "print(f\"RandomForestRegressor RMSE on Test Set: {rf_rmse:.4f}\")\n",
    "\n",
    "print(\"\\n--- GradientBoostingRegressor Evaluation ---\")\n",
    "gb_mae = mean_absolute_error(y_test, gb_predictions)\n",
    "gb_r2 = r2_score(y_test, gb_predictions)\n",
    "gb_rmse = np.sqrt(mean_squared_error(y_test, gb_predictions))\n",
    "\n",
    "print(f\"GradientBoostingRegressor MAE on Test Set: {gb_mae:.4f}\")\n",
    "print(f\"GradientBoostingRegressor R2 on Test Set: {gb_r2:.4f}\")\n",
    "print(f\"GradientBoostingRegressor RMSE on Test Set: {gb_rmse:.4f}\")\n",
    "\n",
    "# You can also compare them:\n",
    "print(\"\\n--- Model Comparison ---\")\n",
    "if rf_mae < gb_mae:\n",
    "    print(\"RandomForestRegressor performed better in terms of MAE.\")\n",
    "elif gb_mae < rf_mae:\n",
    "    print(\"GradientBoostingRegressor performed better in terms of MAE.\")\n",
    "else:\n",
    "    print(\"Both models have similar MAE.\")\n",
    "\n",
    "# Optional: Store evaluation metrics for later analysis if needed\n",
    "evaluation_results = {\n",
    "    'RandomForestRegressor': {'MAE': rf_mae, 'R2': rf_r2, 'RMSE': rf_rmse},\n",
    "    'GradientBoostingRegressor': {'MAE': gb_mae, 'R2': gb_r2, 'RMSE': gb_rmse}\n",
    "}"
   ]
  },
  {
   "cell_type": "markdown",
   "metadata": {},
   "source": [
    "Select the Final Model and Model Persistence"
   ]
  },
  {
   "cell_type": "code",
   "execution_count": 16,
   "metadata": {},
   "outputs": [
    {
     "name": "stdout",
     "output_type": "stream",
     "text": [
      "--- Model Selection ---\n",
      "\n",
      "Selected final model: GradientBoosting\n",
      "Best parameters for selected model:\n",
      "{'alpha': 0.9, 'ccp_alpha': 0.0, 'criterion': 'friedman_mse', 'init': None, 'learning_rate': 0.01, 'loss': 'squared_error', 'max_depth': 3, 'max_features': None, 'max_leaf_nodes': None, 'min_impurity_decrease': 0.0, 'min_samples_leaf': 1, 'min_samples_split': 2, 'min_weight_fraction_leaf': 0.0, 'n_estimators': 700, 'n_iter_no_change': None, 'random_state': 42, 'subsample': 1.0, 'tol': 0.0001, 'validation_fraction': 0.1, 'verbose': 0, 'warm_start': False}\n",
      "\n",
      "Model saved successfully to: C:\\Users\\CLL\\OneDrive\\Documents\\GitHub\\F1-Predictor\\models\\GradientBoosting_F1_Race_Predictor_model.joblib\n",
      "\n",
      "--- Verifying Model Loading (Optional) ---\n",
      "Model loaded successfully: GradientBoostingRegressor(learning_rate=0.01, n_estimators=700, random_state=42)\n"
     ]
    }
   ],
   "source": [
    "import joblib\n",
    "import os # For managing file paths\n",
    "from sklearn.ensemble import GradientBoostingRegressor # Import the specific model class\n",
    "\n",
    "print(\"--- Model Selection ---\")\n",
    "\n",
    "# Based on evaluation results, GradientBoostingRegressor is the chosen model.\n",
    "best_model_to_save = gb_grid_search.best_estimator_ # Access the best estimator from GridSearchCV\n",
    "model_name = \"GradientBoosting\"\n",
    "\n",
    "print(f\"\\nSelected final model: {model_name}\")\n",
    "print(\"Best parameters for selected model:\")\n",
    "print(best_model_to_save.get_params())\n",
    "\n",
    "\n",
    "# Model Persistence (Saving the Model)\n",
    "model_dir = 'C:\\\\Users\\\\CLL\\\\OneDrive\\\\Documents\\\\GitHub\\\\F1-Predictor\\\\models' \n",
    "\n",
    "# Create the directory if it doesn't exist\n",
    "os.makedirs(model_dir, exist_ok=True)\n",
    "\n",
    "model_filename = os.path.join(model_dir, f'{model_name}_F1_Race_Predictor_model.joblib')\n",
    "\n",
    "joblib.dump(best_model_to_save, model_filename, compress=3)\n",
    "\n",
    "print(f\"\\nModel saved successfully to: {model_filename}\")\n",
    "\n",
    "# Loading the Model to Verify \n",
    "print(\"\\n--- Verifying Model Loading (Optional) ---\")\n",
    "loaded_model = joblib.load(model_filename)\n",
    "print(f\"Model loaded successfully: {loaded_model}\")"
   ]
  }
 ],
 "metadata": {
  "kernelspec": {
   "display_name": "Python 3",
   "language": "python",
   "name": "python3"
  },
  "language_info": {
   "codemirror_mode": {
    "name": "ipython",
    "version": 3
   },
   "file_extension": ".py",
   "mimetype": "text/x-python",
   "name": "python",
   "nbconvert_exporter": "python",
   "pygments_lexer": "ipython3",
   "version": "3.13.0"
  }
 },
 "nbformat": 4,
 "nbformat_minor": 2
}
