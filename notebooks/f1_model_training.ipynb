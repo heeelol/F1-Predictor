{
 "cells": [
  {
   "cell_type": "markdown",
   "metadata": {},
   "source": [
    "## Introduction\n",
    "\n",
    "This notebook is dedicated to developing a robust machine learning model capable of accurately predicting Formula 1 race ranks, providing valuable insights for F1 enthusiasts and strategic analysis.\n",
    "\n",
    "Building upon the comprehensive data exploration and feature engineering from `f1_data_exploration.ipynb`, we consolidate relevant race and qualifying data into a unified pandas DataFrame. This dataset is then meticulously cleaned and prepared, leveraging a diverse set of features encompassing driver and constructor historical performance, qualifying results, circuit characteristics, and more, to capture the complex dynamics of F1 racing.\n",
    "\n",
    "The core of this notebook focuses on identifying the most suitable machine learning model and its respective hyperparameters. We will systematically explore `RandomForestRegressor` and `GradientBoostingRegressor` using advanced cross-validation and hyperparameter tuning techniques from `sklearn.model_selection`. The optimization process will prioritize not just the accuracy of predicted F1 race results, but also the efficiency and generalization of the training procedure. Model performance will be rigorously evaluated using metrics such as Mean Absolute Error (MAE) and R-squared, with a particular focus on how well the model predicts the actual finishing order.\n",
    "\n",
    "Finally, the best-performing model, along with its optimized parameters, will be serialized and saved as `f1_rank_predictor.pkl` in the `models/` directory, ready for seamless integration into the backend prediction service."
   ]
  },
  {
   "cell_type": "markdown",
   "metadata": {},
   "source": [
    "## Imports and setup"
   ]
  },
  {
   "cell_type": "code",
   "execution_count": 20,
   "metadata": {},
   "outputs": [],
   "source": [
    "import pandas as pd\n",
    "import numpy as np\n",
    "import matplotlib.pyplot as plt\n",
    "import seaborn as sns\n",
    "from sklearn.model_selection import train_test_split\n",
    "from sklearn.ensemble import RandomForestRegressor\n",
    "from sklearn.metrics import mean_absolute_error\n",
    "import joblib\n",
    "import fastf1\n",
    "import os"
   ]
  },
  {
   "cell_type": "markdown",
   "metadata": {},
   "source": [
    "## Loading Race Data\n",
    "\n",
    "Race data for years 2015 to 2025 are loaded into `notebooks\\data_cache`."
   ]
  },
  {
   "cell_type": "code",
   "execution_count": 21,
   "metadata": {},
   "outputs": [
    {
     "name": "stdout",
     "output_type": "stream",
     "text": [
      "Cache directory already exists: ./data_cache\n",
      "FastF1 caching enabled to './data_cache'\n",
      "\n",
      "FastF1 log level set to default (INFO) to show all messages.\n",
      "\n",
      "--- Starting data collection for seasons 2015 to 2025 ---\n",
      "\n",
      "Processing season: 2015\n",
      "  Attempting to get event schedule for 2015...\n"
     ]
    },
    {
     "name": "stderr",
     "output_type": "stream",
     "text": [
      "core           INFO \tLoading data for Australian Grand Prix - Race [v3.6.0]\n",
      "req            INFO \tNo cached data found for session_info. Loading data...\n",
      "_api           INFO \tFetching session info data...\n"
     ]
    },
    {
     "name": "stdout",
     "output_type": "stream",
     "text": [
      "  Schedule loaded for 2015. Found 19 events.\n",
      "  Filtered for 'conventional'/'sprint' race events. Found 19 race weekends.\n",
      "  -> Attempting to load data for 2015 Round 1...\n",
      "    Loading 2015 Round 1 (Race)...\n"
     ]
    },
    {
     "name": "stderr",
     "output_type": "stream",
     "text": [
      "logger      WARNING \tFailed to load session info data!\n",
      "core        WARNING \tCannot load laps, telemetry, weather, and message data because the relevant API is not supported for this session.\n",
      "core           INFO \tFinished loading data for 18 drivers: ['44', '6', '5', '19', '12', '3', '27', '9', '55', '11', '22', '7', '33', '8', '13', '26', '20', '77']\n",
      "core           INFO \tLoading data for Australian Grand Prix - Qualifying [v3.6.0]\n",
      "req            INFO \tNo cached data found for session_info. Loading data...\n",
      "_api           INFO \tFetching session info data...\n"
     ]
    },
    {
     "name": "stdout",
     "output_type": "stream",
     "text": [
      "    Loaded 18 race results entries for 2015 Round 1 (Race).\n",
      "    Loading 2015 Round 1 (Qualifying)...\n"
     ]
    },
    {
     "name": "stderr",
     "output_type": "stream",
     "text": [
      "logger      WARNING \tFailed to load session info data!\n",
      "core        WARNING \tCannot load laps, telemetry, weather, and message data because the relevant API is not supported for this session.\n",
      "core           INFO \tFinished loading data for 18 drivers: ['44', '6', '19', '5', '7', '77', '3', '55', '8', '13', '12', '33', '26', '27', '11', '9', '22', '20']\n",
      "core           INFO \tLoading data for Malaysian Grand Prix - Race [v3.6.0]\n",
      "req            INFO \tNo cached data found for session_info. Loading data...\n",
      "_api           INFO \tFetching session info data...\n"
     ]
    },
    {
     "name": "stdout",
     "output_type": "stream",
     "text": [
      "    Loaded 18 qualifying results entries for 2015 Round 1 (Qualifying).\n",
      "  -> Attempting to load data for 2015 Round 2...\n",
      "    Loading 2015 Round 2 (Race)...\n"
     ]
    },
    {
     "name": "stderr",
     "output_type": "stream",
     "text": [
      "logger      WARNING \tFailed to load session info data!\n",
      "core        WARNING \tCannot load laps, telemetry, weather, and message data because the relevant API is not supported for this session.\n",
      "core           INFO \tFinished loading data for 20 drivers: ['5', '44', '6', '7', '77', '19', '33', '55', '26', '3', '8', '12', '11', '27', '98', '13', '22', '14', '9', '28']\n",
      "core           INFO \tLoading data for Malaysian Grand Prix - Qualifying [v3.6.0]\n",
      "req            INFO \tNo cached data found for session_info. Loading data...\n",
      "_api           INFO \tFetching session info data...\n"
     ]
    },
    {
     "name": "stdout",
     "output_type": "stream",
     "text": [
      "    Loaded 20 race results entries for 2015 Round 2 (Race).\n",
      "    Loading 2015 Round 2 (Qualifying)...\n"
     ]
    },
    {
     "name": "stderr",
     "output_type": "stream",
     "text": [
      "logger      WARNING \tFailed to load session info data!\n",
      "core        WARNING \tCannot load laps, telemetry, weather, and message data because the relevant API is not supported for this session.\n",
      "core           INFO \tFinished loading data for 19 drivers: ['44', '5', '6', '3', '26', '33', '19', '8', '77', '9', '7', '13', '27', '11', '55', '12', '22', '14', '98']\n",
      "core           INFO \tLoading data for Chinese Grand Prix - Race [v3.6.0]\n",
      "req            INFO \tNo cached data found for session_info. Loading data...\n",
      "_api           INFO \tFetching session info data...\n"
     ]
    },
    {
     "name": "stdout",
     "output_type": "stream",
     "text": [
      "    Loaded 19 qualifying results entries for 2015 Round 2 (Qualifying).\n",
      "  -> Attempting to load data for 2015 Round 3...\n",
      "    Loading 2015 Round 3 (Race)...\n"
     ]
    },
    {
     "name": "stderr",
     "output_type": "stream",
     "text": [
      "logger      WARNING \tFailed to load session info data!\n",
      "core        WARNING \tCannot load laps, telemetry, weather, and message data because the relevant API is not supported for this session.\n",
      "core           INFO \tFinished loading data for 20 drivers: ['44', '6', '5', '7', '19', '77', '8', '12', '3', '9', '11', '14', '55', '22', '28', '98', '33', '13', '26', '27']\n",
      "core           INFO \tLoading data for Chinese Grand Prix - Qualifying [v3.6.0]\n",
      "req            INFO \tNo cached data found for session_info. Loading data...\n",
      "_api           INFO \tFetching session info data...\n"
     ]
    },
    {
     "name": "stdout",
     "output_type": "stream",
     "text": [
      "    Loaded 20 race results entries for 2015 Round 3 (Race).\n",
      "    Loading 2015 Round 3 (Qualifying)...\n"
     ]
    },
    {
     "name": "stderr",
     "output_type": "stream",
     "text": [
      "logger      WARNING \tFailed to load session info data!\n",
      "core        WARNING \tCannot load laps, telemetry, weather, and message data because the relevant API is not supported for this session.\n",
      "core           INFO \tFinished loading data for 20 drivers: ['44', '6', '5', '19', '77', '7', '3', '8', '12', '9', '13', '26', '33', '55', '11', '27', '22', '14', '28', '98']\n",
      "core           INFO \tLoading data for Bahrain Grand Prix - Race [v3.6.0]\n",
      "req            INFO \tNo cached data found for session_info. Loading data...\n",
      "_api           INFO \tFetching session info data...\n"
     ]
    },
    {
     "name": "stdout",
     "output_type": "stream",
     "text": [
      "    Loaded 20 qualifying results entries for 2015 Round 3 (Qualifying).\n",
      "  -> Attempting to load data for 2015 Round 4...\n",
      "    Loading 2015 Round 4 (Race)...\n"
     ]
    },
    {
     "name": "stderr",
     "output_type": "stream",
     "text": [
      "logger      WARNING \tFailed to load session info data!\n",
      "core        WARNING \tCannot load laps, telemetry, weather, and message data because the relevant API is not supported for this session.\n",
      "core           INFO \tFinished loading data for 20 drivers: ['44', '7', '6', '77', '5', '3', '8', '11', '26', '19', '14', '12', '27', '9', '13', '28', '98', '33', '55', '22']\n",
      "core           INFO \tLoading data for Bahrain Grand Prix - Qualifying [v3.6.0]\n",
      "req            INFO \tNo cached data found for session_info. Loading data...\n",
      "_api           INFO \tFetching session info data...\n"
     ]
    },
    {
     "name": "stdout",
     "output_type": "stream",
     "text": [
      "    Loaded 20 race results entries for 2015 Round 4 (Race).\n",
      "    Loading 2015 Round 4 (Qualifying)...\n"
     ]
    },
    {
     "name": "stderr",
     "output_type": "stream",
     "text": [
      "logger      WARNING \tFailed to load session info data!\n",
      "core        WARNING \tCannot load laps, telemetry, weather, and message data because the relevant API is not supported for this session.\n",
      "core           INFO \tFinished loading data for 19 drivers: ['44', '5', '6', '7', '77', '19', '3', '27', '55', '8', '11', '12', '9', '14', '33', '13', '26', '28', '98']\n",
      "core           INFO \tLoading data for Spanish Grand Prix - Race [v3.6.0]\n",
      "req            INFO \tNo cached data found for session_info. Loading data...\n",
      "_api           INFO \tFetching session info data...\n"
     ]
    },
    {
     "name": "stdout",
     "output_type": "stream",
     "text": [
      "    Loaded 19 qualifying results entries for 2015 Round 4 (Qualifying).\n",
      "  -> Attempting to load data for 2015 Round 5...\n",
      "    Loading 2015 Round 5 (Race)...\n"
     ]
    },
    {
     "name": "stderr",
     "output_type": "stream",
     "text": [
      "logger      WARNING \tFailed to load session info data!\n",
      "core        WARNING \tCannot load laps, telemetry, weather, and message data because the relevant API is not supported for this session.\n",
      "core           INFO \tFinished loading data for 20 drivers: ['6', '44', '5', '77', '7', '19', '3', '8', '55', '26', '33', '12', '11', '9', '27', '22', '28', '98', '13', '14']\n",
      "core           INFO \tLoading data for Spanish Grand Prix - Qualifying [v3.6.0]\n",
      "req            INFO \tNo cached data found for session_info. Loading data...\n",
      "_api           INFO \tFetching session info data...\n"
     ]
    },
    {
     "name": "stdout",
     "output_type": "stream",
     "text": [
      "    Loaded 20 race results entries for 2015 Round 5 (Race).\n",
      "    Loading 2015 Round 5 (Qualifying)...\n"
     ]
    },
    {
     "name": "stderr",
     "output_type": "stream",
     "text": [
      "logger      WARNING \tFailed to load session info data!\n",
      "core        WARNING \tCannot load laps, telemetry, weather, and message data because the relevant API is not supported for this session.\n",
      "core           INFO \tFinished loading data for 20 drivers: ['6', '44', '5', '77', '55', '33', '7', '26', '19', '3', '8', '13', '14', '22', '12', '9', '27', '11', '28', '98']\n",
      "core           INFO \tLoading data for Monaco Grand Prix - Race [v3.6.0]\n",
      "req            INFO \tNo cached data found for session_info. Loading data...\n",
      "_api           INFO \tFetching session info data...\n"
     ]
    },
    {
     "name": "stdout",
     "output_type": "stream",
     "text": [
      "    Loaded 20 qualifying results entries for 2015 Round 5 (Qualifying).\n",
      "  -> Attempting to load data for 2015 Round 6...\n",
      "    Loading 2015 Round 6 (Race)...\n"
     ]
    },
    {
     "name": "stderr",
     "output_type": "stream",
     "text": [
      "logger      WARNING \tFailed to load session info data!\n",
      "core        WARNING \tCannot load laps, telemetry, weather, and message data because the relevant API is not supported for this session.\n",
      "core           INFO \tFinished loading data for 20 drivers: ['6', '5', '44', '26', '3', '7', '11', '22', '12', '55', '27', '8', '9', '77', '19', '98', '28', '33', '14', '13']\n",
      "core           INFO \tLoading data for Monaco Grand Prix - Qualifying [v3.6.0]\n",
      "req            INFO \tNo cached data found for session_info. Loading data...\n",
      "_api           INFO \tFetching session info data...\n"
     ]
    },
    {
     "name": "stdout",
     "output_type": "stream",
     "text": [
      "    Loaded 20 race results entries for 2015 Round 6 (Race).\n",
      "    Loading 2015 Round 6 (Qualifying)...\n"
     ]
    },
    {
     "name": "stderr",
     "output_type": "stream",
     "text": [
      "logger      WARNING \tFailed to load session info data!\n",
      "core        WARNING \tCannot load laps, telemetry, weather, and message data because the relevant API is not supported for this session.\n",
      "core           INFO \tFinished loading data for 20 drivers: ['44', '6', '5', '3', '26', '7', '11', '55', '13', '33', '8', '22', '27', '19', '14', '12', '77', '9', '28', '98']\n",
      "core           INFO \tLoading data for Canadian Grand Prix - Race [v3.6.0]\n",
      "req            INFO \tNo cached data found for session_info. Loading data...\n",
      "_api           INFO \tFetching session info data...\n"
     ]
    },
    {
     "name": "stdout",
     "output_type": "stream",
     "text": [
      "    Loaded 20 qualifying results entries for 2015 Round 6 (Qualifying).\n",
      "  -> Attempting to load data for 2015 Round 7...\n",
      "    Loading 2015 Round 7 (Race)...\n"
     ]
    },
    {
     "name": "stderr",
     "output_type": "stream",
     "text": [
      "logger      WARNING \tFailed to load session info data!\n",
      "core        WARNING \tCannot load laps, telemetry, weather, and message data because the relevant API is not supported for this session.\n",
      "core           INFO \tFinished loading data for 20 drivers: ['44', '6', '77', '7', '5', '19', '13', '27', '26', '8', '11', '55', '3', '9', '33', '12', '28', '98', '22', '14']\n",
      "core           INFO \tLoading data for Canadian Grand Prix - Qualifying [v3.6.0]\n",
      "req            INFO \tNo cached data found for session_info. Loading data...\n",
      "_api           INFO \tFetching session info data...\n"
     ]
    },
    {
     "name": "stdout",
     "output_type": "stream",
     "text": [
      "    Loaded 20 race results entries for 2015 Round 7 (Race).\n",
      "    Loading 2015 Round 7 (Qualifying)...\n"
     ]
    },
    {
     "name": "stderr",
     "output_type": "stream",
     "text": [
      "logger      WARNING \tFailed to load session info data!\n",
      "core        WARNING \tCannot load laps, telemetry, weather, and message data because the relevant API is not supported for this session.\n",
      "core           INFO \tFinished loading data for 19 drivers: ['44', '6', '7', '77', '8', '13', '27', '26', '3', '11', '55', '33', '9', '14', '12', '5', '19', '98', '28']\n",
      "core           INFO \tLoading data for Austrian Grand Prix - Race [v3.6.0]\n",
      "req            INFO \tNo cached data found for session_info. Loading data...\n",
      "_api           INFO \tFetching session info data...\n"
     ]
    },
    {
     "name": "stdout",
     "output_type": "stream",
     "text": [
      "    Loaded 19 qualifying results entries for 2015 Round 7 (Qualifying).\n",
      "  -> Attempting to load data for 2015 Round 8...\n",
      "    Loading 2015 Round 8 (Race)...\n"
     ]
    },
    {
     "name": "stderr",
     "output_type": "stream",
     "text": [
      "logger      WARNING \tFailed to load session info data!\n",
      "core        WARNING \tCannot load laps, telemetry, weather, and message data because the relevant API is not supported for this session.\n",
      "core           INFO \tFinished loading data for 20 drivers: ['6', '44', '19', '5', '77', '27', '13', '33', '11', '3', '12', '26', '9', '98', '8', '55', '22', '28', '7', '14']\n",
      "core           INFO \tLoading data for Austrian Grand Prix - Qualifying [v3.6.0]\n",
      "req            INFO \tNo cached data found for session_info. Loading data...\n",
      "_api           INFO \tFetching session info data...\n"
     ]
    },
    {
     "name": "stdout",
     "output_type": "stream",
     "text": [
      "    Loaded 20 race results entries for 2015 Round 8 (Race).\n",
      "    Loading 2015 Round 8 (Qualifying)...\n"
     ]
    },
    {
     "name": "stderr",
     "output_type": "stream",
     "text": [
      "logger      WARNING \tFailed to load session info data!\n",
      "core        WARNING \tCannot load laps, telemetry, weather, and message data because the relevant API is not supported for this session.\n",
      "core           INFO \tFinished loading data for 20 drivers: ['44', '6', '5', '19', '27', '77', '33', '26', '12', '8', '13', '9', '55', '3', '14', '11', '22', '7', '98', '28']\n",
      "core           INFO \tLoading data for British Grand Prix - Race [v3.6.0]\n",
      "req            INFO \tNo cached data found for session_info. Loading data...\n",
      "_api           INFO \tFetching session info data...\n"
     ]
    },
    {
     "name": "stdout",
     "output_type": "stream",
     "text": [
      "    Loaded 20 qualifying results entries for 2015 Round 8 (Qualifying).\n",
      "  -> Attempting to load data for 2015 Round 9...\n",
      "    Loading 2015 Round 9 (Race)...\n"
     ]
    },
    {
     "name": "stderr",
     "output_type": "stream",
     "text": [
      "logger      WARNING \tFailed to load session info data!\n",
      "core        WARNING \tCannot load laps, telemetry, weather, and message data because the relevant API is not supported for this session.\n",
      "core           INFO \tFinished loading data for 20 drivers: ['44', '6', '5', '19', '77', '26', '27', '7', '11', '14', '9', '98', '28', '55', '3', '33', '8', '13', '22', '12']\n",
      "core           INFO \tLoading data for British Grand Prix - Qualifying [v3.6.0]\n",
      "req            INFO \tNo cached data found for session_info. Loading data...\n",
      "_api           INFO \tFetching session info data...\n"
     ]
    },
    {
     "name": "stdout",
     "output_type": "stream",
     "text": [
      "    Loaded 20 race results entries for 2015 Round 9 (Race).\n",
      "    Loading 2015 Round 9 (Qualifying)...\n"
     ]
    },
    {
     "name": "stderr",
     "output_type": "stream",
     "text": [
      "logger      WARNING \tFailed to load session info data!\n",
      "core        WARNING \tCannot load laps, telemetry, weather, and message data because the relevant API is not supported for this session.\n",
      "core           INFO \tFinished loading data for 20 drivers: ['44', '6', '19', '77', '7', '5', '26', '55', '27', '3', '11', '8', '33', '13', '9', '12', '14', '22', '28', '98']\n",
      "core           INFO \tLoading data for Hungarian Grand Prix - Race [v3.6.0]\n",
      "req            INFO \tNo cached data found for session_info. Loading data...\n",
      "_api           INFO \tFetching session info data...\n"
     ]
    },
    {
     "name": "stdout",
     "output_type": "stream",
     "text": [
      "    Loaded 20 qualifying results entries for 2015 Round 9 (Qualifying).\n",
      "  -> Attempting to load data for 2015 Round 10...\n",
      "    Loading 2015 Round 10 (Race)...\n"
     ]
    },
    {
     "name": "stderr",
     "output_type": "stream",
     "text": [
      "logger      WARNING \tFailed to load session info data!\n",
      "core        WARNING \tCannot load laps, telemetry, weather, and message data because the relevant API is not supported for this session.\n",
      "core           INFO \tFinished loading data for 20 drivers: ['5', '26', '3', '33', '14', '44', '8', '6', '22', '9', '12', '19', '77', '13', '98', '28', '55', '7', '11', '27']\n",
      "core           INFO \tLoading data for Hungarian Grand Prix - Qualifying [v3.6.0]\n",
      "req            INFO \tNo cached data found for session_info. Loading data...\n",
      "_api           INFO \tFetching session info data...\n"
     ]
    },
    {
     "name": "stdout",
     "output_type": "stream",
     "text": [
      "    Loaded 20 race results entries for 2015 Round 10 (Race).\n",
      "    Loading 2015 Round 10 (Qualifying)...\n"
     ]
    },
    {
     "name": "stderr",
     "output_type": "stream",
     "text": [
      "logger      WARNING \tFailed to load session info data!\n",
      "core        WARNING \tCannot load laps, telemetry, weather, and message data because the relevant API is not supported for this session.\n",
      "core           INFO \tFinished loading data for 20 drivers: ['44', '6', '5', '3', '7', '77', '26', '19', '33', '8', '27', '55', '11', '13', '14', '22', '9', '12', '98', '28']\n",
      "core           INFO \tLoading data for Belgian Grand Prix - Race [v3.6.0]\n",
      "req            INFO \tNo cached data found for session_info. Loading data...\n",
      "_api           INFO \tFetching session info data...\n"
     ]
    },
    {
     "name": "stdout",
     "output_type": "stream",
     "text": [
      "    Loaded 20 qualifying results entries for 2015 Round 10 (Qualifying).\n",
      "  -> Attempting to load data for 2015 Round 11...\n",
      "    Loading 2015 Round 11 (Race)...\n"
     ]
    },
    {
     "name": "stderr",
     "output_type": "stream",
     "text": [
      "logger      WARNING \tFailed to load session info data!\n",
      "core        WARNING \tCannot load laps, telemetry, weather, and message data because the relevant API is not supported for this session.\n",
      "core           INFO \tFinished loading data for 20 drivers: ['44', '6', '8', '26', '11', '19', '7', '33', '77', '9', '12', '5', '14', '22', '98', '28', '55', '3', '13', '27']\n",
      "core           INFO \tLoading data for Belgian Grand Prix - Qualifying [v3.6.0]\n",
      "req            INFO \tNo cached data found for session_info. Loading data...\n",
      "_api           INFO \tFetching session info data...\n"
     ]
    },
    {
     "name": "stdout",
     "output_type": "stream",
     "text": [
      "    Loaded 20 race results entries for 2015 Round 11 (Race).\n",
      "    Loading 2015 Round 11 (Qualifying)...\n"
     ]
    },
    {
     "name": "stderr",
     "output_type": "stream",
     "text": [
      "logger      WARNING \tFailed to load session info data!\n",
      "core        WARNING \tCannot load laps, telemetry, weather, and message data because the relevant API is not supported for this session.\n",
      "core           INFO \tFinished loading data for 20 drivers: ['44', '6', '77', '8', '11', '3', '19', '13', '5', '55', '27', '26', '9', '7', '33', '12', '22', '14', '28', '98']\n",
      "core           INFO \tLoading data for Italian Grand Prix - Race [v3.6.0]\n",
      "req            INFO \tNo cached data found for session_info. Loading data...\n",
      "_api           INFO \tFetching session info data...\n"
     ]
    },
    {
     "name": "stdout",
     "output_type": "stream",
     "text": [
      "    Loaded 20 qualifying results entries for 2015 Round 11 (Qualifying).\n",
      "  -> Attempting to load data for 2015 Round 12...\n",
      "    Loading 2015 Round 12 (Race)...\n"
     ]
    },
    {
     "name": "stderr",
     "output_type": "stream",
     "text": [
      "logger      WARNING \tFailed to load session info data!\n",
      "core        WARNING \tCannot load laps, telemetry, weather, and message data because the relevant API is not supported for this session.\n",
      "core           INFO \tFinished loading data for 20 drivers: ['44', '5', '19', '77', '7', '11', '27', '3', '9', '26', '55', '33', '12', '22', '28', '98', '6', '14', '8', '13']\n",
      "core           INFO \tLoading data for Italian Grand Prix - Qualifying [v3.6.0]\n",
      "req            INFO \tNo cached data found for session_info. Loading data...\n",
      "_api           INFO \tFetching session info data...\n"
     ]
    },
    {
     "name": "stdout",
     "output_type": "stream",
     "text": [
      "    Loaded 20 race results entries for 2015 Round 12 (Race).\n",
      "    Loading 2015 Round 12 (Qualifying)...\n"
     ]
    },
    {
     "name": "stderr",
     "output_type": "stream",
     "text": [
      "logger      WARNING \tFailed to load session info data!\n",
      "core        WARNING \tCannot load laps, telemetry, weather, and message data because the relevant API is not supported for this session.\n",
      "core           INFO \tFinished loading data for 20 drivers: ['44', '7', '5', '6', '19', '77', '11', '8', '27', '9', '13', '12', '55', '26', '3', '22', '14', '28', '98', '33']\n",
      "core           INFO \tLoading data for Singapore Grand Prix - Race [v3.6.0]\n",
      "req            INFO \tNo cached data found for session_info. Loading data...\n",
      "_api           INFO \tFetching session info data...\n"
     ]
    },
    {
     "name": "stdout",
     "output_type": "stream",
     "text": [
      "    Loaded 20 qualifying results entries for 2015 Round 12 (Qualifying).\n",
      "  -> Attempting to load data for 2015 Round 13...\n",
      "    Loading 2015 Round 13 (Race)...\n"
     ]
    },
    {
     "name": "stderr",
     "output_type": "stream",
     "text": [
      "logger      WARNING \tFailed to load session info data!\n",
      "core        WARNING \tCannot load laps, telemetry, weather, and message data because the relevant API is not supported for this session.\n",
      "core           INFO \tFinished loading data for 20 drivers: ['5', '3', '7', '6', '77', '26', '11', '33', '55', '12', '9', '13', '8', '53', '28', '22', '14', '44', '19', '27']\n",
      "core           INFO \tLoading data for Singapore Grand Prix - Qualifying [v3.6.0]\n",
      "req            INFO \tNo cached data found for session_info. Loading data...\n",
      "_api           INFO \tFetching session info data...\n"
     ]
    },
    {
     "name": "stdout",
     "output_type": "stream",
     "text": [
      "    Loaded 20 race results entries for 2015 Round 13 (Race).\n",
      "    Loading 2015 Round 13 (Qualifying)...\n"
     ]
    },
    {
     "name": "stderr",
     "output_type": "stream",
     "text": [
      "logger      WARNING \tFailed to load session info data!\n",
      "core        WARNING \tCannot load laps, telemetry, weather, and message data because the relevant API is not supported for this session.\n",
      "core           INFO \tFinished loading data for 20 drivers: ['5', '3', '7', '26', '44', '6', '77', '33', '19', '8', '27', '14', '11', '55', '22', '12', '9', '13', '28', '53']\n",
      "core           INFO \tLoading data for Japanese Grand Prix - Race [v3.6.0]\n",
      "req            INFO \tNo cached data found for session_info. Loading data...\n",
      "_api           INFO \tFetching session info data...\n"
     ]
    },
    {
     "name": "stdout",
     "output_type": "stream",
     "text": [
      "    Loaded 20 qualifying results entries for 2015 Round 13 (Qualifying).\n",
      "  -> Attempting to load data for 2015 Round 14...\n",
      "    Loading 2015 Round 14 (Race)...\n"
     ]
    },
    {
     "name": "stderr",
     "output_type": "stream",
     "text": [
      "logger      WARNING \tFailed to load session info data!\n",
      "core        WARNING \tCannot load laps, telemetry, weather, and message data because the relevant API is not supported for this session.\n",
      "core           INFO \tFinished loading data for 20 drivers: ['44', '6', '5', '7', '77', '27', '8', '13', '33', '55', '14', '11', '26', '9', '3', '22', '19', '53', '28', '12']\n",
      "core           INFO \tLoading data for Japanese Grand Prix - Qualifying [v3.6.0]\n",
      "req            INFO \tNo cached data found for session_info. Loading data...\n",
      "_api           INFO \tFetching session info data...\n"
     ]
    },
    {
     "name": "stdout",
     "output_type": "stream",
     "text": [
      "    Loaded 20 race results entries for 2015 Round 14 (Race).\n",
      "    Loading 2015 Round 14 (Qualifying)...\n"
     ]
    },
    {
     "name": "stderr",
     "output_type": "stream",
     "text": [
      "logger      WARNING \tFailed to load session info data!\n",
      "core        WARNING \tCannot load laps, telemetry, weather, and message data because the relevant API is not supported for this session.\n",
      "core           INFO \tFinished loading data for 20 drivers: ['6', '44', '77', '5', '19', '7', '3', '8', '11', '26', '27', '55', '13', '14', '33', '22', '9', '12', '28', '53']\n",
      "core           INFO \tLoading data for Russian Grand Prix - Race [v3.6.0]\n",
      "req            INFO \tNo cached data found for session_info. Loading data...\n",
      "_api           INFO \tFetching session info data...\n"
     ]
    },
    {
     "name": "stdout",
     "output_type": "stream",
     "text": [
      "    Loaded 20 qualifying results entries for 2015 Round 14 (Qualifying).\n",
      "  -> Attempting to load data for 2015 Round 15...\n",
      "    Loading 2015 Round 15 (Race)...\n"
     ]
    },
    {
     "name": "stderr",
     "output_type": "stream",
     "text": [
      "logger      WARNING \tFailed to load session info data!\n",
      "core        WARNING \tCannot load laps, telemetry, weather, and message data because the relevant API is not supported for this session.\n",
      "core           INFO \tFinished loading data for 20 drivers: ['44', '5', '11', '19', '26', '12', '13', '7', '22', '33', '14', '77', '98', '28', '3', '55', '8', '6', '27', '9']\n",
      "core           INFO \tLoading data for Russian Grand Prix - Qualifying [v3.6.0]\n",
      "req            INFO \tNo cached data found for session_info. Loading data...\n",
      "_api           INFO \tFetching session info data...\n"
     ]
    },
    {
     "name": "stdout",
     "output_type": "stream",
     "text": [
      "    Loaded 20 race results entries for 2015 Round 15 (Race).\n",
      "    Loading 2015 Round 15 (Qualifying)...\n"
     ]
    },
    {
     "name": "stderr",
     "output_type": "stream",
     "text": [
      "logger      WARNING \tFailed to load session info data!\n",
      "core        WARNING \tCannot load laps, telemetry, weather, and message data because the relevant API is not supported for this session.\n",
      "core           INFO \tFinished loading data for 19 drivers: ['6', '44', '77', '5', '7', '27', '11', '8', '33', '3', '26', '12', '22', '13', '19', '14', '9', '28', '98']\n",
      "core           INFO \tLoading data for United States Grand Prix - Race [v3.6.0]\n",
      "req            INFO \tNo cached data found for session_info. Loading data...\n",
      "_api           INFO \tFetching session info data...\n"
     ]
    },
    {
     "name": "stdout",
     "output_type": "stream",
     "text": [
      "    Loaded 19 qualifying results entries for 2015 Round 15 (Qualifying).\n",
      "  -> Attempting to load data for 2015 Round 16...\n",
      "    Loading 2015 Round 16 (Race)...\n"
     ]
    },
    {
     "name": "stderr",
     "output_type": "stream",
     "text": [
      "logger      WARNING \tFailed to load session info data!\n",
      "core        WARNING \tCannot load laps, telemetry, weather, and message data because the relevant API is not supported for this session.\n",
      "core           INFO \tFinished loading data for 20 drivers: ['44', '6', '5', '33', '11', '22', '55', '13', '12', '3', '14', '53', '26', '27', '9', '7', '19', '8', '77', '28']\n",
      "core           INFO \tLoading data for United States Grand Prix - Qualifying [v3.6.0]\n",
      "req            INFO \tNo cached data found for session_info. Loading data...\n",
      "_api           INFO \tFetching session info data...\n"
     ]
    },
    {
     "name": "stdout",
     "output_type": "stream",
     "text": [
      "    Loaded 20 race results entries for 2015 Round 16 (Race).\n",
      "    Loading 2015 Round 16 (Qualifying)...\n"
     ]
    },
    {
     "name": "stderr",
     "output_type": "stream",
     "text": [
      "logger      WARNING \tFailed to load session info data!\n",
      "core        WARNING \tCannot load laps, telemetry, weather, and message data because the relevant API is not supported for this session.\n",
      "core           INFO \tFinished loading data for 20 drivers: ['6', '44', '3', '26', '5', '11', '27', '7', '19', '33', '14', '77', '8', '22', '13', '9', '12', '53', '28', '55']\n",
      "core           INFO \tLoading data for Mexican Grand Prix - Race [v3.6.0]\n",
      "req            INFO \tNo cached data found for session_info. Loading data...\n",
      "_api           INFO \tFetching session info data...\n"
     ]
    },
    {
     "name": "stdout",
     "output_type": "stream",
     "text": [
      "    Loaded 20 qualifying results entries for 2015 Round 16 (Qualifying).\n",
      "  -> Attempting to load data for 2015 Round 17...\n",
      "    Loading 2015 Round 17 (Race)...\n"
     ]
    },
    {
     "name": "stderr",
     "output_type": "stream",
     "text": [
      "logger      WARNING \tFailed to load session info data!\n",
      "core        WARNING \tCannot load laps, telemetry, weather, and message data because the relevant API is not supported for this session.\n",
      "core           INFO \tFinished loading data for 20 drivers: ['6', '44', '77', '26', '3', '19', '27', '11', '33', '8', '13', '9', '55', '22', '53', '28', '12', '5', '7', '14']\n",
      "core           INFO \tLoading data for Mexican Grand Prix - Qualifying [v3.6.0]\n",
      "req            INFO \tNo cached data found for session_info. Loading data...\n",
      "_api           INFO \tFetching session info data...\n"
     ]
    },
    {
     "name": "stdout",
     "output_type": "stream",
     "text": [
      "    Loaded 20 race results entries for 2015 Round 17 (Race).\n",
      "    Loading 2015 Round 17 (Qualifying)...\n"
     ]
    },
    {
     "name": "stderr",
     "output_type": "stream",
     "text": [
      "logger      WARNING \tFailed to load session info data!\n",
      "core        WARNING \tCannot load laps, telemetry, weather, and message data because the relevant API is not supported for this session.\n",
      "core           INFO \tFinished loading data for 20 drivers: ['6', '44', '5', '26', '3', '77', '19', '33', '11', '27', '55', '8', '13', '9', '7', '14', '12', '53', '28', '22']\n",
      "core           INFO \tLoading data for Brazilian Grand Prix - Race [v3.6.0]\n",
      "req            INFO \tNo cached data found for session_info. Loading data...\n",
      "_api           INFO \tFetching session info data...\n"
     ]
    },
    {
     "name": "stdout",
     "output_type": "stream",
     "text": [
      "    Loaded 20 qualifying results entries for 2015 Round 17 (Qualifying).\n",
      "  -> Attempting to load data for 2015 Round 18...\n",
      "    Loading 2015 Round 18 (Race)...\n"
     ]
    },
    {
     "name": "stderr",
     "output_type": "stream",
     "text": [
      "logger      WARNING \tFailed to load session info data!\n",
      "core        WARNING \tCannot load laps, telemetry, weather, and message data because the relevant API is not supported for this session.\n",
      "core           INFO \tFinished loading data for 20 drivers: ['6', '44', '5', '7', '77', '27', '26', '8', '33', '13', '3', '11', '12', '22', '14', '9', '28', '53', '55', '19']\n",
      "core           INFO \tLoading data for Brazilian Grand Prix - Qualifying [v3.6.0]\n",
      "req            INFO \tNo cached data found for session_info. Loading data...\n",
      "_api           INFO \tFetching session info data...\n"
     ]
    },
    {
     "name": "stdout",
     "output_type": "stream",
     "text": [
      "    Loaded 20 race results entries for 2015 Round 18 (Race).\n",
      "    Loading 2015 Round 18 (Qualifying)...\n"
     ]
    },
    {
     "name": "stderr",
     "output_type": "stream",
     "text": [
      "logger      WARNING \tFailed to load session info data!\n",
      "core        WARNING \tCannot load laps, telemetry, weather, and message data because the relevant API is not supported for this session.\n",
      "core           INFO \tFinished loading data for 20 drivers: ['6', '44', '5', '77', '7', '27', '26', '19', '3', '33', '12', '55', '11', '9', '8', '13', '22', '53', '28', '14']\n",
      "core           INFO \tLoading data for Abu Dhabi Grand Prix - Race [v3.6.0]\n",
      "req            INFO \tNo cached data found for session_info. Loading data...\n",
      "_api           INFO \tFetching session info data...\n"
     ]
    },
    {
     "name": "stdout",
     "output_type": "stream",
     "text": [
      "    Loaded 20 qualifying results entries for 2015 Round 18 (Qualifying).\n",
      "  -> Attempting to load data for 2015 Round 19...\n",
      "    Loading 2015 Round 19 (Race)...\n"
     ]
    },
    {
     "name": "stderr",
     "output_type": "stream",
     "text": [
      "logger      WARNING \tFailed to load session info data!\n",
      "core        WARNING \tCannot load laps, telemetry, weather, and message data because the relevant API is not supported for this session.\n",
      "core           INFO \tFinished loading data for 20 drivers: ['6', '44', '7', '5', '11', '3', '27', '19', '8', '26', '55', '22', '77', '9', '12', '33', '14', '28', '98', '13']\n",
      "core           INFO \tLoading data for Abu Dhabi Grand Prix - Qualifying [v3.6.0]\n",
      "req            INFO \tNo cached data found for session_info. Loading data...\n",
      "_api           INFO \tFetching session info data...\n"
     ]
    },
    {
     "name": "stdout",
     "output_type": "stream",
     "text": [
      "    Loaded 20 race results entries for 2015 Round 19 (Race).\n",
      "    Loading 2015 Round 19 (Qualifying)...\n"
     ]
    },
    {
     "name": "stderr",
     "output_type": "stream",
     "text": [
      "logger      WARNING \tFailed to load session info data!\n",
      "core        WARNING \tCannot load laps, telemetry, weather, and message data because the relevant API is not supported for this session.\n",
      "core           INFO \tFinished loading data for 20 drivers: ['6', '44', '7', '11', '3', '77', '27', '19', '26', '55', '33', '22', '13', '12', '8', '5', '14', '9', '28', '98']\n"
     ]
    },
    {
     "name": "stdout",
     "output_type": "stream",
     "text": [
      "    Loaded 20 qualifying results entries for 2015 Round 19 (Qualifying).\n",
      "\n",
      "Processing season: 2016\n",
      "  Attempting to get event schedule for 2016...\n",
      "  Schedule loaded for 2016. Found 21 events.\n",
      "  Filtered for 'conventional'/'sprint' race events. Found 21 race weekends.\n",
      "  -> Attempting to load data for 2016 Round 1...\n",
      "    Loading 2016 Round 1 (Race)...\n"
     ]
    },
    {
     "name": "stderr",
     "output_type": "stream",
     "text": [
      "core           INFO \tLoading data for Australian Grand Prix - Race [v3.6.0]\n",
      "req            INFO \tNo cached data found for session_info. Loading data...\n",
      "_api           INFO \tFetching session info data...\n",
      "logger      WARNING \tFailed to load session info data!\n",
      "core        WARNING \tCannot load laps, telemetry, weather, and message data because the relevant API is not supported for this session.\n",
      "core           INFO \tFinished loading data for 22 drivers: ['6', '44', '5', '3', '19', '8', '27', '77', '55', '33', '30', '20', '11', '22', '12', '94', '9', '7', '88', '21', '14', '26']\n",
      "core           INFO \tLoading data for Australian Grand Prix - Qualifying [v3.6.0]\n",
      "req            INFO \tNo cached data found for session_info. Loading data...\n",
      "_api           INFO \tFetching session info data...\n"
     ]
    },
    {
     "name": "stdout",
     "output_type": "stream",
     "text": [
      "    Loaded 22 race results entries for 2016 Round 1 (Race).\n",
      "    Loading 2016 Round 1 (Qualifying)...\n"
     ]
    },
    {
     "name": "stderr",
     "output_type": "stream",
     "text": [
      "logger      WARNING \tFailed to load session info data!\n",
      "core        WARNING \tCannot load laps, telemetry, weather, and message data because the relevant API is not supported for this session.\n",
      "core           INFO \tFinished loading data for 22 drivers: ['44', '6', '5', '7', '33', '19', '55', '3', '11', '27', '77', '14', '22', '30', '20', '9', '12', '26', '8', '21', '88', '94']\n",
      "core           INFO \tLoading data for Bahrain Grand Prix - Race [v3.6.0]\n",
      "req            INFO \tNo cached data found for session_info. Loading data...\n",
      "_api           INFO \tFetching session info data...\n"
     ]
    },
    {
     "name": "stdout",
     "output_type": "stream",
     "text": [
      "    Loaded 22 qualifying results entries for 2016 Round 1 (Qualifying).\n",
      "  -> Attempting to load data for 2016 Round 2...\n",
      "    Loading 2016 Round 2 (Race)...\n"
     ]
    },
    {
     "name": "stderr",
     "output_type": "stream",
     "text": [
      "logger      WARNING \tFailed to load session info data!\n",
      "core        WARNING \tCannot load laps, telemetry, weather, and message data because the relevant API is not supported for this session.\n",
      "core           INFO \tFinished loading data for 22 drivers: ['6', '7', '44', '3', '8', '33', '26', '19', '77', '47', '20', '9', '94', '12', '27', '11', '88', '55', '21', '22', '5', '30']\n",
      "core           INFO \tLoading data for Bahrain Grand Prix - Qualifying [v3.6.0]\n",
      "req            INFO \tNo cached data found for session_info. Loading data...\n",
      "_api           INFO \tFetching session info data...\n"
     ]
    },
    {
     "name": "stdout",
     "output_type": "stream",
     "text": [
      "    Loaded 22 race results entries for 2016 Round 2 (Race).\n",
      "    Loading 2016 Round 2 (Qualifying)...\n"
     ]
    },
    {
     "name": "stderr",
     "output_type": "stream",
     "text": [
      "logger      WARNING \tFailed to load session info data!\n",
      "core        WARNING \tCannot load laps, telemetry, weather, and message data because the relevant API is not supported for this session.\n",
      "core           INFO \tFinished loading data for 22 drivers: ['44', '6', '5', '7', '3', '77', '19', '27', '8', '33', '55', '47', '21', '22', '26', '94', '9', '11', '20', '30', '88', '12']\n",
      "core           INFO \tLoading data for Chinese Grand Prix - Race [v3.6.0]\n",
      "req            INFO \tNo cached data found for session_info. Loading data...\n",
      "_api           INFO \tFetching session info data...\n"
     ]
    },
    {
     "name": "stdout",
     "output_type": "stream",
     "text": [
      "    Loaded 22 qualifying results entries for 2016 Round 2 (Qualifying).\n",
      "  -> Attempting to load data for 2016 Round 3...\n",
      "    Loading 2016 Round 3 (Race)...\n"
     ]
    },
    {
     "name": "stderr",
     "output_type": "stream",
     "text": [
      "logger      WARNING \tFailed to load session info data!\n",
      "core        WARNING \tCannot load laps, telemetry, weather, and message data because the relevant API is not supported for this session.\n",
      "core           INFO \tFinished loading data for 22 drivers: ['6', '5', '26', '3', '7', '19', '44', '33', '55', '77', '11', '14', '22', '21', '27', '9', '20', '94', '8', '12', '88', '30']\n",
      "core           INFO \tLoading data for Chinese Grand Prix - Qualifying [v3.6.0]\n",
      "req            INFO \tNo cached data found for session_info. Loading data...\n",
      "_api           INFO \tFetching session info data...\n"
     ]
    },
    {
     "name": "stdout",
     "output_type": "stream",
     "text": [
      "    Loaded 22 race results entries for 2016 Round 3 (Race).\n",
      "    Loading 2016 Round 3 (Qualifying)...\n"
     ]
    },
    {
     "name": "stderr",
     "output_type": "stream",
     "text": [
      "logger      WARNING \tFailed to load session info data!\n",
      "core        WARNING \tCannot load laps, telemetry, weather, and message data because the relevant API is not supported for this session.\n",
      "core           INFO \tFinished loading data for 22 drivers: ['6', '3', '7', '5', '77', '26', '11', '55', '33', '27', '19', '14', '22', '8', '9', '12', '20', '21', '30', '88', '94', '44']\n",
      "core           INFO \tLoading data for Russian Grand Prix - Race [v3.6.0]\n",
      "req            INFO \tNo cached data found for session_info. Loading data...\n",
      "_api           INFO \tFetching session info data...\n"
     ]
    },
    {
     "name": "stdout",
     "output_type": "stream",
     "text": [
      "    Loaded 22 qualifying results entries for 2016 Round 3 (Qualifying).\n",
      "  -> Attempting to load data for 2016 Round 4...\n",
      "    Loading 2016 Round 4 (Race)...\n"
     ]
    },
    {
     "name": "stderr",
     "output_type": "stream",
     "text": [
      "logger      WARNING \tFailed to load session info data!\n",
      "core        WARNING \tCannot load laps, telemetry, weather, and message data because the relevant API is not supported for this session.\n",
      "core           INFO \tFinished loading data for 22 drivers: ['6', '44', '7', '77', '19', '14', '20', '8', '11', '22', '3', '55', '30', '9', '26', '12', '21', '94', '33', '5', '27', '88']\n",
      "core           INFO \tLoading data for Russian Grand Prix - Qualifying [v3.6.0]\n",
      "req            INFO \tNo cached data found for session_info. Loading data...\n",
      "_api           INFO \tFetching session info data...\n"
     ]
    },
    {
     "name": "stdout",
     "output_type": "stream",
     "text": [
      "    Loaded 22 race results entries for 2016 Round 4 (Race).\n",
      "    Loading 2016 Round 4 (Qualifying)...\n"
     ]
    },
    {
     "name": "stderr",
     "output_type": "stream",
     "text": [
      "logger      WARNING \tFailed to load session info data!\n",
      "core        WARNING \tCannot load laps, telemetry, weather, and message data because the relevant API is not supported for this session.\n",
      "core           INFO \tFinished loading data for 22 drivers: ['6', '5', '77', '7', '19', '3', '11', '26', '33', '44', '55', '22', '27', '14', '8', '21', '20', '30', '12', '94', '88', '9']\n",
      "core           INFO \tLoading data for Spanish Grand Prix - Race [v3.6.0]\n",
      "req            INFO \tNo cached data found for session_info. Loading data...\n",
      "_api           INFO \tFetching session info data...\n"
     ]
    },
    {
     "name": "stdout",
     "output_type": "stream",
     "text": [
      "    Loaded 22 qualifying results entries for 2016 Round 4 (Qualifying).\n",
      "  -> Attempting to load data for 2016 Round 5...\n",
      "    Loading 2016 Round 5 (Race)...\n"
     ]
    },
    {
     "name": "stderr",
     "output_type": "stream",
     "text": [
      "logger      WARNING \tFailed to load session info data!\n",
      "core        WARNING \tCannot load laps, telemetry, weather, and message data because the relevant API is not supported for this session.\n",
      "core           INFO \tFinished loading data for 22 drivers: ['33', '7', '5', '3', '77', '55', '11', '19', '22', '26', '21', '9', '30', '20', '12', '94', '88', '8', '14', '27', '44', '6']\n",
      "core           INFO \tLoading data for Spanish Grand Prix - Qualifying [v3.6.0]\n",
      "req            INFO \tNo cached data found for session_info. Loading data...\n",
      "_api           INFO \tFetching session info data...\n"
     ]
    },
    {
     "name": "stdout",
     "output_type": "stream",
     "text": [
      "    Loaded 22 race results entries for 2016 Round 5 (Race).\n",
      "    Loading 2016 Round 5 (Qualifying)...\n"
     ]
    },
    {
     "name": "stderr",
     "output_type": "stream",
     "text": [
      "logger      WARNING \tFailed to load session info data!\n",
      "core        WARNING \tCannot load laps, telemetry, weather, and message data because the relevant API is not supported for this session.\n",
      "core           INFO \tFinished loading data for 22 drivers: ['44', '6', '3', '33', '7', '5', '77', '55', '11', '14', '27', '22', '26', '8', '20', '21', '30', '19', '9', '12', '94', '88']\n",
      "core           INFO \tLoading data for Monaco Grand Prix - Race [v3.6.0]\n",
      "req            INFO \tNo cached data found for session_info. Loading data...\n",
      "_api           INFO \tFetching session info data...\n"
     ]
    },
    {
     "name": "stdout",
     "output_type": "stream",
     "text": [
      "    Loaded 22 qualifying results entries for 2016 Round 5 (Qualifying).\n",
      "  -> Attempting to load data for 2016 Round 6...\n",
      "    Loading 2016 Round 6 (Race)...\n"
     ]
    },
    {
     "name": "stderr",
     "output_type": "stream",
     "text": [
      "logger      WARNING \tFailed to load session info data!\n",
      "core        WARNING \tCannot load laps, telemetry, weather, and message data because the relevant API is not supported for this session.\n",
      "core           INFO \tFinished loading data for 22 drivers: ['44', '3', '11', '5', '14', '27', '6', '55', '22', '19', '21', '77', '8', '94', '88', '9', '12', '33', '20', '26', '7', '30']\n",
      "core           INFO \tLoading data for Monaco Grand Prix - Qualifying [v3.6.0]\n",
      "req            INFO \tNo cached data found for session_info. Loading data...\n",
      "_api           INFO \tFetching session info data...\n"
     ]
    },
    {
     "name": "stdout",
     "output_type": "stream",
     "text": [
      "    Loaded 22 race results entries for 2016 Round 6 (Race).\n",
      "    Loading 2016 Round 6 (Qualifying)...\n"
     ]
    },
    {
     "name": "stderr",
     "output_type": "stream",
     "text": [
      "logger      WARNING \tFailed to load session info data!\n",
      "core        WARNING \tCannot load laps, telemetry, weather, and message data because the relevant API is not supported for this session.\n",
      "core           INFO \tFinished loading data for 22 drivers: ['3', '6', '44', '5', '27', '7', '55', '11', '26', '14', '77', '21', '22', '19', '8', '20', '9', '30', '88', '94', '33', '12']\n",
      "core           INFO \tLoading data for Canadian Grand Prix - Race [v3.6.0]\n",
      "req            INFO \tNo cached data found for session_info. Loading data...\n",
      "_api           INFO \tFetching session info data...\n"
     ]
    },
    {
     "name": "stdout",
     "output_type": "stream",
     "text": [
      "    Loaded 22 qualifying results entries for 2016 Round 6 (Qualifying).\n",
      "  -> Attempting to load data for 2016 Round 7...\n",
      "    Loading 2016 Round 7 (Race)...\n"
     ]
    },
    {
     "name": "stderr",
     "output_type": "stream",
     "text": [
      "logger      WARNING \tFailed to load session info data!\n",
      "core        WARNING \tCannot load laps, telemetry, weather, and message data because the relevant API is not supported for this session.\n",
      "core           INFO \tFinished loading data for 22 drivers: ['44', '5', '77', '33', '6', '7', '3', '27', '55', '11', '14', '26', '21', '8', '9', '20', '94', '12', '88', '19', '30', '22']\n",
      "core           INFO \tLoading data for Canadian Grand Prix - Qualifying [v3.6.0]\n",
      "req            INFO \tNo cached data found for session_info. Loading data...\n",
      "_api           INFO \tFetching session info data...\n"
     ]
    },
    {
     "name": "stdout",
     "output_type": "stream",
     "text": [
      "    Loaded 22 race results entries for 2016 Round 7 (Race).\n",
      "    Loading 2016 Round 7 (Qualifying)...\n"
     ]
    },
    {
     "name": "stderr",
     "output_type": "stream",
     "text": [
      "logger      WARNING \tFailed to load session info data!\n",
      "core        WARNING \tCannot load laps, telemetry, weather, and message data because the relevant API is not supported for this session.\n",
      "core           INFO \tFinished loading data for 21 drivers: ['44', '6', '5', '3', '33', '7', '77', '19', '27', '14', '11', '22', '26', '21', '8', '55', '30', '94', '9', '12', '88']\n",
      "core           INFO \tLoading data for European Grand Prix - Race [v3.6.0]\n",
      "req            INFO \tNo cached data found for session_info. Loading data...\n",
      "_api           INFO \tFetching session info data...\n"
     ]
    },
    {
     "name": "stdout",
     "output_type": "stream",
     "text": [
      "    Loaded 21 qualifying results entries for 2016 Round 7 (Qualifying).\n",
      "  -> Attempting to load data for 2016 Round 8...\n",
      "    Loading 2016 Round 8 (Race)...\n"
     ]
    },
    {
     "name": "stderr",
     "output_type": "stream",
     "text": [
      "logger      WARNING \tFailed to load session info data!\n",
      "core        WARNING \tCannot load laps, telemetry, weather, and message data because the relevant API is not supported for this session.\n",
      "core           INFO \tFinished loading data for 22 drivers: ['6', '5', '11', '7', '44', '77', '3', '33', '27', '19', '22', '12', '8', '20', '30', '21', '9', '88', '14', '94', '55', '26']\n",
      "core           INFO \tLoading data for European Grand Prix - Qualifying [v3.6.0]\n",
      "req            INFO \tNo cached data found for session_info. Loading data...\n",
      "_api           INFO \tFetching session info data...\n"
     ]
    },
    {
     "name": "stdout",
     "output_type": "stream",
     "text": [
      "    Loaded 22 race results entries for 2016 Round 8 (Race).\n",
      "    Loading 2016 Round 8 (Qualifying)...\n"
     ]
    },
    {
     "name": "stderr",
     "output_type": "stream",
     "text": [
      "logger      WARNING \tFailed to load session info data!\n",
      "core        WARNING \tCannot load laps, telemetry, weather, and message data because the relevant API is not supported for this session.\n",
      "core           INFO \tFinished loading data for 22 drivers: ['6', '11', '3', '5', '7', '19', '26', '77', '33', '44', '8', '27', '55', '14', '21', '12', '88', '94', '22', '9', '20', '30']\n",
      "core           INFO \tLoading data for Austrian Grand Prix - Race [v3.6.0]\n",
      "req            INFO \tNo cached data found for session_info. Loading data...\n",
      "_api           INFO \tFetching session info data...\n"
     ]
    },
    {
     "name": "stdout",
     "output_type": "stream",
     "text": [
      "    Loaded 22 qualifying results entries for 2016 Round 8 (Qualifying).\n",
      "  -> Attempting to load data for 2016 Round 9...\n",
      "    Loading 2016 Round 9 (Race)...\n"
     ]
    },
    {
     "name": "stderr",
     "output_type": "stream",
     "text": [
      "logger      WARNING \tFailed to load session info data!\n",
      "core        WARNING \tCannot load laps, telemetry, weather, and message data because the relevant API is not supported for this session.\n",
      "core           INFO \tFinished loading data for 22 drivers: ['44', '33', '7', '6', '3', '22', '8', '55', '77', '94', '21', '30', '12', '20', '9', '88', '11', '14', '27', '19', '5', '26']\n",
      "core           INFO \tLoading data for Austrian Grand Prix - Qualifying [v3.6.0]\n",
      "req            INFO \tNo cached data found for session_info. Loading data...\n",
      "_api           INFO \tFetching session info data...\n"
     ]
    },
    {
     "name": "stdout",
     "output_type": "stream",
     "text": [
      "    Loaded 22 race results entries for 2016 Round 9 (Race).\n",
      "    Loading 2016 Round 9 (Qualifying)...\n"
     ]
    },
    {
     "name": "stderr",
     "output_type": "stream",
     "text": [
      "logger      WARNING \tFailed to load session info data!\n",
      "core        WARNING \tCannot load laps, telemetry, weather, and message data because the relevant API is not supported for this session.\n",
      "core           INFO \tFinished loading data for 22 drivers: ['44', '6', '27', '5', '22', '7', '3', '77', '33', '19', '21', '94', '8', '14', '55', '11', '20', '30', '88', '26', '9', '12']\n",
      "core           INFO \tLoading data for British Grand Prix - Race [v3.6.0]\n",
      "req            INFO \tNo cached data found for session_info. Loading data...\n",
      "_api           INFO \tFetching session info data...\n"
     ]
    },
    {
     "name": "stdout",
     "output_type": "stream",
     "text": [
      "    Loaded 22 qualifying results entries for 2016 Round 9 (Qualifying).\n",
      "  -> Attempting to load data for 2016 Round 10...\n",
      "    Loading 2016 Round 10 (Race)...\n"
     ]
    },
    {
     "name": "stderr",
     "output_type": "stream",
     "text": [
      "logger      WARNING \tFailed to load session info data!\n",
      "core        WARNING \tCannot load laps, telemetry, weather, and message data because the relevant API is not supported for this session.\n",
      "core           INFO \tFinished loading data for 22 drivers: ['44', '33', '6', '3', '7', '11', '27', '55', '5', '26', '19', '22', '14', '77', '12', '21', '20', '30', '88', '8', '9', '94']\n",
      "core           INFO \tLoading data for British Grand Prix - Qualifying [v3.6.0]\n",
      "req            INFO \tNo cached data found for session_info. Loading data...\n",
      "_api           INFO \tFetching session info data...\n"
     ]
    },
    {
     "name": "stdout",
     "output_type": "stream",
     "text": [
      "    Loaded 22 race results entries for 2016 Round 10 (Race).\n",
      "    Loading 2016 Round 10 (Qualifying)...\n"
     ]
    },
    {
     "name": "stderr",
     "output_type": "stream",
     "text": [
      "logger      WARNING \tFailed to load session info data!\n",
      "core        WARNING \tCannot load laps, telemetry, weather, and message data because the relevant API is not supported for this session.\n",
      "core           INFO \tFinished loading data for 21 drivers: ['44', '6', '33', '3', '7', '5', '77', '55', '27', '14', '11', '19', '8', '21', '26', '20', '22', '30', '88', '94', '12']\n",
      "core           INFO \tLoading data for Hungarian Grand Prix - Race [v3.6.0]\n",
      "req            INFO \tNo cached data found for session_info. Loading data...\n",
      "_api           INFO \tFetching session info data...\n"
     ]
    },
    {
     "name": "stdout",
     "output_type": "stream",
     "text": [
      "    Loaded 21 qualifying results entries for 2016 Round 10 (Qualifying).\n",
      "  -> Attempting to load data for 2016 Round 11...\n",
      "    Loading 2016 Round 11 (Race)...\n"
     ]
    },
    {
     "name": "stderr",
     "output_type": "stream",
     "text": [
      "logger      WARNING \tFailed to load session info data!\n",
      "core        WARNING \tCannot load laps, telemetry, weather, and message data because the relevant API is not supported for this session.\n",
      "core           INFO \tFinished loading data for 22 drivers: ['44', '6', '3', '5', '33', '7', '14', '55', '77', '27', '11', '30', '21', '8', '20', '26', '12', '19', '94', '9', '88', '22']\n",
      "core           INFO \tLoading data for Hungarian Grand Prix - Qualifying [v3.6.0]\n",
      "req            INFO \tNo cached data found for session_info. Loading data...\n",
      "_api           INFO \tFetching session info data...\n"
     ]
    },
    {
     "name": "stdout",
     "output_type": "stream",
     "text": [
      "    Loaded 22 race results entries for 2016 Round 11 (Race).\n",
      "    Loading 2016 Round 11 (Qualifying)...\n"
     ]
    },
    {
     "name": "stderr",
     "output_type": "stream",
     "text": [
      "logger      WARNING \tFailed to load session info data!\n",
      "core        WARNING \tCannot load laps, telemetry, weather, and message data because the relevant API is not supported for this session.\n",
      "core           INFO \tFinished loading data for 22 drivers: ['6', '44', '3', '33', '5', '55', '14', '22', '27', '77', '8', '26', '11', '7', '21', '12', '30', '19', '20', '9', '94', '88']\n",
      "core           INFO \tLoading data for German Grand Prix - Race [v3.6.0]\n",
      "req            INFO \tNo cached data found for session_info. Loading data...\n",
      "_api           INFO \tFetching session info data...\n"
     ]
    },
    {
     "name": "stdout",
     "output_type": "stream",
     "text": [
      "    Loaded 22 qualifying results entries for 2016 Round 11 (Qualifying).\n",
      "  -> Attempting to load data for 2016 Round 12...\n",
      "    Loading 2016 Round 12 (Race)...\n"
     ]
    },
    {
     "name": "stderr",
     "output_type": "stream",
     "text": [
      "logger      WARNING \tFailed to load session info data!\n",
      "core        WARNING \tCannot load laps, telemetry, weather, and message data because the relevant API is not supported for this session.\n",
      "core           INFO \tFinished loading data for 22 drivers: ['44', '3', '33', '6', '5', '7', '27', '22', '77', '11', '21', '14', '8', '55', '26', '20', '94', '9', '30', '88', '12', '19']\n",
      "core           INFO \tLoading data for German Grand Prix - Qualifying [v3.6.0]\n",
      "req            INFO \tNo cached data found for session_info. Loading data...\n",
      "_api           INFO \tFetching session info data...\n"
     ]
    },
    {
     "name": "stdout",
     "output_type": "stream",
     "text": [
      "    Loaded 22 race results entries for 2016 Round 12 (Race).\n",
      "    Loading 2016 Round 12 (Qualifying)...\n"
     ]
    },
    {
     "name": "stderr",
     "output_type": "stream",
     "text": [
      "logger      WARNING \tFailed to load session info data!\n",
      "core        WARNING \tCannot load laps, telemetry, weather, and message data because the relevant API is not supported for this session.\n",
      "core           INFO \tFinished loading data for 22 drivers: ['6', '44', '3', '33', '7', '5', '27', '77', '11', '19', '21', '22', '55', '14', '8', '30', '20', '94', '26', '88', '12', '9']\n",
      "core           INFO \tLoading data for Belgian Grand Prix - Race [v3.6.0]\n",
      "req            INFO \tNo cached data found for session_info. Loading data...\n",
      "_api           INFO \tFetching session info data...\n"
     ]
    },
    {
     "name": "stdout",
     "output_type": "stream",
     "text": [
      "    Loaded 22 qualifying results entries for 2016 Round 12 (Qualifying).\n",
      "  -> Attempting to load data for 2016 Round 13...\n",
      "    Loading 2016 Round 13 (Race)...\n"
     ]
    },
    {
     "name": "stderr",
     "output_type": "stream",
     "text": [
      "logger      WARNING \tFailed to load session info data!\n",
      "core        WARNING \tCannot load laps, telemetry, weather, and message data because the relevant API is not supported for this session.\n",
      "core           INFO \tFinished loading data for 22 drivers: ['6', '3', '44', '27', '11', '5', '14', '77', '7', '19', '33', '21', '8', '26', '30', '31', '12', '20', '9', '55', '22', '94']\n",
      "core           INFO \tLoading data for Belgian Grand Prix - Qualifying [v3.6.0]\n",
      "req            INFO \tNo cached data found for session_info. Loading data...\n",
      "_api           INFO \tFetching session info data...\n"
     ]
    },
    {
     "name": "stdout",
     "output_type": "stream",
     "text": [
      "    Loaded 22 race results entries for 2016 Round 13 (Race).\n",
      "    Loading 2016 Round 13 (Qualifying)...\n"
     ]
    },
    {
     "name": "stderr",
     "output_type": "stream",
     "text": [
      "logger      WARNING \tFailed to load session info data!\n",
      "core        WARNING \tCannot load laps, telemetry, weather, and message data because the relevant API is not supported for this session.\n",
      "core           INFO \tFinished loading data for 21 drivers: ['6', '33', '7', '5', '3', '11', '27', '77', '22', '19', '8', '20', '21', '30', '55', '94', '12', '31', '26', '9', '44']\n",
      "core           INFO \tLoading data for Italian Grand Prix - Race [v3.6.0]\n",
      "req            INFO \tNo cached data found for session_info. Loading data...\n",
      "_api           INFO \tFetching session info data...\n"
     ]
    },
    {
     "name": "stdout",
     "output_type": "stream",
     "text": [
      "    Loaded 21 qualifying results entries for 2016 Round 13 (Qualifying).\n",
      "  -> Attempting to load data for 2016 Round 14...\n",
      "    Loading 2016 Round 14 (Race)...\n"
     ]
    },
    {
     "name": "stderr",
     "output_type": "stream",
     "text": [
      "logger      WARNING \tFailed to load session info data!\n",
      "core        WARNING \tCannot load laps, telemetry, weather, and message data because the relevant API is not supported for this session.\n",
      "core           INFO \tFinished loading data for 22 drivers: ['6', '44', '5', '7', '3', '77', '33', '11', '19', '27', '8', '22', '21', '14', '55', '9', '20', '31', '26', '94', '30', '12']\n",
      "core           INFO \tLoading data for Italian Grand Prix - Qualifying [v3.6.0]\n",
      "req            INFO \tNo cached data found for session_info. Loading data...\n",
      "_api           INFO \tFetching session info data...\n"
     ]
    },
    {
     "name": "stdout",
     "output_type": "stream",
     "text": [
      "    Loaded 22 race results entries for 2016 Round 14 (Race).\n",
      "    Loading 2016 Round 14 (Qualifying)...\n"
     ]
    },
    {
     "name": "stderr",
     "output_type": "stream",
     "text": [
      "logger      WARNING \tFailed to load session info data!\n",
      "core        WARNING \tCannot load laps, telemetry, weather, and message data because the relevant API is not supported for this session.\n",
      "core           INFO \tFinished loading data for 21 drivers: ['44', '6', '5', '7', '77', '3', '33', '11', '27', '21', '19', '8', '14', '94', '22', '55', '26', '12', '9', '30', '20']\n",
      "core           INFO \tLoading data for Singapore Grand Prix - Race [v3.6.0]\n",
      "req            INFO \tNo cached data found for session_info. Loading data...\n",
      "_api           INFO \tFetching session info data...\n"
     ]
    },
    {
     "name": "stdout",
     "output_type": "stream",
     "text": [
      "    Loaded 21 qualifying results entries for 2016 Round 14 (Qualifying).\n",
      "  -> Attempting to load data for 2016 Round 15...\n",
      "    Loading 2016 Round 15 (Race)...\n"
     ]
    },
    {
     "name": "stderr",
     "output_type": "stream",
     "text": [
      "logger      WARNING \tFailed to load session info data!\n",
      "core        WARNING \tCannot load laps, telemetry, weather, and message data because the relevant API is not supported for this session.\n",
      "core           INFO \tFinished loading data for 22 drivers: ['6', '3', '44', '7', '5', '33', '14', '11', '26', '20', '21', '19', '12', '55', '30', '94', '9', '31', '22', '77', '27', '8']\n",
      "core           INFO \tLoading data for Singapore Grand Prix - Qualifying [v3.6.0]\n",
      "req            INFO \tNo cached data found for session_info. Loading data...\n",
      "_api           INFO \tFetching session info data...\n"
     ]
    },
    {
     "name": "stdout",
     "output_type": "stream",
     "text": [
      "    Loaded 22 race results entries for 2016 Round 15 (Race).\n",
      "    Loading 2016 Round 15 (Qualifying)...\n"
     ]
    },
    {
     "name": "stderr",
     "output_type": "stream",
     "text": [
      "logger      WARNING \tFailed to load session info data!\n",
      "core        WARNING \tCannot load laps, telemetry, weather, and message data because the relevant API is not supported for this session.\n",
      "core           INFO \tFinished loading data for 22 drivers: ['6', '3', '44', '33', '7', '55', '26', '27', '14', '11', '77', '19', '22', '21', '8', '9', '20', '12', '30', '94', '31', '5']\n",
      "core           INFO \tLoading data for Malaysian Grand Prix - Race [v3.6.0]\n",
      "req            INFO \tNo cached data found for session_info. Loading data...\n",
      "_api           INFO \tFetching session info data...\n"
     ]
    },
    {
     "name": "stdout",
     "output_type": "stream",
     "text": [
      "    Loaded 22 qualifying results entries for 2016 Round 15 (Qualifying).\n",
      "  -> Attempting to load data for 2016 Round 16...\n",
      "    Loading 2016 Round 16 (Race)...\n"
     ]
    },
    {
     "name": "stderr",
     "output_type": "stream",
     "text": [
      "logger      WARNING \tFailed to load session info data!\n",
      "core        WARNING \tCannot load laps, telemetry, weather, and message data because the relevant API is not supported for this session.\n",
      "core           INFO \tFinished loading data for 22 drivers: ['3', '33', '6', '7', '77', '11', '14', '27', '22', '30', '55', '9', '19', '26', '94', '31', '12', '44', '21', '20', '8', '5']\n",
      "core           INFO \tLoading data for Malaysian Grand Prix - Qualifying [v3.6.0]\n",
      "req            INFO \tNo cached data found for session_info. Loading data...\n",
      "_api           INFO \tFetching session info data...\n"
     ]
    },
    {
     "name": "stdout",
     "output_type": "stream",
     "text": [
      "    Loaded 22 race results entries for 2016 Round 16 (Race).\n",
      "    Loading 2016 Round 16 (Qualifying)...\n"
     ]
    },
    {
     "name": "stderr",
     "output_type": "stream",
     "text": [
      "logger      WARNING \tFailed to load session info data!\n",
      "core        WARNING \tCannot load laps, telemetry, weather, and message data because the relevant API is not supported for this session.\n",
      "core           INFO \tFinished loading data for 22 drivers: ['44', '6', '33', '3', '5', '7', '11', '27', '22', '19', '77', '8', '21', '20', '26', '55', '9', '12', '30', '31', '94', '14']\n",
      "core           INFO \tLoading data for Japanese Grand Prix - Race [v3.6.0]\n",
      "req            INFO \tNo cached data found for session_info. Loading data...\n",
      "_api           INFO \tFetching session info data...\n"
     ]
    },
    {
     "name": "stdout",
     "output_type": "stream",
     "text": [
      "    Loaded 22 qualifying results entries for 2016 Round 16 (Qualifying).\n",
      "  -> Attempting to load data for 2016 Round 17...\n",
      "    Loading 2016 Round 17 (Race)...\n"
     ]
    },
    {
     "name": "stderr",
     "output_type": "stream",
     "text": [
      "logger      WARNING \tFailed to load session info data!\n",
      "core        WARNING \tCannot load laps, telemetry, weather, and message data because the relevant API is not supported for this session.\n",
      "core           INFO \tFinished loading data for 22 drivers: ['6', '33', '44', '5', '7', '3', '11', '27', '19', '77', '8', '30', '26', '20', '9', '14', '55', '22', '12', '21', '31', '94']\n",
      "core           INFO \tLoading data for Japanese Grand Prix - Qualifying [v3.6.0]\n",
      "req            INFO \tNo cached data found for session_info. Loading data...\n",
      "_api           INFO \tFetching session info data...\n"
     ]
    },
    {
     "name": "stdout",
     "output_type": "stream",
     "text": [
      "    Loaded 22 race results entries for 2016 Round 17 (Race).\n",
      "    Loading 2016 Round 17 (Qualifying)...\n"
     ]
    },
    {
     "name": "stderr",
     "output_type": "stream",
     "text": [
      "logger      WARNING \tFailed to load session info data!\n",
      "core        WARNING \tCannot load laps, telemetry, weather, and message data because the relevant API is not supported for this session.\n",
      "core           INFO \tFinished loading data for 22 drivers: ['6', '44', '7', '5', '33', '3', '11', '8', '27', '21', '77', '19', '26', '55', '14', '30', '22', '20', '9', '12', '31', '94']\n",
      "core           INFO \tLoading data for United States Grand Prix - Race [v3.6.0]\n",
      "req            INFO \tNo cached data found for session_info. Loading data...\n",
      "_api           INFO \tFetching session info data...\n"
     ]
    },
    {
     "name": "stdout",
     "output_type": "stream",
     "text": [
      "    Loaded 22 qualifying results entries for 2016 Round 17 (Qualifying).\n",
      "  -> Attempting to load data for 2016 Round 18...\n",
      "    Loading 2016 Round 18 (Race)...\n"
     ]
    },
    {
     "name": "stderr",
     "output_type": "stream",
     "text": [
      "logger      WARNING \tFailed to load session info data!\n",
      "core        WARNING \tCannot load laps, telemetry, weather, and message data because the relevant API is not supported for this session.\n",
      "core           INFO \tFinished loading data for 22 drivers: ['44', '6', '3', '5', '14', '55', '19', '11', '22', '8', '26', '20', '30', '9', '12', '77', '94', '31', '7', '33', '21', '27']\n",
      "core           INFO \tLoading data for United States Grand Prix - Qualifying [v3.6.0]\n",
      "req            INFO \tNo cached data found for session_info. Loading data...\n",
      "_api           INFO \tFetching session info data...\n"
     ]
    },
    {
     "name": "stdout",
     "output_type": "stream",
     "text": [
      "    Loaded 22 race results entries for 2016 Round 18 (Race).\n",
      "    Loading 2016 Round 18 (Qualifying)...\n"
     ]
    },
    {
     "name": "stderr",
     "output_type": "stream",
     "text": [
      "logger      WARNING \tFailed to load session info data!\n",
      "core        WARNING \tCannot load laps, telemetry, weather, and message data because the relevant API is not supported for this session.\n",
      "core           INFO \tFinished loading data for 22 drivers: ['44', '6', '3', '33', '7', '5', '27', '77', '19', '55', '11', '14', '26', '21', '30', '9', '8', '20', '22', '94', '12', '31']\n",
      "core           INFO \tLoading data for Mexican Grand Prix - Race [v3.6.0]\n",
      "req            INFO \tNo cached data found for session_info. Loading data...\n",
      "_api           INFO \tFetching session info data...\n"
     ]
    },
    {
     "name": "stdout",
     "output_type": "stream",
     "text": [
      "    Loaded 22 qualifying results entries for 2016 Round 18 (Qualifying).\n",
      "  -> Attempting to load data for 2016 Round 19...\n",
      "    Loading 2016 Round 19 (Race)...\n"
     ]
    },
    {
     "name": "stderr",
     "output_type": "stream",
     "text": [
      "logger      WARNING \tFailed to load session info data!\n",
      "core        WARNING \tCannot load laps, telemetry, weather, and message data because the relevant API is not supported for this session.\n",
      "core           INFO \tFinished loading data for 22 drivers: ['44', '6', '3', '33', '5', '7', '27', '77', '19', '11', '9', '22', '14', '30', '12', '55', '20', '26', '21', '8', '31', '94']\n",
      "core           INFO \tLoading data for Mexican Grand Prix - Qualifying [v3.6.0]\n",
      "req            INFO \tNo cached data found for session_info. Loading data...\n",
      "_api           INFO \tFetching session info data...\n"
     ]
    },
    {
     "name": "stdout",
     "output_type": "stream",
     "text": [
      "    Loaded 22 race results entries for 2016 Round 19 (Race).\n",
      "    Loading 2016 Round 19 (Qualifying)...\n"
     ]
    },
    {
     "name": "stderr",
     "output_type": "stream",
     "text": [
      "logger      WARNING \tFailed to load session info data!\n",
      "core        WARNING \tCannot load laps, telemetry, weather, and message data because the relevant API is not supported for this session.\n",
      "core           INFO \tFinished loading data for 21 drivers: ['44', '6', '33', '3', '27', '7', '5', '77', '19', '55', '14', '11', '22', '20', '9', '94', '21', '26', '12', '31', '8']\n",
      "core           INFO \tLoading data for Brazilian Grand Prix - Race [v3.6.0]\n",
      "req            INFO \tNo cached data found for session_info. Loading data...\n",
      "_api           INFO \tFetching session info data...\n"
     ]
    },
    {
     "name": "stdout",
     "output_type": "stream",
     "text": [
      "    Loaded 21 qualifying results entries for 2016 Round 19 (Qualifying).\n",
      "  -> Attempting to load data for 2016 Round 20...\n",
      "    Loading 2016 Round 20 (Race)...\n"
     ]
    },
    {
     "name": "stderr",
     "output_type": "stream",
     "text": [
      "logger      WARNING \tFailed to load session info data!\n",
      "core        WARNING \tCannot load laps, telemetry, weather, and message data because the relevant API is not supported for this session.\n",
      "core           INFO \tFinished loading data for 22 drivers: ['44', '6', '33', '11', '5', '55', '27', '3', '12', '14', '77', '31', '26', '20', '94', '22', '21', '19', '30', '7', '9', '8']\n",
      "core           INFO \tLoading data for Brazilian Grand Prix - Qualifying [v3.6.0]\n",
      "req            INFO \tNo cached data found for session_info. Loading data...\n",
      "_api           INFO \tFetching session info data...\n"
     ]
    },
    {
     "name": "stdout",
     "output_type": "stream",
     "text": [
      "    Loaded 22 race results entries for 2016 Round 20 (Race).\n",
      "    Loading 2016 Round 20 (Qualifying)...\n"
     ]
    },
    {
     "name": "stderr",
     "output_type": "stream",
     "text": [
      "logger      WARNING \tFailed to load session info data!\n",
      "core        WARNING \tCannot load laps, telemetry, weather, and message data because the relevant API is not supported for this session.\n",
      "core           INFO \tFinished loading data for 22 drivers: ['44', '6', '7', '33', '5', '3', '8', '27', '11', '14', '77', '21', '19', '26', '55', '30', '22', '20', '94', '31', '9', '12']\n",
      "core           INFO \tLoading data for Abu Dhabi Grand Prix - Race [v3.6.0]\n",
      "req            INFO \tNo cached data found for session_info. Loading data...\n",
      "_api           INFO \tFetching session info data...\n"
     ]
    },
    {
     "name": "stdout",
     "output_type": "stream",
     "text": [
      "    Loaded 22 qualifying results entries for 2016 Round 20 (Qualifying).\n",
      "  -> Attempting to load data for 2016 Round 21...\n",
      "    Loading 2016 Round 21 (Race)...\n"
     ]
    },
    {
     "name": "stderr",
     "output_type": "stream",
     "text": [
      "logger      WARNING \tFailed to load session info data!\n",
      "core        WARNING \tCannot load laps, telemetry, weather, and message data because the relevant API is not supported for this session.\n",
      "core           INFO \tFinished loading data for 22 drivers: ['44', '6', '5', '33', '3', '7', '27', '11', '19', '14', '8', '21', '31', '94', '9', '12', '30', '55', '26', '22', '77', '20']\n",
      "core           INFO \tLoading data for Abu Dhabi Grand Prix - Qualifying [v3.6.0]\n",
      "req            INFO \tNo cached data found for session_info. Loading data...\n",
      "_api           INFO \tFetching session info data...\n"
     ]
    },
    {
     "name": "stdout",
     "output_type": "stream",
     "text": [
      "    Loaded 22 race results entries for 2016 Round 21 (Race).\n",
      "    Loading 2016 Round 21 (Qualifying)...\n"
     ]
    },
    {
     "name": "stderr",
     "output_type": "stream",
     "text": [
      "logger      WARNING \tFailed to load session info data!\n",
      "core        WARNING \tCannot load laps, telemetry, weather, and message data because the relevant API is not supported for this session.\n",
      "core           INFO \tFinished loading data for 22 drivers: ['44', '6', '3', '7', '5', '33', '27', '11', '14', '19', '77', '22', '21', '8', '30', '94', '26', '20', '12', '31', '55', '9']\n"
     ]
    },
    {
     "name": "stdout",
     "output_type": "stream",
     "text": [
      "    Loaded 22 qualifying results entries for 2016 Round 21 (Qualifying).\n",
      "\n",
      "Processing season: 2017\n",
      "  Attempting to get event schedule for 2017...\n"
     ]
    },
    {
     "name": "stderr",
     "output_type": "stream",
     "text": [
      "core           INFO \tLoading data for Australian Grand Prix - Race [v3.6.0]\n",
      "req            INFO \tNo cached data found for session_info. Loading data...\n",
      "_api           INFO \tFetching session info data...\n"
     ]
    },
    {
     "name": "stdout",
     "output_type": "stream",
     "text": [
      "  Schedule loaded for 2017. Found 20 events.\n",
      "  Filtered for 'conventional'/'sprint' race events. Found 20 race weekends.\n",
      "  -> Attempting to load data for 2017 Round 1...\n",
      "    Loading 2017 Round 1 (Race)...\n"
     ]
    },
    {
     "name": "stderr",
     "output_type": "stream",
     "text": [
      "logger      WARNING \tFailed to load session info data!\n",
      "core        WARNING \tCannot load laps, telemetry, weather, and message data because the relevant API is not supported for this session.\n",
      "core           INFO \tFinished loading data for 20 drivers: ['5', '44', '77', '7', '33', '19', '11', '55', '26', '31', '27', '36', '2', '14', '20', '18', '3', '9', '30', '8']\n",
      "core           INFO \tLoading data for Australian Grand Prix - Qualifying [v3.6.0]\n",
      "req            INFO \tNo cached data found for session_info. Loading data...\n",
      "_api           INFO \tFetching session info data...\n"
     ]
    },
    {
     "name": "stdout",
     "output_type": "stream",
     "text": [
      "    Loaded 20 race results entries for 2017 Round 1 (Race).\n",
      "    Loading 2017 Round 1 (Qualifying)...\n"
     ]
    },
    {
     "name": "stderr",
     "output_type": "stream",
     "text": [
      "logger      WARNING \tFailed to load session info data!\n",
      "core        WARNING \tCannot load laps, telemetry, weather, and message data because the relevant API is not supported for this session.\n",
      "core           INFO \tFinished loading data for 20 drivers: ['44', '5', '77', '7', '33', '8', '19', '55', '26', '3', '11', '27', '14', '31', '9', '36', '20', '2', '18', '30']\n",
      "core           INFO \tLoading data for Chinese Grand Prix - Race [v3.6.0]\n",
      "req            INFO \tNo cached data found for session_info. Loading data...\n",
      "_api           INFO \tFetching session info data...\n"
     ]
    },
    {
     "name": "stdout",
     "output_type": "stream",
     "text": [
      "    Loaded 20 qualifying results entries for 2017 Round 1 (Qualifying).\n",
      "  -> Attempting to load data for 2017 Round 2...\n",
      "    Loading 2017 Round 2 (Race)...\n"
     ]
    },
    {
     "name": "stderr",
     "output_type": "stream",
     "text": [
      "logger      WARNING \tFailed to load session info data!\n",
      "core        WARNING \tCannot load laps, telemetry, weather, and message data because the relevant API is not supported for this session.\n",
      "core           INFO \tFinished loading data for 20 drivers: ['44', '5', '33', '3', '7', '77', '55', '20', '11', '31', '8', '27', '30', '19', '9', '14', '26', '2', '36', '18']\n",
      "core           INFO \tLoading data for Chinese Grand Prix - Qualifying [v3.6.0]\n",
      "req            INFO \tNo cached data found for session_info. Loading data...\n",
      "_api           INFO \tFetching session info data...\n"
     ]
    },
    {
     "name": "stdout",
     "output_type": "stream",
     "text": [
      "    Loaded 20 race results entries for 2017 Round 2 (Race).\n",
      "    Loading 2017 Round 2 (Qualifying)...\n"
     ]
    },
    {
     "name": "stderr",
     "output_type": "stream",
     "text": [
      "logger      WARNING \tFailed to load session info data!\n",
      "core        WARNING \tCannot load laps, telemetry, weather, and message data because the relevant API is not supported for this session.\n",
      "core           INFO \tFinished loading data for 20 drivers: ['44', '5', '77', '7', '3', '19', '27', '11', '26', '18', '55', '20', '14', '9', '36', '2', '8', '30', '33', '31']\n",
      "core           INFO \tLoading data for Bahrain Grand Prix - Race [v3.6.0]\n",
      "req            INFO \tNo cached data found for session_info. Loading data...\n",
      "_api           INFO \tFetching session info data...\n"
     ]
    },
    {
     "name": "stdout",
     "output_type": "stream",
     "text": [
      "    Loaded 20 qualifying results entries for 2017 Round 2 (Qualifying).\n",
      "  -> Attempting to load data for 2017 Round 3...\n",
      "    Loading 2017 Round 3 (Race)...\n"
     ]
    },
    {
     "name": "stderr",
     "output_type": "stream",
     "text": [
      "logger      WARNING \tFailed to load session info data!\n",
      "core        WARNING \tCannot load laps, telemetry, weather, and message data because the relevant API is not supported for this session.\n",
      "core           INFO \tFinished loading data for 20 drivers: ['5', '44', '77', '7', '3', '19', '11', '8', '27', '31', '94', '26', '30', '14', '9', '55', '18', '33', '20', '2']\n",
      "core           INFO \tLoading data for Bahrain Grand Prix - Qualifying [v3.6.0]\n",
      "req            INFO \tNo cached data found for session_info. Loading data...\n",
      "_api           INFO \tFetching session info data...\n"
     ]
    },
    {
     "name": "stdout",
     "output_type": "stream",
     "text": [
      "    Loaded 20 race results entries for 2017 Round 3 (Race).\n",
      "    Loading 2017 Round 3 (Qualifying)...\n"
     ]
    },
    {
     "name": "stderr",
     "output_type": "stream",
     "text": [
      "logger      WARNING \tFailed to load session info data!\n",
      "core        WARNING \tCannot load laps, telemetry, weather, and message data because the relevant API is not supported for this session.\n",
      "core           INFO \tFinished loading data for 20 drivers: ['77', '44', '5', '3', '7', '33', '27', '19', '8', '30', '26', '18', '94', '31', '14', '55', '2', '11', '9', '20']\n",
      "core           INFO \tLoading data for Russian Grand Prix - Race [v3.6.0]\n",
      "req            INFO \tNo cached data found for session_info. Loading data...\n",
      "_api           INFO \tFetching session info data...\n"
     ]
    },
    {
     "name": "stdout",
     "output_type": "stream",
     "text": [
      "    Loaded 20 qualifying results entries for 2017 Round 3 (Qualifying).\n",
      "  -> Attempting to load data for 2017 Round 4...\n",
      "    Loading 2017 Round 4 (Race)...\n"
     ]
    },
    {
     "name": "stderr",
     "output_type": "stream",
     "text": [
      "logger      WARNING \tFailed to load session info data!\n",
      "core        WARNING \tCannot load laps, telemetry, weather, and message data because the relevant API is not supported for this session.\n",
      "core           INFO \tFinished loading data for 20 drivers: ['77', '5', '7', '44', '33', '11', '31', '27', '19', '55', '18', '26', '20', '2', '9', '94', '3', '30', '8', '14']\n",
      "core           INFO \tLoading data for Russian Grand Prix - Qualifying [v3.6.0]\n",
      "req            INFO \tNo cached data found for session_info. Loading data...\n",
      "_api           INFO \tFetching session info data...\n"
     ]
    },
    {
     "name": "stdout",
     "output_type": "stream",
     "text": [
      "    Loaded 20 race results entries for 2017 Round 4 (Race).\n",
      "    Loading 2017 Round 4 (Qualifying)...\n"
     ]
    },
    {
     "name": "stderr",
     "output_type": "stream",
     "text": [
      "logger      WARNING \tFailed to load session info data!\n",
      "core        WARNING \tCannot load laps, telemetry, weather, and message data because the relevant API is not supported for this session.\n",
      "core           INFO \tFinished loading data for 20 drivers: ['5', '7', '77', '44', '3', '19', '33', '27', '11', '31', '55', '18', '26', '20', '14', '30', '2', '94', '9', '8']\n",
      "core           INFO \tLoading data for Spanish Grand Prix - Race [v3.6.0]\n",
      "req            INFO \tNo cached data found for session_info. Loading data...\n",
      "_api           INFO \tFetching session info data...\n"
     ]
    },
    {
     "name": "stdout",
     "output_type": "stream",
     "text": [
      "    Loaded 20 qualifying results entries for 2017 Round 4 (Qualifying).\n",
      "  -> Attempting to load data for 2017 Round 5...\n",
      "    Loading 2017 Round 5 (Race)...\n"
     ]
    },
    {
     "name": "stderr",
     "output_type": "stream",
     "text": [
      "logger      WARNING \tFailed to load session info data!\n",
      "core        WARNING \tCannot load laps, telemetry, weather, and message data because the relevant API is not supported for this session.\n",
      "core           INFO \tFinished loading data for 20 drivers: ['44', '5', '3', '11', '31', '27', '55', '94', '26', '8', '9', '14', '19', '20', '30', '18', '77', '2', '33', '7']\n",
      "core           INFO \tLoading data for Spanish Grand Prix - Qualifying [v3.6.0]\n",
      "req            INFO \tNo cached data found for session_info. Loading data...\n",
      "_api           INFO \tFetching session info data...\n"
     ]
    },
    {
     "name": "stdout",
     "output_type": "stream",
     "text": [
      "    Loaded 20 race results entries for 2017 Round 5 (Race).\n",
      "    Loading 2017 Round 5 (Qualifying)...\n"
     ]
    },
    {
     "name": "stderr",
     "output_type": "stream",
     "text": [
      "logger      WARNING \tFailed to load session info data!\n",
      "core        WARNING \tCannot load laps, telemetry, weather, and message data because the relevant API is not supported for this session.\n",
      "core           INFO \tFinished loading data for 20 drivers: ['44', '5', '77', '7', '33', '3', '14', '11', '19', '31', '20', '55', '27', '8', '94', '9', '30', '18', '2', '26']\n",
      "core           INFO \tLoading data for Monaco Grand Prix - Race [v3.6.0]\n",
      "req            INFO \tNo cached data found for session_info. Loading data...\n",
      "_api           INFO \tFetching session info data...\n"
     ]
    },
    {
     "name": "stdout",
     "output_type": "stream",
     "text": [
      "    Loaded 20 qualifying results entries for 2017 Round 5 (Qualifying).\n",
      "  -> Attempting to load data for 2017 Round 6...\n",
      "    Loading 2017 Round 6 (Race)...\n"
     ]
    },
    {
     "name": "stderr",
     "output_type": "stream",
     "text": [
      "logger      WARNING \tFailed to load session info data!\n",
      "core        WARNING \tCannot load laps, telemetry, weather, and message data because the relevant API is not supported for this session.\n",
      "core           INFO \tFinished loading data for 20 drivers: ['5', '7', '3', '77', '33', '55', '44', '8', '19', '20', '30', '31', '11', '26', '18', '2', '9', '22', '94', '27']\n",
      "core           INFO \tLoading data for Monaco Grand Prix - Qualifying [v3.6.0]\n",
      "req            INFO \tNo cached data found for session_info. Loading data...\n",
      "_api           INFO \tFetching session info data...\n"
     ]
    },
    {
     "name": "stdout",
     "output_type": "stream",
     "text": [
      "    Loaded 20 race results entries for 2017 Round 6 (Race).\n",
      "    Loading 2017 Round 6 (Qualifying)...\n"
     ]
    },
    {
     "name": "stderr",
     "output_type": "stream",
     "text": [
      "logger      WARNING \tFailed to load session info data!\n",
      "core        WARNING \tCannot load laps, telemetry, weather, and message data because the relevant API is not supported for this session.\n",
      "core           INFO \tFinished loading data for 20 drivers: ['7', '5', '77', '33', '3', '55', '11', '8', '22', '2', '26', '27', '20', '44', '19', '31', '30', '18', '94', '9']\n",
      "core           INFO \tLoading data for Canadian Grand Prix - Race [v3.6.0]\n",
      "req            INFO \tNo cached data found for session_info. Loading data...\n",
      "_api           INFO \tFetching session info data...\n"
     ]
    },
    {
     "name": "stdout",
     "output_type": "stream",
     "text": [
      "    Loaded 20 qualifying results entries for 2017 Round 6 (Qualifying).\n",
      "  -> Attempting to load data for 2017 Round 7...\n",
      "    Loading 2017 Round 7 (Race)...\n"
     ]
    },
    {
     "name": "stderr",
     "output_type": "stream",
     "text": [
      "logger      WARNING \tFailed to load session info data!\n",
      "core        WARNING \tCannot load laps, telemetry, weather, and message data because the relevant API is not supported for this session.\n",
      "core           INFO \tFinished loading data for 20 drivers: ['44', '77', '3', '5', '11', '31', '7', '27', '18', '8', '30', '20', '9', '2', '94', '14', '26', '33', '19', '55']\n",
      "core           INFO \tLoading data for Canadian Grand Prix - Qualifying [v3.6.0]\n",
      "req            INFO \tNo cached data found for session_info. Loading data...\n",
      "_api           INFO \tFetching session info data...\n"
     ]
    },
    {
     "name": "stdout",
     "output_type": "stream",
     "text": [
      "    Loaded 20 race results entries for 2017 Round 7 (Race).\n",
      "    Loading 2017 Round 7 (Qualifying)...\n"
     ]
    },
    {
     "name": "stderr",
     "output_type": "stream",
     "text": [
      "logger      WARNING \tFailed to load session info data!\n",
      "core        WARNING \tCannot load laps, telemetry, weather, and message data because the relevant API is not supported for this session.\n",
      "core           INFO \tFinished loading data for 20 drivers: ['44', '5', '77', '7', '33', '3', '19', '11', '31', '27', '26', '14', '55', '8', '30', '2', '18', '20', '9', '94']\n",
      "core           INFO \tLoading data for Azerbaijan Grand Prix - Race [v3.6.0]\n",
      "req            INFO \tNo cached data found for session_info. Loading data...\n",
      "_api           INFO \tFetching session info data...\n"
     ]
    },
    {
     "name": "stdout",
     "output_type": "stream",
     "text": [
      "    Loaded 20 qualifying results entries for 2017 Round 7 (Qualifying).\n",
      "  -> Attempting to load data for 2017 Round 8...\n",
      "    Loading 2017 Round 8 (Race)...\n"
     ]
    },
    {
     "name": "stderr",
     "output_type": "stream",
     "text": [
      "logger      WARNING \tFailed to load session info data!\n",
      "core        WARNING \tCannot load laps, telemetry, weather, and message data because the relevant API is not supported for this session.\n",
      "core           INFO \tFinished loading data for 20 drivers: ['3', '77', '18', '5', '44', '31', '20', '55', '14', '94', '9', '2', '8', '7', '11', '19', '27', '33', '26', '30']\n",
      "core           INFO \tLoading data for Azerbaijan Grand Prix - Qualifying [v3.6.0]\n",
      "req            INFO \tNo cached data found for session_info. Loading data...\n",
      "_api           INFO \tFetching session info data...\n"
     ]
    },
    {
     "name": "stdout",
     "output_type": "stream",
     "text": [
      "    Loaded 20 race results entries for 2017 Round 8 (Race).\n",
      "    Loading 2017 Round 8 (Qualifying)...\n"
     ]
    },
    {
     "name": "stderr",
     "output_type": "stream",
     "text": [
      "logger      WARNING \tFailed to load session info data!\n",
      "core        WARNING \tCannot load laps, telemetry, weather, and message data because the relevant API is not supported for this session.\n",
      "core           INFO \tFinished loading data for 19 drivers: ['44', '77', '7', '5', '33', '11', '31', '18', '19', '3', '26', '55', '20', '27', '94', '14', '8', '9', '2']\n",
      "core           INFO \tLoading data for Austrian Grand Prix - Race [v3.6.0]\n",
      "req            INFO \tNo cached data found for session_info. Loading data...\n",
      "_api           INFO \tFetching session info data...\n"
     ]
    },
    {
     "name": "stdout",
     "output_type": "stream",
     "text": [
      "    Loaded 19 qualifying results entries for 2017 Round 8 (Qualifying).\n",
      "  -> Attempting to load data for 2017 Round 9...\n",
      "    Loading 2017 Round 9 (Race)...\n"
     ]
    },
    {
     "name": "stderr",
     "output_type": "stream",
     "text": [
      "logger      WARNING \tFailed to load session info data!\n",
      "logger      WARNING \tFailed to load result data from Ergast!\n",
      "core        WARNING \tNo result data for this session available on Ergast! (This is expected for recent sessions)\n",
      "core        WARNING \tFailed to load driver list and session results!\n",
      "core        WARNING \tCannot load laps, telemetry, weather, and message data because the relevant API is not supported for this session.\n",
      "core           INFO \tFinished loading data for 0 drivers: []\n",
      "core           INFO \tLoading data for Austrian Grand Prix - Qualifying [v3.6.0]\n",
      "req            INFO \tNo cached data found for session_info. Loading data...\n",
      "_api           INFO \tFetching session info data...\n"
     ]
    },
    {
     "name": "stdout",
     "output_type": "stream",
     "text": [
      "    WARNING: No results found for 2017 Round 9 (Race). It might not have happened yet or data is unavailable.\n",
      "    Loading 2017 Round 9 (Qualifying)...\n"
     ]
    },
    {
     "name": "stderr",
     "output_type": "stream",
     "text": [
      "logger      WARNING \tFailed to load session info data!\n",
      "logger      WARNING \tFailed to load result data from Ergast!\n",
      "core        WARNING \tNo result data for this session available on Ergast! (This is expected for recent sessions)\n",
      "core        WARNING \tFailed to load driver list and session results!\n",
      "core        WARNING \tCannot load laps, telemetry, weather, and message data because the relevant API is not supported for this session.\n",
      "core           INFO \tFinished loading data for 0 drivers: []\n",
      "core           INFO \tLoading data for British Grand Prix - Race [v3.6.0]\n",
      "req            INFO \tNo cached data found for session_info. Loading data...\n",
      "_api           INFO \tFetching session info data...\n"
     ]
    },
    {
     "name": "stdout",
     "output_type": "stream",
     "text": [
      "    WARNING: No results found for 2017 Round 9 (Qualifying). It might not have happened yet or data is unavailable.\n",
      "  -> Attempting to load data for 2017 Round 10...\n",
      "    Loading 2017 Round 10 (Race)...\n"
     ]
    },
    {
     "name": "stderr",
     "output_type": "stream",
     "text": [
      "logger      WARNING \tFailed to load session info data!\n",
      "logger      WARNING \tFailed to load result data from Ergast!\n",
      "core        WARNING \tNo result data for this session available on Ergast! (This is expected for recent sessions)\n",
      "core        WARNING \tFailed to load driver list and session results!\n",
      "core        WARNING \tCannot load laps, telemetry, weather, and message data because the relevant API is not supported for this session.\n",
      "core           INFO \tFinished loading data for 0 drivers: []\n",
      "core           INFO \tLoading data for British Grand Prix - Qualifying [v3.6.0]\n",
      "req            INFO \tNo cached data found for session_info. Loading data...\n",
      "_api           INFO \tFetching session info data...\n"
     ]
    },
    {
     "name": "stdout",
     "output_type": "stream",
     "text": [
      "    WARNING: No results found for 2017 Round 10 (Race). It might not have happened yet or data is unavailable.\n",
      "    Loading 2017 Round 10 (Qualifying)...\n"
     ]
    },
    {
     "name": "stderr",
     "output_type": "stream",
     "text": [
      "logger      WARNING \tFailed to load session info data!\n",
      "logger      WARNING \tFailed to load result data from Ergast!\n",
      "core        WARNING \tNo result data for this session available on Ergast! (This is expected for recent sessions)\n",
      "core        WARNING \tFailed to load driver list and session results!\n",
      "core        WARNING \tCannot load laps, telemetry, weather, and message data because the relevant API is not supported for this session.\n",
      "core           INFO \tFinished loading data for 0 drivers: []\n",
      "core           INFO \tLoading data for Hungarian Grand Prix - Race [v3.6.0]\n",
      "req            INFO \tNo cached data found for session_info. Loading data...\n",
      "_api           INFO \tFetching session info data...\n"
     ]
    },
    {
     "name": "stdout",
     "output_type": "stream",
     "text": [
      "    WARNING: No results found for 2017 Round 10 (Qualifying). It might not have happened yet or data is unavailable.\n",
      "  -> Attempting to load data for 2017 Round 11...\n",
      "    Loading 2017 Round 11 (Race)...\n"
     ]
    },
    {
     "name": "stderr",
     "output_type": "stream",
     "text": [
      "logger      WARNING \tFailed to load session info data!\n",
      "logger      WARNING \tFailed to load result data from Ergast!\n",
      "core        WARNING \tNo result data for this session available on Ergast! (This is expected for recent sessions)\n",
      "core        WARNING \tFailed to load driver list and session results!\n",
      "core        WARNING \tCannot load laps, telemetry, weather, and message data because the relevant API is not supported for this session.\n",
      "core           INFO \tFinished loading data for 0 drivers: []\n",
      "core           INFO \tLoading data for Hungarian Grand Prix - Qualifying [v3.6.0]\n",
      "req            INFO \tNo cached data found for session_info. Loading data...\n",
      "_api           INFO \tFetching session info data...\n"
     ]
    },
    {
     "name": "stdout",
     "output_type": "stream",
     "text": [
      "    WARNING: No results found for 2017 Round 11 (Race). It might not have happened yet or data is unavailable.\n",
      "    Loading 2017 Round 11 (Qualifying)...\n"
     ]
    },
    {
     "name": "stderr",
     "output_type": "stream",
     "text": [
      "logger      WARNING \tFailed to load session info data!\n",
      "logger      WARNING \tFailed to load result data from Ergast!\n",
      "core        WARNING \tNo result data for this session available on Ergast! (This is expected for recent sessions)\n",
      "core        WARNING \tFailed to load driver list and session results!\n",
      "core        WARNING \tCannot load laps, telemetry, weather, and message data because the relevant API is not supported for this session.\n",
      "core           INFO \tFinished loading data for 0 drivers: []\n",
      "core           INFO \tLoading data for Belgian Grand Prix - Race [v3.6.0]\n",
      "req            INFO \tNo cached data found for session_info. Loading data...\n",
      "_api           INFO \tFetching session info data...\n"
     ]
    },
    {
     "name": "stdout",
     "output_type": "stream",
     "text": [
      "    WARNING: No results found for 2017 Round 11 (Qualifying). It might not have happened yet or data is unavailable.\n",
      "  -> Attempting to load data for 2017 Round 12...\n",
      "    Loading 2017 Round 12 (Race)...\n"
     ]
    },
    {
     "name": "stderr",
     "output_type": "stream",
     "text": [
      "logger      WARNING \tFailed to load session info data!\n",
      "logger      WARNING \tFailed to load result data from Ergast!\n",
      "core        WARNING \tNo result data for this session available on Ergast! (This is expected for recent sessions)\n",
      "core        WARNING \tFailed to load driver list and session results!\n",
      "core        WARNING \tCannot load laps, telemetry, weather, and message data because the relevant API is not supported for this session.\n",
      "core           INFO \tFinished loading data for 0 drivers: []\n",
      "core           INFO \tLoading data for Belgian Grand Prix - Qualifying [v3.6.0]\n",
      "req            INFO \tNo cached data found for session_info. Loading data...\n",
      "_api           INFO \tFetching session info data...\n"
     ]
    },
    {
     "name": "stdout",
     "output_type": "stream",
     "text": [
      "    WARNING: No results found for 2017 Round 12 (Race). It might not have happened yet or data is unavailable.\n",
      "    Loading 2017 Round 12 (Qualifying)...\n"
     ]
    },
    {
     "name": "stderr",
     "output_type": "stream",
     "text": [
      "logger      WARNING \tFailed to load session info data!\n",
      "logger      WARNING \tFailed to load result data from Ergast!\n",
      "core        WARNING \tNo result data for this session available on Ergast! (This is expected for recent sessions)\n",
      "core        WARNING \tFailed to load driver list and session results!\n",
      "core        WARNING \tCannot load laps, telemetry, weather, and message data because the relevant API is not supported for this session.\n",
      "core           INFO \tFinished loading data for 0 drivers: []\n",
      "core           INFO \tLoading data for Italian Grand Prix - Race [v3.6.0]\n",
      "req            INFO \tNo cached data found for session_info. Loading data...\n",
      "_api           INFO \tFetching session info data...\n"
     ]
    },
    {
     "name": "stdout",
     "output_type": "stream",
     "text": [
      "    WARNING: No results found for 2017 Round 12 (Qualifying). It might not have happened yet or data is unavailable.\n",
      "  -> Attempting to load data for 2017 Round 13...\n",
      "    Loading 2017 Round 13 (Race)...\n"
     ]
    },
    {
     "name": "stderr",
     "output_type": "stream",
     "text": [
      "logger      WARNING \tFailed to load session info data!\n",
      "logger      WARNING \tFailed to load result data from Ergast!\n",
      "core        WARNING \tNo result data for this session available on Ergast! (This is expected for recent sessions)\n",
      "core        WARNING \tFailed to load driver list and session results!\n",
      "core        WARNING \tCannot load laps, telemetry, weather, and message data because the relevant API is not supported for this session.\n",
      "core           INFO \tFinished loading data for 0 drivers: []\n",
      "core           INFO \tLoading data for Italian Grand Prix - Qualifying [v3.6.0]\n",
      "req            INFO \tNo cached data found for session_info. Loading data...\n",
      "_api           INFO \tFetching session info data...\n"
     ]
    },
    {
     "name": "stdout",
     "output_type": "stream",
     "text": [
      "    WARNING: No results found for 2017 Round 13 (Race). It might not have happened yet or data is unavailable.\n",
      "    Loading 2017 Round 13 (Qualifying)...\n"
     ]
    },
    {
     "name": "stderr",
     "output_type": "stream",
     "text": [
      "logger      WARNING \tFailed to load session info data!\n",
      "logger      WARNING \tFailed to load result data from Ergast!\n",
      "core        WARNING \tNo result data for this session available on Ergast! (This is expected for recent sessions)\n",
      "core        WARNING \tFailed to load driver list and session results!\n",
      "core        WARNING \tCannot load laps, telemetry, weather, and message data because the relevant API is not supported for this session.\n",
      "core           INFO \tFinished loading data for 0 drivers: []\n",
      "core           INFO \tLoading data for Singapore Grand Prix - Race [v3.6.0]\n",
      "req            INFO \tNo cached data found for session_info. Loading data...\n",
      "_api           INFO \tFetching session info data...\n"
     ]
    },
    {
     "name": "stdout",
     "output_type": "stream",
     "text": [
      "    WARNING: No results found for 2017 Round 13 (Qualifying). It might not have happened yet or data is unavailable.\n",
      "  -> Attempting to load data for 2017 Round 14...\n",
      "    Loading 2017 Round 14 (Race)...\n"
     ]
    },
    {
     "name": "stderr",
     "output_type": "stream",
     "text": [
      "logger      WARNING \tFailed to load session info data!\n",
      "logger      WARNING \tFailed to load result data from Ergast!\n",
      "core        WARNING \tNo result data for this session available on Ergast! (This is expected for recent sessions)\n",
      "core        WARNING \tFailed to load driver list and session results!\n",
      "core        WARNING \tCannot load laps, telemetry, weather, and message data because the relevant API is not supported for this session.\n",
      "core           INFO \tFinished loading data for 0 drivers: []\n",
      "core           INFO \tLoading data for Singapore Grand Prix - Qualifying [v3.6.0]\n",
      "req            INFO \tNo cached data found for session_info. Loading data...\n",
      "_api           INFO \tFetching session info data...\n"
     ]
    },
    {
     "name": "stdout",
     "output_type": "stream",
     "text": [
      "    WARNING: No results found for 2017 Round 14 (Race). It might not have happened yet or data is unavailable.\n",
      "    Loading 2017 Round 14 (Qualifying)...\n"
     ]
    },
    {
     "name": "stderr",
     "output_type": "stream",
     "text": [
      "logger      WARNING \tFailed to load session info data!\n",
      "logger      WARNING \tFailed to load result data from Ergast!\n",
      "core        WARNING \tNo result data for this session available on Ergast! (This is expected for recent sessions)\n",
      "core        WARNING \tFailed to load driver list and session results!\n",
      "core        WARNING \tCannot load laps, telemetry, weather, and message data because the relevant API is not supported for this session.\n",
      "core           INFO \tFinished loading data for 0 drivers: []\n",
      "core           INFO \tLoading data for Malaysian Grand Prix - Race [v3.6.0]\n",
      "req            INFO \tNo cached data found for session_info. Loading data...\n",
      "_api           INFO \tFetching session info data...\n"
     ]
    },
    {
     "name": "stdout",
     "output_type": "stream",
     "text": [
      "    WARNING: No results found for 2017 Round 14 (Qualifying). It might not have happened yet or data is unavailable.\n",
      "  -> Attempting to load data for 2017 Round 15...\n",
      "    Loading 2017 Round 15 (Race)...\n"
     ]
    },
    {
     "name": "stderr",
     "output_type": "stream",
     "text": [
      "logger      WARNING \tFailed to load session info data!\n",
      "logger      WARNING \tFailed to load result data from Ergast!\n",
      "core        WARNING \tNo result data for this session available on Ergast! (This is expected for recent sessions)\n",
      "core        WARNING \tFailed to load driver list and session results!\n",
      "core        WARNING \tCannot load laps, telemetry, weather, and message data because the relevant API is not supported for this session.\n",
      "core           INFO \tFinished loading data for 0 drivers: []\n",
      "core           INFO \tLoading data for Malaysian Grand Prix - Qualifying [v3.6.0]\n",
      "req            INFO \tNo cached data found for session_info. Loading data...\n",
      "_api           INFO \tFetching session info data...\n"
     ]
    },
    {
     "name": "stdout",
     "output_type": "stream",
     "text": [
      "    WARNING: No results found for 2017 Round 15 (Race). It might not have happened yet or data is unavailable.\n",
      "    Loading 2017 Round 15 (Qualifying)...\n"
     ]
    },
    {
     "name": "stderr",
     "output_type": "stream",
     "text": [
      "logger      WARNING \tFailed to load session info data!\n",
      "logger      WARNING \tFailed to load result data from Ergast!\n",
      "core        WARNING \tNo result data for this session available on Ergast! (This is expected for recent sessions)\n",
      "core        WARNING \tFailed to load driver list and session results!\n",
      "core        WARNING \tCannot load laps, telemetry, weather, and message data because the relevant API is not supported for this session.\n",
      "core           INFO \tFinished loading data for 0 drivers: []\n",
      "core           INFO \tLoading data for Japanese Grand Prix - Race [v3.6.0]\n",
      "req            INFO \tNo cached data found for session_info. Loading data...\n",
      "_api           INFO \tFetching session info data...\n"
     ]
    },
    {
     "name": "stdout",
     "output_type": "stream",
     "text": [
      "    WARNING: No results found for 2017 Round 15 (Qualifying). It might not have happened yet or data is unavailable.\n",
      "  -> Attempting to load data for 2017 Round 16...\n",
      "    Loading 2017 Round 16 (Race)...\n"
     ]
    },
    {
     "name": "stderr",
     "output_type": "stream",
     "text": [
      "logger      WARNING \tFailed to load session info data!\n",
      "logger      WARNING \tFailed to load result data from Ergast!\n",
      "core        WARNING \tNo result data for this session available on Ergast! (This is expected for recent sessions)\n",
      "core        WARNING \tFailed to load driver list and session results!\n",
      "core        WARNING \tCannot load laps, telemetry, weather, and message data because the relevant API is not supported for this session.\n",
      "core           INFO \tFinished loading data for 0 drivers: []\n",
      "core           INFO \tLoading data for Japanese Grand Prix - Qualifying [v3.6.0]\n",
      "req            INFO \tNo cached data found for session_info. Loading data...\n",
      "_api           INFO \tFetching session info data...\n"
     ]
    },
    {
     "name": "stdout",
     "output_type": "stream",
     "text": [
      "    WARNING: No results found for 2017 Round 16 (Race). It might not have happened yet or data is unavailable.\n",
      "    Loading 2017 Round 16 (Qualifying)...\n"
     ]
    },
    {
     "name": "stderr",
     "output_type": "stream",
     "text": [
      "logger      WARNING \tFailed to load session info data!\n",
      "logger      WARNING \tFailed to load result data from Ergast!\n",
      "core        WARNING \tNo result data for this session available on Ergast! (This is expected for recent sessions)\n",
      "core        WARNING \tFailed to load driver list and session results!\n",
      "core        WARNING \tCannot load laps, telemetry, weather, and message data because the relevant API is not supported for this session.\n",
      "core           INFO \tFinished loading data for 0 drivers: []\n",
      "core           INFO \tLoading data for United States Grand Prix - Race [v3.6.0]\n",
      "req            INFO \tNo cached data found for session_info. Loading data...\n",
      "_api           INFO \tFetching session info data...\n"
     ]
    },
    {
     "name": "stdout",
     "output_type": "stream",
     "text": [
      "    WARNING: No results found for 2017 Round 16 (Qualifying). It might not have happened yet or data is unavailable.\n",
      "  -> Attempting to load data for 2017 Round 17...\n",
      "    Loading 2017 Round 17 (Race)...\n"
     ]
    },
    {
     "name": "stderr",
     "output_type": "stream",
     "text": [
      "logger      WARNING \tFailed to load session info data!\n",
      "logger      WARNING \tFailed to load result data from Ergast!\n",
      "core        WARNING \tNo result data for this session available on Ergast! (This is expected for recent sessions)\n",
      "core        WARNING \tFailed to load driver list and session results!\n",
      "core        WARNING \tCannot load laps, telemetry, weather, and message data because the relevant API is not supported for this session.\n",
      "core           INFO \tFinished loading data for 0 drivers: []\n",
      "core           INFO \tLoading data for United States Grand Prix - Qualifying [v3.6.0]\n",
      "req            INFO \tNo cached data found for session_info. Loading data...\n",
      "_api           INFO \tFetching session info data...\n"
     ]
    },
    {
     "name": "stdout",
     "output_type": "stream",
     "text": [
      "    WARNING: No results found for 2017 Round 17 (Race). It might not have happened yet or data is unavailable.\n",
      "    Loading 2017 Round 17 (Qualifying)...\n"
     ]
    },
    {
     "name": "stderr",
     "output_type": "stream",
     "text": [
      "logger      WARNING \tFailed to load session info data!\n",
      "logger      WARNING \tFailed to load result data from Ergast!\n",
      "core        WARNING \tNo result data for this session available on Ergast! (This is expected for recent sessions)\n",
      "core        WARNING \tFailed to load driver list and session results!\n",
      "core        WARNING \tCannot load laps, telemetry, weather, and message data because the relevant API is not supported for this session.\n",
      "core           INFO \tFinished loading data for 0 drivers: []\n",
      "core           INFO \tLoading data for Mexican Grand Prix - Race [v3.6.0]\n",
      "req            INFO \tNo cached data found for session_info. Loading data...\n",
      "_api           INFO \tFetching session info data...\n"
     ]
    },
    {
     "name": "stdout",
     "output_type": "stream",
     "text": [
      "    WARNING: No results found for 2017 Round 17 (Qualifying). It might not have happened yet or data is unavailable.\n",
      "  -> Attempting to load data for 2017 Round 18...\n",
      "    Loading 2017 Round 18 (Race)...\n"
     ]
    },
    {
     "name": "stderr",
     "output_type": "stream",
     "text": [
      "logger      WARNING \tFailed to load session info data!\n",
      "logger      WARNING \tFailed to load result data from Ergast!\n",
      "core        WARNING \tNo result data for this session available on Ergast! (This is expected for recent sessions)\n",
      "core        WARNING \tFailed to load driver list and session results!\n",
      "core        WARNING \tCannot load laps, telemetry, weather, and message data because the relevant API is not supported for this session.\n",
      "core           INFO \tFinished loading data for 0 drivers: []\n",
      "core           INFO \tLoading data for Mexican Grand Prix - Qualifying [v3.6.0]\n",
      "req            INFO \tNo cached data found for session_info. Loading data...\n",
      "_api           INFO \tFetching session info data...\n"
     ]
    },
    {
     "name": "stdout",
     "output_type": "stream",
     "text": [
      "    WARNING: No results found for 2017 Round 18 (Race). It might not have happened yet or data is unavailable.\n",
      "    Loading 2017 Round 18 (Qualifying)...\n"
     ]
    },
    {
     "name": "stderr",
     "output_type": "stream",
     "text": [
      "logger      WARNING \tFailed to load session info data!\n",
      "logger      WARNING \tFailed to load result data from Ergast!\n",
      "core        WARNING \tNo result data for this session available on Ergast! (This is expected for recent sessions)\n",
      "core        WARNING \tFailed to load driver list and session results!\n",
      "core        WARNING \tCannot load laps, telemetry, weather, and message data because the relevant API is not supported for this session.\n",
      "core           INFO \tFinished loading data for 0 drivers: []\n",
      "core           INFO \tLoading data for Brazilian Grand Prix - Race [v3.6.0]\n",
      "req            INFO \tNo cached data found for session_info. Loading data...\n",
      "_api           INFO \tFetching session info data...\n"
     ]
    },
    {
     "name": "stdout",
     "output_type": "stream",
     "text": [
      "    WARNING: No results found for 2017 Round 18 (Qualifying). It might not have happened yet or data is unavailable.\n",
      "  -> Attempting to load data for 2017 Round 19...\n",
      "    Loading 2017 Round 19 (Race)...\n"
     ]
    },
    {
     "name": "stderr",
     "output_type": "stream",
     "text": [
      "logger      WARNING \tFailed to load session info data!\n",
      "logger      WARNING \tFailed to load result data from Ergast!\n",
      "core        WARNING \tNo result data for this session available on Ergast! (This is expected for recent sessions)\n",
      "core        WARNING \tFailed to load driver list and session results!\n",
      "core        WARNING \tCannot load laps, telemetry, weather, and message data because the relevant API is not supported for this session.\n",
      "core           INFO \tFinished loading data for 0 drivers: []\n",
      "core           INFO \tLoading data for Brazilian Grand Prix - Qualifying [v3.6.0]\n",
      "req            INFO \tNo cached data found for session_info. Loading data...\n",
      "_api           INFO \tFetching session info data...\n"
     ]
    },
    {
     "name": "stdout",
     "output_type": "stream",
     "text": [
      "    WARNING: No results found for 2017 Round 19 (Race). It might not have happened yet or data is unavailable.\n",
      "    Loading 2017 Round 19 (Qualifying)...\n"
     ]
    },
    {
     "name": "stderr",
     "output_type": "stream",
     "text": [
      "logger      WARNING \tFailed to load session info data!\n",
      "logger      WARNING \tFailed to load result data from Ergast!\n",
      "core        WARNING \tNo result data for this session available on Ergast! (This is expected for recent sessions)\n",
      "core        WARNING \tFailed to load driver list and session results!\n",
      "core        WARNING \tCannot load laps, telemetry, weather, and message data because the relevant API is not supported for this session.\n",
      "core           INFO \tFinished loading data for 0 drivers: []\n",
      "core           INFO \tLoading data for Abu Dhabi Grand Prix - Race [v3.6.0]\n",
      "req            INFO \tNo cached data found for session_info. Loading data...\n",
      "_api           INFO \tFetching session info data...\n"
     ]
    },
    {
     "name": "stdout",
     "output_type": "stream",
     "text": [
      "    WARNING: No results found for 2017 Round 19 (Qualifying). It might not have happened yet or data is unavailable.\n",
      "  -> Attempting to load data for 2017 Round 20...\n",
      "    Loading 2017 Round 20 (Race)...\n"
     ]
    },
    {
     "name": "stderr",
     "output_type": "stream",
     "text": [
      "logger      WARNING \tFailed to load session info data!\n",
      "logger      WARNING \tFailed to load result data from Ergast!\n",
      "core        WARNING \tNo result data for this session available on Ergast! (This is expected for recent sessions)\n",
      "core        WARNING \tFailed to load driver list and session results!\n",
      "core        WARNING \tCannot load laps, telemetry, weather, and message data because the relevant API is not supported for this session.\n",
      "core           INFO \tFinished loading data for 0 drivers: []\n",
      "core           INFO \tLoading data for Abu Dhabi Grand Prix - Qualifying [v3.6.0]\n",
      "req            INFO \tNo cached data found for session_info. Loading data...\n",
      "_api           INFO \tFetching session info data...\n"
     ]
    },
    {
     "name": "stdout",
     "output_type": "stream",
     "text": [
      "    WARNING: No results found for 2017 Round 20 (Race). It might not have happened yet or data is unavailable.\n",
      "    Loading 2017 Round 20 (Qualifying)...\n"
     ]
    },
    {
     "name": "stderr",
     "output_type": "stream",
     "text": [
      "logger      WARNING \tFailed to load session info data!\n",
      "logger      WARNING \tFailed to load result data from Ergast!\n",
      "core        WARNING \tNo result data for this session available on Ergast! (This is expected for recent sessions)\n",
      "core        WARNING \tFailed to load driver list and session results!\n",
      "core        WARNING \tCannot load laps, telemetry, weather, and message data because the relevant API is not supported for this session.\n",
      "core           INFO \tFinished loading data for 0 drivers: []\n"
     ]
    },
    {
     "name": "stdout",
     "output_type": "stream",
     "text": [
      "    WARNING: No results found for 2017 Round 20 (Qualifying). It might not have happened yet or data is unavailable.\n",
      "\n",
      "Processing season: 2018\n",
      "  Attempting to get event schedule for 2018...\n"
     ]
    },
    {
     "name": "stderr",
     "output_type": "stream",
     "text": [
      "logger      WARNING \tFailed to load schedule from FastF1 backend!\n",
      "req            INFO \tNo cached data found for season_schedule. Loading data...\n",
      "_api           INFO \tFetching season schedule...\n",
      "logger      WARNING \tFailed to load schedule from F1 API backend!\n",
      "logger      WARNING \tFailed to load schedule from Ergast API backend!\n"
     ]
    },
    {
     "name": "stdout",
     "output_type": "stream",
     "text": [
      "Error retrieving schedule for 2018: Failed to load any schedule data.. This season might not exist or there's a connectivity issue. Skipping season.\n",
      "\n",
      "Processing season: 2019\n",
      "  Attempting to get event schedule for 2019...\n"
     ]
    },
    {
     "name": "stderr",
     "output_type": "stream",
     "text": [
      "logger      WARNING \tFailed to load schedule from FastF1 backend!\n",
      "req            INFO \tNo cached data found for season_schedule. Loading data...\n",
      "_api           INFO \tFetching season schedule...\n",
      "logger      WARNING \tFailed to load schedule from F1 API backend!\n",
      "logger      WARNING \tFailed to load schedule from Ergast API backend!\n"
     ]
    },
    {
     "name": "stdout",
     "output_type": "stream",
     "text": [
      "Error retrieving schedule for 2019: Failed to load any schedule data.. This season might not exist or there's a connectivity issue. Skipping season.\n",
      "\n",
      "Processing season: 2020\n",
      "  Attempting to get event schedule for 2020...\n"
     ]
    },
    {
     "name": "stderr",
     "output_type": "stream",
     "text": [
      "logger      WARNING \tFailed to load schedule from FastF1 backend!\n",
      "req            INFO \tNo cached data found for season_schedule. Loading data...\n",
      "_api           INFO \tFetching season schedule...\n",
      "logger      WARNING \tFailed to load schedule from F1 API backend!\n",
      "logger      WARNING \tFailed to load schedule from Ergast API backend!\n"
     ]
    },
    {
     "name": "stdout",
     "output_type": "stream",
     "text": [
      "Error retrieving schedule for 2020: Failed to load any schedule data.. This season might not exist or there's a connectivity issue. Skipping season.\n",
      "\n",
      "Processing season: 2021\n",
      "  Attempting to get event schedule for 2021...\n"
     ]
    },
    {
     "name": "stderr",
     "output_type": "stream",
     "text": [
      "logger      WARNING \tFailed to load schedule from FastF1 backend!\n",
      "req            INFO \tNo cached data found for season_schedule. Loading data...\n",
      "_api           INFO \tFetching season schedule...\n",
      "logger      WARNING \tFailed to load schedule from F1 API backend!\n",
      "logger      WARNING \tFailed to load schedule from Ergast API backend!\n"
     ]
    },
    {
     "name": "stdout",
     "output_type": "stream",
     "text": [
      "Error retrieving schedule for 2021: Failed to load any schedule data.. This season might not exist or there's a connectivity issue. Skipping season.\n",
      "\n",
      "Processing season: 2022\n",
      "  Attempting to get event schedule for 2022...\n"
     ]
    },
    {
     "name": "stderr",
     "output_type": "stream",
     "text": [
      "logger      WARNING \tFailed to load schedule from FastF1 backend!\n",
      "req            INFO \tNo cached data found for season_schedule. Loading data...\n",
      "_api           INFO \tFetching season schedule...\n",
      "logger      WARNING \tFailed to load schedule from F1 API backend!\n",
      "logger      WARNING \tFailed to load schedule from Ergast API backend!\n"
     ]
    },
    {
     "name": "stdout",
     "output_type": "stream",
     "text": [
      "Error retrieving schedule for 2022: Failed to load any schedule data.. This season might not exist or there's a connectivity issue. Skipping season.\n",
      "\n",
      "Processing season: 2023\n",
      "  Attempting to get event schedule for 2023...\n"
     ]
    },
    {
     "name": "stderr",
     "output_type": "stream",
     "text": [
      "logger      WARNING \tFailed to load schedule from FastF1 backend!\n",
      "req            INFO \tNo cached data found for season_schedule. Loading data...\n",
      "_api           INFO \tFetching season schedule...\n",
      "logger      WARNING \tFailed to load schedule from F1 API backend!\n",
      "logger      WARNING \tFailed to load schedule from Ergast API backend!\n"
     ]
    },
    {
     "name": "stdout",
     "output_type": "stream",
     "text": [
      "Error retrieving schedule for 2023: Failed to load any schedule data.. This season might not exist or there's a connectivity issue. Skipping season.\n",
      "\n",
      "Processing season: 2024\n",
      "  Attempting to get event schedule for 2024...\n"
     ]
    },
    {
     "name": "stderr",
     "output_type": "stream",
     "text": [
      "logger      WARNING \tFailed to load schedule from FastF1 backend!\n",
      "req            INFO \tNo cached data found for season_schedule. Loading data...\n",
      "_api           INFO \tFetching season schedule...\n",
      "logger      WARNING \tFailed to load schedule from F1 API backend!\n",
      "logger      WARNING \tFailed to load schedule from Ergast API backend!\n"
     ]
    },
    {
     "name": "stdout",
     "output_type": "stream",
     "text": [
      "Error retrieving schedule for 2024: Failed to load any schedule data.. This season might not exist or there's a connectivity issue. Skipping season.\n",
      "\n",
      "Processing season: 2025\n",
      "  Attempting to get event schedule for 2025...\n"
     ]
    },
    {
     "name": "stderr",
     "output_type": "stream",
     "text": [
      "logger      WARNING \tFailed to load schedule from FastF1 backend!\n",
      "req            INFO \tNo cached data found for season_schedule. Loading data...\n",
      "_api           INFO \tFetching season schedule...\n",
      "logger      WARNING \tFailed to load schedule from F1 API backend!\n",
      "logger      WARNING \tFailed to load schedule from Ergast API backend!\n"
     ]
    },
    {
     "name": "stdout",
     "output_type": "stream",
     "text": [
      "Error retrieving schedule for 2025: Failed to load any schedule data.. This season might not exist or there's a connectivity issue. Skipping season.\n",
      "\n",
      "--- Concatenating collected data ---\n",
      "\n",
      "--- Full Race Results DataFrame ---\n",
      "Total entries in Race Results: 1000\n",
      "  DriverNumber BroadcastName Abbreviation  DriverId  TeamName TeamColor  \\\n",
      "0           44                        HAM  hamilton  Mercedes             \n",
      "1            6                        ROS   rosberg  Mercedes             \n",
      "2            5                        VET    vettel   Ferrari             \n",
      "3           19                        MAS     massa  Williams             \n",
      "4           12                        NAS      nasr    Sauber             \n",
      "\n",
      "     TeamId  FirstName  LastName          FullName  ...  Q2  Q3  \\\n",
      "0  mercedes      Lewis  Hamilton    Lewis Hamilton  ... NaT NaT   \n",
      "1  mercedes       Nico   Rosberg      Nico Rosberg  ... NaT NaT   \n",
      "2   ferrari  Sebastian    Vettel  Sebastian Vettel  ... NaT NaT   \n",
      "3  williams     Felipe     Massa      Felipe Massa  ... NaT NaT   \n",
      "4    sauber     Felipe      Nasr       Felipe Nasr  ... NaT NaT   \n",
      "\n",
      "                    Time    Status  Points  Laps Season Round  \\\n",
      "0 0 days 01:31:54.067000  Finished    25.0  58.0   2015     1   \n",
      "1 0 days 00:00:01.360000  Finished    18.0  58.0   2015     1   \n",
      "2 0 days 00:00:34.523000  Finished    15.0  58.0   2015     1   \n",
      "3 0 days 00:00:38.196000  Finished    12.0  58.0   2015     1   \n",
      "4 0 days 00:01:35.149000  Finished    10.0  58.0   2015     1   \n",
      "\n",
      "               EventName SessionType  \n",
      "0  Australian Grand Prix        Race  \n",
      "1  Australian Grand Prix        Race  \n",
      "2  Australian Grand Prix        Race  \n",
      "3  Australian Grand Prix        Race  \n",
      "4  Australian Grand Prix        Race  \n",
      "\n",
      "[5 rows x 26 columns]\n",
      "<class 'fastf1.core.SessionResults'>\n",
      "RangeIndex: 1000 entries, 0 to 999\n",
      "Data columns (total 26 columns):\n",
      " #   Column              Non-Null Count  Dtype          \n",
      "---  ------              --------------  -----          \n",
      " 0   DriverNumber        1000 non-null   object         \n",
      " 1   BroadcastName       1000 non-null   object         \n",
      " 2   Abbreviation        1000 non-null   object         \n",
      " 3   DriverId            1000 non-null   object         \n",
      " 4   TeamName            1000 non-null   object         \n",
      " 5   TeamColor           1000 non-null   object         \n",
      " 6   TeamId              1000 non-null   object         \n",
      " 7   FirstName           1000 non-null   object         \n",
      " 8   LastName            1000 non-null   object         \n",
      " 9   FullName            1000 non-null   object         \n",
      " 10  HeadshotUrl         1000 non-null   object         \n",
      " 11  CountryCode         1000 non-null   object         \n",
      " 12  Position            1000 non-null   float64        \n",
      " 13  ClassifiedPosition  1000 non-null   object         \n",
      " 14  GridPosition        1000 non-null   float64        \n",
      " 15  Q1                  0 non-null      timedelta64[ns]\n",
      " 16  Q2                  0 non-null      timedelta64[ns]\n",
      " 17  Q3                  0 non-null      timedelta64[ns]\n",
      " 18  Time                441 non-null    timedelta64[ns]\n",
      " 19  Status              1000 non-null   object         \n",
      " 20  Points              1000 non-null   float64        \n",
      " 21  Laps                1000 non-null   float64        \n",
      " 22  Season              1000 non-null   int64          \n",
      " 23  Round               1000 non-null   int64          \n",
      " 24  EventName           1000 non-null   object         \n",
      " 25  SessionType         1000 non-null   object         \n",
      "dtypes: float64(4), int64(2), object(16), timedelta64[ns](4)\n",
      "memory usage: 203.3+ KB\n",
      "None\n",
      "\n",
      "--- Full Qualifying Results DataFrame ---\n",
      "Total entries in Qualifying Results: 990\n",
      "  DriverNumber BroadcastName Abbreviation   DriverId  TeamName TeamColor  \\\n",
      "0           44                        HAM   hamilton  Mercedes             \n",
      "1            6                        ROS    rosberg  Mercedes             \n",
      "2           19                        MAS      massa  Williams             \n",
      "3            5                        VET     vettel   Ferrari             \n",
      "4            7                        RAI  raikkonen   Ferrari             \n",
      "\n",
      "     TeamId  FirstName   LastName          FullName  ...  \\\n",
      "0  mercedes      Lewis   Hamilton    Lewis Hamilton  ...   \n",
      "1  mercedes       Nico    Rosberg      Nico Rosberg  ...   \n",
      "2  williams     Felipe      Massa      Felipe Massa  ...   \n",
      "3   ferrari  Sebastian     Vettel  Sebastian Vettel  ...   \n",
      "4   ferrari       Kimi  Räikkönen    Kimi Räikkönen  ...   \n",
      "\n",
      "                      Q2                     Q3  Time Status  Points Laps  \\\n",
      "0 0 days 00:01:26.894000 0 days 00:01:26.327000   NaT            NaN  NaN   \n",
      "1 0 days 00:01:27.097000 0 days 00:01:26.921000   NaT            NaN  NaN   \n",
      "2 0 days 00:01:27.895000 0 days 00:01:27.718000   NaT            NaN  NaN   \n",
      "3 0 days 00:01:27.742000 0 days 00:01:27.757000   NaT            NaN  NaN   \n",
      "4 0 days 00:01:27.807000 0 days 00:01:27.790000   NaT            NaN  NaN   \n",
      "\n",
      "  Season Round              EventName SessionType  \n",
      "0   2015     1  Australian Grand Prix  Qualifying  \n",
      "1   2015     1  Australian Grand Prix  Qualifying  \n",
      "2   2015     1  Australian Grand Prix  Qualifying  \n",
      "3   2015     1  Australian Grand Prix  Qualifying  \n",
      "4   2015     1  Australian Grand Prix  Qualifying  \n",
      "\n",
      "[5 rows x 26 columns]\n",
      "<class 'fastf1.core.SessionResults'>\n",
      "RangeIndex: 990 entries, 0 to 989\n",
      "Data columns (total 26 columns):\n",
      " #   Column              Non-Null Count  Dtype          \n",
      "---  ------              --------------  -----          \n",
      " 0   DriverNumber        990 non-null    object         \n",
      " 1   BroadcastName       990 non-null    object         \n",
      " 2   Abbreviation        990 non-null    object         \n",
      " 3   DriverId            990 non-null    object         \n",
      " 4   TeamName            990 non-null    object         \n",
      " 5   TeamColor           990 non-null    object         \n",
      " 6   TeamId              990 non-null    object         \n",
      " 7   FirstName           990 non-null    object         \n",
      " 8   LastName            990 non-null    object         \n",
      " 9   FullName            990 non-null    object         \n",
      " 10  HeadshotUrl         990 non-null    object         \n",
      " 11  CountryCode         990 non-null    object         \n",
      " 12  Position            990 non-null    float64        \n",
      " 13  ClassifiedPosition  990 non-null    object         \n",
      " 14  GridPosition        0 non-null      float64        \n",
      " 15  Q1                  984 non-null    timedelta64[ns]\n",
      " 16  Q2                  729 non-null    timedelta64[ns]\n",
      " 17  Q3                  459 non-null    timedelta64[ns]\n",
      " 18  Time                0 non-null      timedelta64[ns]\n",
      " 19  Status              990 non-null    object         \n",
      " 20  Points              0 non-null      float64        \n",
      " 21  Laps                0 non-null      float64        \n",
      " 22  Season              990 non-null    int64          \n",
      " 23  Round               990 non-null    int64          \n",
      " 24  EventName           990 non-null    object         \n",
      " 25  SessionType         990 non-null    object         \n",
      "dtypes: float64(4), int64(2), object(16), timedelta64[ns](4)\n",
      "memory usage: 201.2+ KB\n",
      "None\n",
      "\n",
      "--- Data collection process finished ---\n"
     ]
    }
   ],
   "source": [
    "import fastf1\n",
    "import pandas as pd\n",
    "import os\n",
    "\n",
    "# --- 1. Configure FastF1 Caching ---\n",
    "# Ensure this directory exists and is accessible\n",
    "cache_dir = './data_cache'\n",
    "if not os.path.exists(cache_dir):\n",
    "    os.makedirs(cache_dir)\n",
    "    print(f\"Created cache directory: {cache_dir}\")\n",
    "else:\n",
    "    print(f\"Cache directory already exists: {cache_dir}\")\n",
    "\n",
    "fastf1.Cache.enable_cache(cache_dir)\n",
    "print(f\"FastF1 caching enabled to '{cache_dir}'\")\n",
    "\n",
    "# --- IMPORTANT: REMOVE OR COMMENT OUT THIS LINE TO SEE ALL FASTF1 MESSAGES ---\n",
    "# fastf1.set_log_level('ERROR') # <--- Make sure this line is commented out or deleted!\n",
    "print(\"\\nFastF1 log level set to default (INFO) to show all messages.\")\n",
    "\n",
    "\n",
    "# --- 2. Define the Years You Want to Read ---\n",
    "start_year = 2015\n",
    "end_year = 2025 # Includes this year\n",
    "\n",
    "# Lists to hold DataFrames from each race\n",
    "all_race_results = []\n",
    "all_qualifying_results = []\n",
    "\n",
    "print(f\"\\n--- Starting data collection for seasons {start_year} to {end_year} ---\")\n",
    "\n",
    "for year in range(start_year, end_year + 1):\n",
    "    print(f\"\\nProcessing season: {year}\")\n",
    "    try:\n",
    "        # Get the event schedule for the current year\n",
    "        print(f\"  Attempting to get event schedule for {year}...\")\n",
    "        schedule = fastf1.get_event_schedule(year)\n",
    "        print(f\"  Schedule loaded for {year}. Found {len(schedule)} events.\")\n",
    "\n",
    "        # Filter for actual race events (excluding test sessions, etc.)\n",
    "        race_events = schedule.loc[schedule['EventFormat'].isin(['conventional', 'sprint'])]\n",
    "        print(f\"  Filtered for 'conventional'/'sprint' race events. Found {len(race_events)} race weekends.\")\n",
    "\n",
    "        if race_events.empty:\n",
    "            print(f\"  No 'conventional' or 'sprint' race events found for {year}. Skipping season.\")\n",
    "            continue\n",
    "\n",
    "        for round_num in race_events['RoundNumber']:\n",
    "            print(f\"  -> Attempting to load data for {year} Round {round_num}...\")\n",
    "            try:\n",
    "                # --- Load Race Session Results ---\n",
    "                race_session_name = f\"{year} Round {round_num} (Race)\"\n",
    "                print(f\"    Loading {race_session_name}...\")\n",
    "                race_session = fastf1.get_session(year, round_num, 'R')\n",
    "                race_session.load(telemetry=False, laps=False, weather=False)\n",
    "\n",
    "                if race_session.results.empty:\n",
    "                    print(f\"    WARNING: No results found for {race_session_name}. It might not have happened yet or data is unavailable.\")\n",
    "                else:\n",
    "                    results_df = race_session.results.copy()\n",
    "                    results_df['Season'] = year\n",
    "                    results_df['Round'] = round_num\n",
    "                    results_df['EventName'] = race_session.event['EventName']\n",
    "                    results_df['SessionType'] = 'Race'\n",
    "                    all_race_results.append(results_df)\n",
    "                    print(f\"    Loaded {len(results_df)} race results entries for {race_session_name}.\")\n",
    "\n",
    "                # --- Optionally, load Qualifying Session Results ---\n",
    "                try:\n",
    "                    quali_session_name = f\"{year} Round {round_num} (Qualifying)\"\n",
    "                    print(f\"    Loading {quali_session_name}...\")\n",
    "                    quali_session = fastf1.get_session(year, round_num, 'Q')\n",
    "                    quali_session.load(telemetry=False, laps=False, weather=False)\n",
    "\n",
    "                    if quali_session.results.empty:\n",
    "                        print(f\"    WARNING: No results found for {quali_session_name}. It might not have happened yet or data is unavailable.\")\n",
    "                    else:\n",
    "                        quali_results_df = quali_session.results.copy()\n",
    "                        quali_results_df['Season'] = year\n",
    "                        quali_results_df['Round'] = round_num\n",
    "                        quali_results_df['EventName'] = quali_session.event['EventName']\n",
    "                        quali_results_df['SessionType'] = 'Qualifying'\n",
    "                        all_qualifying_results.append(quali_results_df)\n",
    "                        print(f\"    Loaded {len(quali_results_df)} qualifying results entries for {quali_session_name}.\")\n",
    "\n",
    "                except Exception as e:\n",
    "                    print(f\"    Error loading Qualifying for {year} R{round_num}: {e}. Skipping qualifying data for this race.\")\n",
    "\n",
    "            except Exception as e:\n",
    "                print(f\"  CRITICAL ERROR loading session {year} R{round_num}: {e}. Skipping this race and round.\")\n",
    "\n",
    "    except Exception as e:\n",
    "        print(f\"Error retrieving schedule for {year}: {e}. This season might not exist or there's a connectivity issue. Skipping season.\")\n",
    "\n",
    "# --- 3. Concatenate All DataFrames ---\n",
    "print(\"\\n--- Concatenating collected data ---\")\n",
    "if all_race_results:\n",
    "    full_race_results_df = pd.concat(all_race_results, ignore_index=True)\n",
    "    print(\"\\n--- Full Race Results DataFrame ---\")\n",
    "    print(f\"Total entries in Race Results: {len(full_race_results_df)}\")\n",
    "    print(full_race_results_df.head())\n",
    "    print(full_race_results_df.info())\n",
    "else:\n",
    "    print(\"\\nNo race results data collected into a DataFrame.\")\n",
    "\n",
    "if all_qualifying_results:\n",
    "    full_quali_results_df = pd.concat(all_qualifying_results, ignore_index=True)\n",
    "    print(\"\\n--- Full Qualifying Results DataFrame ---\")\n",
    "    print(f\"Total entries in Qualifying Results: {len(full_quali_results_df)}\")\n",
    "    print(full_quali_results_df.head())\n",
    "    print(full_quali_results_df.info())\n",
    "else:\n",
    "    print(\"\\nNo qualifying results data collected into a DataFrame.\")\n",
    "\n",
    "print(\"\\n--- Data collection process finished ---\")"
   ]
  },
  {
   "cell_type": "markdown",
   "metadata": {},
   "source": [
    "## Data Preprocessing\n",
    "We now handle any missing values in the dataframe, ensuring appropriate format for training.\n",
    "The code cell below reveals the columns in `full_race_results_df`, from which we will remove the ones unnecessary in the training of the model."
   ]
  },
  {
   "cell_type": "code",
   "execution_count": 22,
   "metadata": {},
   "outputs": [
    {
     "data": {
      "text/plain": [
       "Index(['DriverNumber', 'BroadcastName', 'Abbreviation', 'DriverId', 'TeamName',\n",
       "       'TeamColor', 'TeamId', 'FirstName', 'LastName', 'FullName',\n",
       "       'HeadshotUrl', 'CountryCode', 'Position', 'ClassifiedPosition',\n",
       "       'GridPosition', 'Q1', 'Q2', 'Q3', 'Time', 'Status', 'Points', 'Laps',\n",
       "       'Season', 'Round', 'EventName', 'SessionType'],\n",
       "      dtype='object')"
      ]
     },
     "execution_count": 22,
     "metadata": {},
     "output_type": "execute_result"
    }
   ],
   "source": [
    "full_race_results_df.columns"
   ]
  },
  {
   "cell_type": "markdown",
   "metadata": {},
   "source": [
    "The columns `'DriverNumber', 'BroadcastName', 'DriverId', 'TeamColor', 'TeamId', 'FirstName', 'LastName', 'FullName', 'HeadshotUrl', 'CountryCode', 'ClassifiedPosition', 'Q1', 'Q2', 'Q3', 'Time', 'Status', 'Points', 'Laps', 'SessionType'` are dropped from the original DataFrame, and the resulting DataFrame is stored in `new_df`.\n",
    "\n",
    "As the model will be made to predict the raw `Position` of each driver, `ClassifiedPosition` is removed since race retirement is extremely situational and `Position` will instead be used as the target variable."
   ]
  },
  {
   "cell_type": "code",
   "execution_count": 23,
   "metadata": {},
   "outputs": [],
   "source": [
    "race_data_for_merge = full_race_results_df.drop(['DriverNumber', 'BroadcastName', 'DriverId', 'TeamColor', 'TeamId', 'FirstName', 'LastName', 'FullName', 'HeadshotUrl', 'CountryCode', 'ClassifiedPosition', 'Q1', 'Q2', 'Q3', 'Time', 'Status', 'Points', 'Laps', 'SessionType'], axis=1)"
   ]
  },
  {
   "cell_type": "markdown",
   "metadata": {},
   "source": [
    "`'Q1', 'Q2', and 'Q3'` are `timedelta` objects and are converted into seconds and stored respectively in the new columns `'Q1_s', 'Q2_s', and 'Q3_s'`. This will allow for its meaningful use when training the model."
   ]
  },
  {
   "cell_type": "code",
   "execution_count": 24,
   "metadata": {},
   "outputs": [],
   "source": [
    "# Creating new columns to hold values of 'Q1', 'Q2, and 'Q3' in seconds.\n",
    "full_quali_results_df['Q1_s'] = full_quali_results_df['Q1'].dt.total_seconds().fillna(9999.0)\n",
    "full_quali_results_df['Q2_s'] = full_quali_results_df['Q2'].dt.total_seconds().fillna(9999.0)\n",
    "full_quali_results_df['Q3_s'] = full_quali_results_df['Q3'].dt.total_seconds().fillna(9999.0)"
   ]
  },
  {
   "cell_type": "markdown",
   "metadata": {},
   "source": [
    "Since certain qualifying data are useful for training the model, we merge a subset of the 2 dataframes `full_race_results_df` and `full_quali_results_df`, keeping only the relevant information."
   ]
  },
  {
   "cell_type": "code",
   "execution_count": 25,
   "metadata": {},
   "outputs": [],
   "source": [
    "quali_data_for_merge = full_quali_results_df[['Abbreviation', 'Season', 'Round', 'EventName', 'Q1_s', 'Q2_s', 'Q3_s']].copy() \n",
    "\n",
    "merged_df = pd.merge(\n",
    "    race_data_for_merge,\n",
    "    quali_data_for_merge,\n",
    "    on=['Abbreviation', 'Season', 'Round', 'EventName'],\n",
    "    how='left'\n",
    ")\n",
    "\n",
    "# Organising columns for readability and easier management\n",
    "merged_df = merged_df[[    \n",
    "    'Season',         \n",
    "    'Round',\n",
    "    'EventName',\n",
    "    'Abbreviation',   # Driver identifier eg. 'VER', 'PER', 'ALO'\n",
    "    'TeamName',      \n",
    "    'GridPosition',   # Qualifying positions, also positions in which they start on during race\n",
    "    'Q1_s',           # Q1 time in seconds\n",
    "    'Q2_s',\n",
    "    'Q3_s',\n",
    "    'Position'        # The target variable for race prediction\n",
    "]]"
   ]
  },
  {
   "cell_type": "code",
   "execution_count": 26,
   "metadata": {},
   "outputs": [
    {
     "data": {
      "text/html": [
       "<div>\n",
       "<style scoped>\n",
       "    .dataframe tbody tr th:only-of-type {\n",
       "        vertical-align: middle;\n",
       "    }\n",
       "\n",
       "    .dataframe tbody tr th {\n",
       "        vertical-align: top;\n",
       "    }\n",
       "\n",
       "    .dataframe thead th {\n",
       "        text-align: right;\n",
       "    }\n",
       "</style>\n",
       "<table border=\"1\" class=\"dataframe\">\n",
       "  <thead>\n",
       "    <tr style=\"text-align: right;\">\n",
       "      <th></th>\n",
       "      <th>Season</th>\n",
       "      <th>Round</th>\n",
       "      <th>EventName</th>\n",
       "      <th>Abbreviation</th>\n",
       "      <th>TeamName</th>\n",
       "      <th>GridPosition</th>\n",
       "      <th>Q1_s</th>\n",
       "      <th>Q2_s</th>\n",
       "      <th>Q3_s</th>\n",
       "      <th>Position</th>\n",
       "    </tr>\n",
       "  </thead>\n",
       "  <tbody>\n",
       "    <tr>\n",
       "      <th>0</th>\n",
       "      <td>2015</td>\n",
       "      <td>1</td>\n",
       "      <td>Australian Grand Prix</td>\n",
       "      <td>HAM</td>\n",
       "      <td>Mercedes</td>\n",
       "      <td>1.0</td>\n",
       "      <td>88.586</td>\n",
       "      <td>86.894</td>\n",
       "      <td>86.327</td>\n",
       "      <td>1.0</td>\n",
       "    </tr>\n",
       "    <tr>\n",
       "      <th>1</th>\n",
       "      <td>2015</td>\n",
       "      <td>1</td>\n",
       "      <td>Australian Grand Prix</td>\n",
       "      <td>ROS</td>\n",
       "      <td>Mercedes</td>\n",
       "      <td>2.0</td>\n",
       "      <td>88.906</td>\n",
       "      <td>87.097</td>\n",
       "      <td>86.921</td>\n",
       "      <td>2.0</td>\n",
       "    </tr>\n",
       "    <tr>\n",
       "      <th>2</th>\n",
       "      <td>2015</td>\n",
       "      <td>1</td>\n",
       "      <td>Australian Grand Prix</td>\n",
       "      <td>VET</td>\n",
       "      <td>Ferrari</td>\n",
       "      <td>4.0</td>\n",
       "      <td>89.307</td>\n",
       "      <td>87.742</td>\n",
       "      <td>87.757</td>\n",
       "      <td>3.0</td>\n",
       "    </tr>\n",
       "    <tr>\n",
       "      <th>3</th>\n",
       "      <td>2015</td>\n",
       "      <td>1</td>\n",
       "      <td>Australian Grand Prix</td>\n",
       "      <td>MAS</td>\n",
       "      <td>Williams</td>\n",
       "      <td>3.0</td>\n",
       "      <td>89.246</td>\n",
       "      <td>87.895</td>\n",
       "      <td>87.718</td>\n",
       "      <td>4.0</td>\n",
       "    </tr>\n",
       "    <tr>\n",
       "      <th>4</th>\n",
       "      <td>2015</td>\n",
       "      <td>1</td>\n",
       "      <td>Australian Grand Prix</td>\n",
       "      <td>NAS</td>\n",
       "      <td>Sauber</td>\n",
       "      <td>10.0</td>\n",
       "      <td>90.430</td>\n",
       "      <td>88.800</td>\n",
       "      <td>9999.000</td>\n",
       "      <td>5.0</td>\n",
       "    </tr>\n",
       "    <tr>\n",
       "      <th>5</th>\n",
       "      <td>2015</td>\n",
       "      <td>1</td>\n",
       "      <td>Australian Grand Prix</td>\n",
       "      <td>RIC</td>\n",
       "      <td>Red Bull</td>\n",
       "      <td>6.0</td>\n",
       "      <td>89.788</td>\n",
       "      <td>88.679</td>\n",
       "      <td>88.329</td>\n",
       "      <td>6.0</td>\n",
       "    </tr>\n",
       "    <tr>\n",
       "      <th>6</th>\n",
       "      <td>2015</td>\n",
       "      <td>1</td>\n",
       "      <td>Australian Grand Prix</td>\n",
       "      <td>HUL</td>\n",
       "      <td>Force India</td>\n",
       "      <td>13.0</td>\n",
       "      <td>89.651</td>\n",
       "      <td>89.208</td>\n",
       "      <td>9999.000</td>\n",
       "      <td>7.0</td>\n",
       "    </tr>\n",
       "    <tr>\n",
       "      <th>7</th>\n",
       "      <td>2015</td>\n",
       "      <td>1</td>\n",
       "      <td>Australian Grand Prix</td>\n",
       "      <td>ERI</td>\n",
       "      <td>Sauber</td>\n",
       "      <td>15.0</td>\n",
       "      <td>91.376</td>\n",
       "      <td>9999.000</td>\n",
       "      <td>9999.000</td>\n",
       "      <td>8.0</td>\n",
       "    </tr>\n",
       "    <tr>\n",
       "      <th>8</th>\n",
       "      <td>2015</td>\n",
       "      <td>1</td>\n",
       "      <td>Australian Grand Prix</td>\n",
       "      <td>SAI</td>\n",
       "      <td>Toro Rosso</td>\n",
       "      <td>7.0</td>\n",
       "      <td>89.597</td>\n",
       "      <td>88.601</td>\n",
       "      <td>88.510</td>\n",
       "      <td>9.0</td>\n",
       "    </tr>\n",
       "    <tr>\n",
       "      <th>9</th>\n",
       "      <td>2015</td>\n",
       "      <td>1</td>\n",
       "      <td>Australian Grand Prix</td>\n",
       "      <td>PER</td>\n",
       "      <td>Force India</td>\n",
       "      <td>14.0</td>\n",
       "      <td>89.990</td>\n",
       "      <td>89.209</td>\n",
       "      <td>9999.000</td>\n",
       "      <td>10.0</td>\n",
       "    </tr>\n",
       "    <tr>\n",
       "      <th>10</th>\n",
       "      <td>2015</td>\n",
       "      <td>1</td>\n",
       "      <td>Australian Grand Prix</td>\n",
       "      <td>BUT</td>\n",
       "      <td>McLaren</td>\n",
       "      <td>16.0</td>\n",
       "      <td>91.422</td>\n",
       "      <td>9999.000</td>\n",
       "      <td>9999.000</td>\n",
       "      <td>11.0</td>\n",
       "    </tr>\n",
       "    <tr>\n",
       "      <th>11</th>\n",
       "      <td>2015</td>\n",
       "      <td>1</td>\n",
       "      <td>Australian Grand Prix</td>\n",
       "      <td>RAI</td>\n",
       "      <td>Ferrari</td>\n",
       "      <td>5.0</td>\n",
       "      <td>89.754</td>\n",
       "      <td>87.807</td>\n",
       "      <td>87.790</td>\n",
       "      <td>12.0</td>\n",
       "    </tr>\n",
       "    <tr>\n",
       "      <th>12</th>\n",
       "      <td>2015</td>\n",
       "      <td>1</td>\n",
       "      <td>Australian Grand Prix</td>\n",
       "      <td>VER</td>\n",
       "      <td>Toro Rosso</td>\n",
       "      <td>11.0</td>\n",
       "      <td>89.248</td>\n",
       "      <td>88.868</td>\n",
       "      <td>9999.000</td>\n",
       "      <td>13.0</td>\n",
       "    </tr>\n",
       "    <tr>\n",
       "      <th>13</th>\n",
       "      <td>2015</td>\n",
       "      <td>1</td>\n",
       "      <td>Australian Grand Prix</td>\n",
       "      <td>GRO</td>\n",
       "      <td>Lotus F1</td>\n",
       "      <td>8.0</td>\n",
       "      <td>89.537</td>\n",
       "      <td>88.589</td>\n",
       "      <td>88.560</td>\n",
       "      <td>14.0</td>\n",
       "    </tr>\n",
       "    <tr>\n",
       "      <th>14</th>\n",
       "      <td>2015</td>\n",
       "      <td>1</td>\n",
       "      <td>Australian Grand Prix</td>\n",
       "      <td>MAL</td>\n",
       "      <td>Lotus F1</td>\n",
       "      <td>9.0</td>\n",
       "      <td>89.847</td>\n",
       "      <td>88.726</td>\n",
       "      <td>89.480</td>\n",
       "      <td>15.0</td>\n",
       "    </tr>\n",
       "    <tr>\n",
       "      <th>15</th>\n",
       "      <td>2015</td>\n",
       "      <td>1</td>\n",
       "      <td>Australian Grand Prix</td>\n",
       "      <td>KVY</td>\n",
       "      <td>Red Bull</td>\n",
       "      <td>12.0</td>\n",
       "      <td>90.402</td>\n",
       "      <td>89.070</td>\n",
       "      <td>9999.000</td>\n",
       "      <td>16.0</td>\n",
       "    </tr>\n",
       "    <tr>\n",
       "      <th>16</th>\n",
       "      <td>2015</td>\n",
       "      <td>1</td>\n",
       "      <td>Australian Grand Prix</td>\n",
       "      <td>MAG</td>\n",
       "      <td>McLaren</td>\n",
       "      <td>17.0</td>\n",
       "      <td>92.037</td>\n",
       "      <td>9999.000</td>\n",
       "      <td>9999.000</td>\n",
       "      <td>17.0</td>\n",
       "    </tr>\n",
       "    <tr>\n",
       "      <th>17</th>\n",
       "      <td>2015</td>\n",
       "      <td>1</td>\n",
       "      <td>Australian Grand Prix</td>\n",
       "      <td>BOT</td>\n",
       "      <td>Williams</td>\n",
       "      <td>0.0</td>\n",
       "      <td>89.641</td>\n",
       "      <td>87.796</td>\n",
       "      <td>88.087</td>\n",
       "      <td>18.0</td>\n",
       "    </tr>\n",
       "    <tr>\n",
       "      <th>18</th>\n",
       "      <td>2015</td>\n",
       "      <td>2</td>\n",
       "      <td>Malaysian Grand Prix</td>\n",
       "      <td>VET</td>\n",
       "      <td>Ferrari</td>\n",
       "      <td>2.0</td>\n",
       "      <td>99.814</td>\n",
       "      <td>99.632</td>\n",
       "      <td>109.908</td>\n",
       "      <td>1.0</td>\n",
       "    </tr>\n",
       "    <tr>\n",
       "      <th>19</th>\n",
       "      <td>2015</td>\n",
       "      <td>2</td>\n",
       "      <td>Malaysian Grand Prix</td>\n",
       "      <td>HAM</td>\n",
       "      <td>Mercedes</td>\n",
       "      <td>1.0</td>\n",
       "      <td>99.269</td>\n",
       "      <td>101.517</td>\n",
       "      <td>109.834</td>\n",
       "      <td>2.0</td>\n",
       "    </tr>\n",
       "  </tbody>\n",
       "</table>\n",
       "</div>"
      ],
      "text/plain": [
       "    Season  Round              EventName Abbreviation     TeamName  \\\n",
       "0     2015      1  Australian Grand Prix          HAM     Mercedes   \n",
       "1     2015      1  Australian Grand Prix          ROS     Mercedes   \n",
       "2     2015      1  Australian Grand Prix          VET      Ferrari   \n",
       "3     2015      1  Australian Grand Prix          MAS     Williams   \n",
       "4     2015      1  Australian Grand Prix          NAS       Sauber   \n",
       "5     2015      1  Australian Grand Prix          RIC     Red Bull   \n",
       "6     2015      1  Australian Grand Prix          HUL  Force India   \n",
       "7     2015      1  Australian Grand Prix          ERI       Sauber   \n",
       "8     2015      1  Australian Grand Prix          SAI   Toro Rosso   \n",
       "9     2015      1  Australian Grand Prix          PER  Force India   \n",
       "10    2015      1  Australian Grand Prix          BUT      McLaren   \n",
       "11    2015      1  Australian Grand Prix          RAI      Ferrari   \n",
       "12    2015      1  Australian Grand Prix          VER   Toro Rosso   \n",
       "13    2015      1  Australian Grand Prix          GRO     Lotus F1   \n",
       "14    2015      1  Australian Grand Prix          MAL     Lotus F1   \n",
       "15    2015      1  Australian Grand Prix          KVY     Red Bull   \n",
       "16    2015      1  Australian Grand Prix          MAG      McLaren   \n",
       "17    2015      1  Australian Grand Prix          BOT     Williams   \n",
       "18    2015      2   Malaysian Grand Prix          VET      Ferrari   \n",
       "19    2015      2   Malaysian Grand Prix          HAM     Mercedes   \n",
       "\n",
       "    GridPosition    Q1_s      Q2_s      Q3_s  Position  \n",
       "0            1.0  88.586    86.894    86.327       1.0  \n",
       "1            2.0  88.906    87.097    86.921       2.0  \n",
       "2            4.0  89.307    87.742    87.757       3.0  \n",
       "3            3.0  89.246    87.895    87.718       4.0  \n",
       "4           10.0  90.430    88.800  9999.000       5.0  \n",
       "5            6.0  89.788    88.679    88.329       6.0  \n",
       "6           13.0  89.651    89.208  9999.000       7.0  \n",
       "7           15.0  91.376  9999.000  9999.000       8.0  \n",
       "8            7.0  89.597    88.601    88.510       9.0  \n",
       "9           14.0  89.990    89.209  9999.000      10.0  \n",
       "10          16.0  91.422  9999.000  9999.000      11.0  \n",
       "11           5.0  89.754    87.807    87.790      12.0  \n",
       "12          11.0  89.248    88.868  9999.000      13.0  \n",
       "13           8.0  89.537    88.589    88.560      14.0  \n",
       "14           9.0  89.847    88.726    89.480      15.0  \n",
       "15          12.0  90.402    89.070  9999.000      16.0  \n",
       "16          17.0  92.037  9999.000  9999.000      17.0  \n",
       "17           0.0  89.641    87.796    88.087      18.0  \n",
       "18           2.0  99.814    99.632   109.908       1.0  \n",
       "19           1.0  99.269   101.517   109.834       2.0  "
      ]
     },
     "execution_count": 26,
     "metadata": {},
     "output_type": "execute_result"
    }
   ],
   "source": [
    "quali_data_for_merge = full_quali_results_df[['Abbreviation', 'Season', 'Round', 'EventName', 'Q1_s', 'Q2_s', 'Q3_s']].copy()\n",
    "\n",
    "merged_df = pd.merge(\n",
    "    race_data_for_merge,\n",
    "    quali_data_for_merge,\n",
    "    on=['Abbreviation', 'Season', 'Round', 'EventName'],\n",
    "    how='left'\n",
    ")\n",
    "\n",
    "# Organising columns for readability and easier management\n",
    "merged_df = merged_df[[\n",
    "    'Season', \n",
    "    'Round',\n",
    "    'EventName',\n",
    "    'Abbreviation', # Driver identifier eg. 'VER', 'PER', 'ALO'\n",
    "    'TeamName',\n",
    "    'GridPosition', # Qualifying positions, also positions in which they start on during race\n",
    "    'Q1_s', # Q1 time in seconds\n",
    "    'Q2_s',\n",
    "    'Q3_s',\n",
    "    'Position' # The target variable for race prediction\n",
    "]]\n",
    "\n",
    "merged_df.head(20) # DataFrame snippet of race 1"
   ]
  },
  {
   "cell_type": "markdown",
   "metadata": {},
   "source": [
    "During the 2023 Singapore Grand Prix, driver Lance Stroll was withdrawn from the Sunday race following a heavy crash during Saturday's qualifying session. \n",
    "\n",
    "As a result, we see an empty value for Stroll's `'GridPosition'` and `'Position'`for the event.\n",
    "\n",
    "As there are instances (rows 197, 241, 278, 633) where drivers starting from the pitlanes has resulted in `'GridPosition'` and `'Position'` holding the value of 0.0, we deduce that this is an anomaly on the side of the API."
   ]
  },
  {
   "cell_type": "code",
   "execution_count": null,
   "metadata": {},
   "outputs": [
    {
     "name": "stdout",
     "output_type": "stream",
     "text": [
      "Number of rows with missing values for 'GridPosition' before cleaning: 0\n",
      "Number of rows with missing values for 'GridPosition' after cleaning: 0\n"
     ]
    }
   ],
   "source": [
    "# Result should be 1, referring to this singular anomaly\n",
    "print(\"Number of rows with missing values for 'GridPosition' before cleaning:\", merged_df['GridPosition'].isna().sum())\n",
    "\n",
    "# A simple fix would be to replace all missing values with 0.0\n",
    "merged_df.loc[merged_df['GridPosition'].isna(), 'GridPosition'] = 0.0\n",
    "merged_df.loc[merged_df['Position'].isna(), 'Position'] = 0.0\n",
    "merged_df.loc[merged_df['Q1_s'].isna(), 'Q1_s'] = 0.0\n",
    "merged_df.loc[merged_df['Q2_s'].isna(), 'Q2_s'] = 0.0\n",
    "merged_df.loc[merged_df['Q3_s'].isna(), 'Q3_s'] = 0.0\n",
    "\n",
    "# Result after cleaning\n",
    "print(\"Number of rows with missing values for 'GridPosition' after cleaning:\", merged_df['GridPosition'].isna().sum())\n",
    "\n",
    "#merged_df.to_csv(os.path.join(os.getcwd(), 'merged_df.csv'), index=False) # This optional line creates a .csv file for better visualisation"
   ]
  },
  {
   "cell_type": "markdown",
   "metadata": {},
   "source": [
    "#### One-hot Encoding\n",
    "\n",
    "Now that we have the prepared `merged_df`, we have to convert categorical (non-numerical) data into a numerical format that machine learning algorithms can understand and process effectively. \n",
    "\n",
    "Let us look at the `'TeamName'` column. Without one-hot encoding, if we were to simply assign each team values eg. Red Bull = 1, Ferrari = 2, Mercedes = 3, a machine learning model would interpret these numbers as having an inherent order or magnitude. It might think that Mercedes (3) is \"better\" or \"more important\" or \"further away\" from Red Bull (1) than Ferrari (2) is. This is clearly false for nominal categories like team names, where there's no inherent numerical relationship. This false ordinality can mislead the model and lead to incorrect predictions or reduced performance.\n",
    "\n",
    "With one-hot encoding, we create new binary (0 or 1) columns for every team that exists. If in row 1 was Max Verstappen from team Red bull Racing, we would now have a value of 1 in Team_RedBull and a 0 in the columns of every other team."
   ]
  },
  {
   "cell_type": "code",
   "execution_count": null,
   "metadata": {},
   "outputs": [
    {
     "name": "stdout",
     "output_type": "stream",
     "text": [
      "\n",
      "Original DataFrame shape: (1000, 10)\n",
      "Encoded DataFrame shape: (1000, 68)\n"
     ]
    }
   ],
   "source": [
    "# Define categorical columns for one-hot encoding\n",
    "categorical_cols_to_encode = ['Abbreviation', 'TeamName', 'EventName']\n",
    "\n",
    "# Perform One-Hot Encoding\n",
    "# drop_first=True prevents multicollinearity; dtype=int ensures binary integers\n",
    "merged_df_encoded = pd.get_dummies(\n",
    "    merged_df,\n",
    "    columns=categorical_cols_to_encode,\n",
    "    drop_first=True,\n",
    "    dtype=int\n",
    ")\n",
    "\n",
    "# Note the increase in number of columns after encoding\n",
    "print(f\"\\nOriginal DataFrame shape: {merged_df.shape}\")\n",
    "print(f\"Encoded DataFrame shape: {merged_df_encoded.shape}\")\n",
    "\n",
    "#merged_df_encoded.to_csv(os.path.join(os.getcwd(), 'merged_df_encoded.csv'), index=False) # This optional line creates a .csv file for better visualisation"
   ]
  },
  {
   "cell_type": "markdown",
   "metadata": {},
   "source": [
    "## Model Selection\n",
    "\n",
    "Splitting data into features (X) and the target variable (y)."
   ]
  },
  {
   "cell_type": "code",
   "execution_count": 40,
   "metadata": {},
   "outputs": [
    {
     "name": "stdout",
     "output_type": "stream",
     "text": [
      "\n",
      "X shape: (1000, 67)\n",
      "y shape: (1000,)\n"
     ]
    }
   ],
   "source": [
    "# Define the target variable\n",
    "y = merged_df_encoded['Position']\n",
    "\n",
    "# Define the features (X) by dropping the target and any other non-feature columns\n",
    "columns_to_exclude_from_X = ['Position'] # Only exclude the target variable\n",
    "\n",
    "X = merged_df_encoded.drop(columns=columns_to_exclude_from_X, axis=1)\n",
    "\n",
    "print(f\"\\nX shape: {X.shape}\")\n",
    "print(f\"y shape: {y.shape}\")"
   ]
  },
  {
   "cell_type": "markdown",
   "metadata": {},
   "source": [
    "Dividing the data into training and testing sets."
   ]
  },
  {
   "cell_type": "code",
   "execution_count": 41,
   "metadata": {},
   "outputs": [
    {
     "name": "stdout",
     "output_type": "stream",
     "text": [
      "\n",
      "Train set shape (X_train, y_train): (800, 67), (800,)\n",
      "Test set shape (X_test, y_test): (200, 67), (200,)\n"
     ]
    }
   ],
   "source": [
    "from sklearn.model_selection import train_test_split\n",
    "\n",
    "# Split the data with 80% for training and 20% for testing\n",
    "# random_state ensures reproducibility of your split\n",
    "X_train, X_test, y_train, y_test = train_test_split(X, y, test_size=0.2, random_state=42)\n",
    "\n",
    "print(f\"\\nTrain set shape (X_train, y_train): {X_train.shape}, {y_train.shape}\")\n",
    "print(f\"Test set shape (X_test, y_test): {X_test.shape}, {y_test.shape}\")"
   ]
  },
  {
   "cell_type": "markdown",
   "metadata": {},
   "source": [
    "Choose __Candidate Models__ and define __Hyperparameter Grids__"
   ]
  },
  {
   "cell_type": "code",
   "execution_count": 42,
   "metadata": {},
   "outputs": [],
   "source": [
    "from sklearn.ensemble import RandomForestRegressor, GradientBoostingRegressor\n",
    "from sklearn.model_selection import GridSearchCV, RandomizedSearchCV\n",
    "from sklearn.metrics import mean_absolute_error, make_scorer\n",
    "import joblib # To save the model\n",
    "\n",
    "# Define the scoring metric for optimization\n",
    "# For MAE, lower is better, so we use 'neg_mean_absolute_error' for GridSearchCV\n",
    "# which maximizes the score.\n",
    "mae_scorer = make_scorer(mean_absolute_error, greater_is_better=False)\n",
    "\n",
    "# --- Model 1: RandomForestRegressor ---\n",
    "rf_model = RandomForestRegressor(random_state=42)\n",
    "rf_param_grid = {\n",
    "    'n_estimators': [100, 200, 300],\n",
    "    'max_features': [0.6, 0.8, 1.0],\n",
    "    'min_samples_leaf': [1, 2, 4],\n",
    "}\n",
    "\n",
    "# --- Model 2: GradientBoostingRegressor ---\n",
    "gb_model = GradientBoostingRegressor(random_state=42)\n",
    "gb_param_grid = {\n",
    "    'n_estimators': [100, 200, 300, 700],\n",
    "    'learning_rate': [0.01, 0.05, 0.1],\n",
    "    'max_depth': [3, 4, 5],\n",
    "}\n",
    "\n",
    "# You could add more models here, e.g.,\n",
    "# from xgboost import XGBRegressor\n",
    "# xgb_model = XGBRegressor(random_state=42)\n",
    "# xgb_param_grid = { ... }"
   ]
  },
  {
   "cell_type": "markdown",
   "metadata": {},
   "source": [
    "Perform __Hyperparameter Tuning__ with Cross-Validation (GridSearchCV)"
   ]
  },
  {
   "cell_type": "code",
   "execution_count": 43,
   "metadata": {},
   "outputs": [
    {
     "name": "stdout",
     "output_type": "stream",
     "text": [
      "\n",
      "--- Starting GridSearchCV for RandomForestRegressor ---\n",
      "Fitting 5 folds for each of 27 candidates, totalling 135 fits\n",
      "\n",
      "Best parameters for RandomForestRegressor: {'max_features': 0.6, 'min_samples_leaf': 2, 'n_estimators': 100}\n",
      "Best cross-validated MAE for RandomForestRegressor: 3.654115476592851\n",
      "\n",
      "--- Starting GridSearchCV for GradientBoostingRegressor ---\n",
      "Fitting 5 folds for each of 36 candidates, totalling 180 fits\n",
      "\n",
      "Best parameters for GradientBoostingRegressor: {'learning_rate': 0.05, 'max_depth': 3, 'n_estimators': 100}\n",
      "Best cross-validated MAE for GradientBoostingRegressor: 3.598239884492996\n"
     ]
    }
   ],
   "source": [
    "# --- GridSearchCV for RandomForestRegressor ---\n",
    "print(\"\\n--- Starting GridSearchCV for RandomForestRegressor ---\")\n",
    "rf_grid_search = GridSearchCV(\n",
    "    estimator=rf_model,\n",
    "    param_grid=rf_param_grid,\n",
    "    scoring=mae_scorer,\n",
    "    cv=5,            # 5-fold cross-validation\n",
    "    n_jobs=-1,       # Use all available CPU cores\n",
    "    verbose=1        # Show progress\n",
    ")\n",
    "rf_grid_search.fit(X_train, y_train)\n",
    "\n",
    "print(\"\\nBest parameters for RandomForestRegressor:\", rf_grid_search.best_params_)\n",
    "print(\"Best cross-validated MAE for RandomForestRegressor:\", -rf_grid_search.best_score_)\n",
    "\n",
    "\n",
    "# --- GridSearchCV for GradientBoostingRegressor ---\n",
    "print(\"\\n--- Starting GridSearchCV for GradientBoostingRegressor ---\")\n",
    "gb_grid_search = GridSearchCV(\n",
    "    estimator=gb_model,\n",
    "    param_grid=gb_param_grid,\n",
    "    scoring=mae_scorer,\n",
    "    cv=5,\n",
    "    n_jobs=-1,\n",
    "    verbose=1\n",
    ")\n",
    "gb_grid_search.fit(X_train, y_train)\n",
    "\n",
    "print(\"\\nBest parameters for GradientBoostingRegressor:\", gb_grid_search.best_params_)\n",
    "print(\"Best cross-validated MAE for GradientBoostingRegressor:\", -gb_grid_search.best_score_)"
   ]
  },
  {
   "cell_type": "markdown",
   "metadata": {},
   "source": [
    " Evaluate the Best Models on the Test Set\n"
   ]
  },
  {
   "cell_type": "code",
   "execution_count": 46,
   "metadata": {},
   "outputs": [
    {
     "name": "stdout",
     "output_type": "stream",
     "text": [
      "--- Step 5: Evaluate the Best Models on the Test Set ---\n",
      "\n",
      "--- RandomForestRegressor Evaluation ---\n",
      "RandomForestRegressor MAE on Test Set: 3.7873\n",
      "RandomForestRegressor R2 on Test Set: 0.3737\n",
      "RandomForestRegressor RMSE on Test Set: 4.7672\n",
      "\n",
      "--- GradientBoostingRegressor Evaluation ---\n",
      "GradientBoostingRegressor MAE on Test Set: 3.6403\n",
      "GradientBoostingRegressor R2 on Test Set: 0.4217\n",
      "GradientBoostingRegressor RMSE on Test Set: 4.5808\n",
      "\n",
      "--- Model Comparison ---\n",
      "GradientBoostingRegressor performed better in terms of MAE.\n"
     ]
    }
   ],
   "source": [
    "from sklearn.metrics import mean_absolute_error, r2_score, mean_squared_error\n",
    "import joblib # For model persistence\n",
    "\n",
    "print(\"--- Step 5: Evaluate the Best Models on the Test Set ---\")\n",
    "\n",
    "# Retrieve the best models from GridSearchCV\n",
    "best_rf_model = rf_grid_search.best_estimator_\n",
    "best_gb_model = gb_grid_search.best_estimator_\n",
    "\n",
    "# Make predictions on the test set\n",
    "rf_predictions = best_rf_model.predict(X_test)\n",
    "gb_predictions = best_gb_model.predict(X_test)\n",
    "\n",
    "print(\"\\n--- RandomForestRegressor Evaluation ---\")\n",
    "rf_mae = mean_absolute_error(y_test, rf_predictions)\n",
    "rf_r2 = r2_score(y_test, rf_predictions)\n",
    "rf_rmse = np.sqrt(mean_squared_error(y_test, rf_predictions))\n",
    "\n",
    "print(f\"RandomForestRegressor MAE on Test Set: {rf_mae:.4f}\")\n",
    "print(f\"RandomForestRegressor R2 on Test Set: {rf_r2:.4f}\")\n",
    "print(f\"RandomForestRegressor RMSE on Test Set: {rf_rmse:.4f}\")\n",
    "\n",
    "print(\"\\n--- GradientBoostingRegressor Evaluation ---\")\n",
    "gb_mae = mean_absolute_error(y_test, gb_predictions)\n",
    "gb_r2 = r2_score(y_test, gb_predictions)\n",
    "gb_rmse = np.sqrt(mean_squared_error(y_test, gb_predictions))\n",
    "\n",
    "print(f\"GradientBoostingRegressor MAE on Test Set: {gb_mae:.4f}\")\n",
    "print(f\"GradientBoostingRegressor R2 on Test Set: {gb_r2:.4f}\")\n",
    "print(f\"GradientBoostingRegressor RMSE on Test Set: {gb_rmse:.4f}\")\n",
    "\n",
    "# You can also compare them:\n",
    "print(\"\\n--- Model Comparison ---\")\n",
    "if rf_mae < gb_mae:\n",
    "    print(\"RandomForestRegressor performed better in terms of MAE.\")\n",
    "elif gb_mae < rf_mae:\n",
    "    print(\"GradientBoostingRegressor performed better in terms of MAE.\")\n",
    "else:\n",
    "    print(\"Both models have similar MAE.\")\n",
    "\n",
    "# Optional: Store evaluation metrics for later analysis if needed\n",
    "evaluation_results = {\n",
    "    'RandomForestRegressor': {'MAE': rf_mae, 'R2': rf_r2, 'RMSE': rf_rmse},\n",
    "    'GradientBoostingRegressor': {'MAE': gb_mae, 'R2': gb_r2, 'RMSE': gb_rmse}\n",
    "}"
   ]
  },
  {
   "cell_type": "markdown",
   "metadata": {},
   "source": [
    "Select the Final Model and Model Persistence"
   ]
  },
  {
   "cell_type": "code",
   "execution_count": 47,
   "metadata": {},
   "outputs": [
    {
     "name": "stdout",
     "output_type": "stream",
     "text": [
      "--- Model Selection ---\n",
      "\n",
      "Selected final model: GradientBoosting\n",
      "Best parameters for selected model:\n",
      "{'alpha': 0.9, 'ccp_alpha': 0.0, 'criterion': 'friedman_mse', 'init': None, 'learning_rate': 0.05, 'loss': 'squared_error', 'max_depth': 3, 'max_features': None, 'max_leaf_nodes': None, 'min_impurity_decrease': 0.0, 'min_samples_leaf': 1, 'min_samples_split': 2, 'min_weight_fraction_leaf': 0.0, 'n_estimators': 100, 'n_iter_no_change': None, 'random_state': 42, 'subsample': 1.0, 'tol': 0.0001, 'validation_fraction': 0.1, 'verbose': 0, 'warm_start': False}\n",
      "\n",
      "Model saved successfully to: ..\\models\\GradientBoosting_F1_Race_Predictor_model.joblib\n",
      "\n",
      "--- Verifying Model Loading (Optional) ---\n",
      "Model loaded successfully: GradientBoostingRegressor(learning_rate=0.05, random_state=42)\n"
     ]
    }
   ],
   "source": [
    "import joblib\n",
    "import os\n",
    "from sklearn.ensemble import GradientBoostingRegressor\n",
    "\n",
    "print(\"--- Model Selection ---\")\n",
    "\n",
    "# Based on evaluation results, GradientBoostingRegressor is the chosen model.\n",
    "# Assuming gb_grid_search is defined and available from previous cells in the notebook\n",
    "best_model_to_save = gb_grid_search.best_estimator_ # Access the best estimator from GridSearchCV\n",
    "model_name = \"GradientBoosting\"\n",
    "\n",
    "print(f\"\\nSelected final model: {model_name}\")\n",
    "print(\"Best parameters for selected model:\")\n",
    "print(best_model_to_save.get_params())\n",
    "\n",
    "\n",
    "# Model Persistence (Saving the Model)\n",
    "# Define the relative path to the 'models' directory\n",
    "# This assumes the notebook is run from within the 'notebooks' directory\n",
    "# and 'models' is a sibling directory to 'notebooks'\n",
    "model_dir = os.path.join('..', 'models')\n",
    "\n",
    "# Create the directory if it doesn't exist\n",
    "os.makedirs(model_dir, exist_ok=True)\n",
    "\n",
    "# Construct the full path for the model file\n",
    "model_filename = os.path.join(model_dir, f'{model_name}_F1_Race_Predictor_model.joblib')\n",
    "\n",
    "joblib.dump(best_model_to_save, model_filename, compress=3)\n",
    "\n",
    "print(f\"\\nModel saved successfully to: {model_filename}\")\n",
    "\n",
    "# Loading the Model to Verify\n",
    "print(\"\\n--- Verifying Model Loading (Optional) ---\")\n",
    "loaded_model = joblib.load(model_filename)\n",
    "print(f\"Model loaded successfully: {loaded_model}\")"
   ]
  }
 ],
 "metadata": {
  "kernelspec": {
   "display_name": "Python 3",
   "language": "python",
   "name": "python3"
  },
  "language_info": {
   "codemirror_mode": {
    "name": "ipython",
    "version": 3
   },
   "file_extension": ".py",
   "mimetype": "text/x-python",
   "name": "python",
   "nbconvert_exporter": "python",
   "pygments_lexer": "ipython3",
   "version": "3.13.0"
  }
 },
 "nbformat": 4,
 "nbformat_minor": 2
}
