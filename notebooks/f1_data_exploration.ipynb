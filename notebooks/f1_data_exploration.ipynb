{
 "cells": [
  {
   "cell_type": "markdown",
   "metadata": {},
   "source": [
    "### Loading of data\n",
    "\n",
    "We acquire our data from f1fast\n",
    "\n",
    "\n"
   ]
  },
  {
   "cell_type": "code",
   "execution_count": 3,
   "metadata": {},
   "outputs": [
    {
     "name": "stdout",
     "output_type": "stream",
     "text": [
      "FastF1 caching enabled to './data_cache'\n"
     ]
    }
   ],
   "source": [
    "import fastf1\n",
    "import pandas as pd\n",
    "import matplotlib.pyplot as plt\n",
    "import seaborn as sns\n",
    "\n",
    "\n",
    "cache_dir = './data_cache' # This correctly points to your folder inside 'notebooks'\n",
    "\n",
    "# Directly enable the cache, assuming the directory exists\n",
    "fastf1.Cache.enable_cache(cache_dir)\n",
    "print(f\"FastF1 caching enabled to '{cache_dir}'\")\n",
    "\n",
    "# Optional: Disable warnings if you know what you're doing\n",
    "# fastf1.set_log_level('ERROR')"
   ]
  },
  {
   "cell_type": "markdown",
   "metadata": {},
   "source": [
    "### Loading Monaco 2023 data as a sample\n",
    "This should write the race data into 'notebooks/data_cache'.\n"
   ]
  },
  {
   "cell_type": "code",
   "execution_count": 4,
   "metadata": {},
   "outputs": [
    {
     "name": "stdout",
     "output_type": "stream",
     "text": [
      "Loading 2023 Monaco Grand Prix Race session...\n"
     ]
    },
    {
     "name": "stderr",
     "output_type": "stream",
     "text": [
      "core           INFO \tLoading data for Monaco Grand Prix - Race [v3.6.0]\n",
      "req            INFO \tUsing cached data for session_info\n",
      "req            INFO \tUsing cached data for driver_info\n",
      "req            INFO \tNo cached data found for session_status_data. Loading data...\n",
      "_api           INFO \tFetching session status data...\n",
      "req            INFO \tData has been written to cache!\n",
      "req            INFO \tNo cached data found for lap_count. Loading data...\n",
      "_api           INFO \tFetching lap count data...\n",
      "req            INFO \tData has been written to cache!\n",
      "req            INFO \tNo cached data found for track_status_data. Loading data...\n",
      "_api           INFO \tFetching track status data...\n",
      "req            INFO \tData has been written to cache!\n",
      "req            INFO \tNo cached data found for _extended_timing_data. Loading data...\n",
      "_api           INFO \tFetching timing data...\n",
      "_api           INFO \tParsing timing data...\n",
      "req            INFO \tData has been written to cache!\n",
      "req            INFO \tNo cached data found for timing_app_data. Loading data...\n",
      "_api           INFO \tFetching timing app data...\n",
      "req            INFO \tData has been written to cache!\n",
      "core           INFO \tProcessing timing data...\n",
      "req            INFO \tNo cached data found for car_data. Loading data...\n",
      "_api           INFO \tFetching car data...\n",
      "_api           INFO \tParsing car data...\n",
      "req            INFO \tData has been written to cache!\n",
      "req            INFO \tNo cached data found for position_data. Loading data...\n",
      "_api           INFO \tFetching position data...\n",
      "_api           INFO \tParsing position data...\n",
      "req            INFO \tData has been written to cache!\n",
      "req            INFO \tNo cached data found for weather_data. Loading data...\n",
      "_api           INFO \tFetching weather data...\n",
      "req            INFO \tData has been written to cache!\n",
      "req            INFO \tUsing cached data for race_control_messages\n",
      "core           INFO \tFinished loading data for 20 drivers: ['1', '14', '31', '44', '63', '16', '10', '55', '4', '81', '77', '21', '24', '23', '22', '11', '27', '2', '20', '18']\n"
     ]
    },
    {
     "name": "stdout",
     "output_type": "stream",
     "text": [
      "Error loading session: 'Session' object has no attribute 'session_name'\n",
      "Please check your internet connection or if the specified session exists.\n"
     ]
    }
   ],
   "source": [
    "# --- Pick a Data Source: FastF1 ---\n",
    "# Example: 2023 Monaco Grand Prix Race\n",
    "# You can change the year, event name (or round number), and session type.\n",
    "# Session Types: 'R' (Race), 'Q' (Qualifying), 'FP1', 'FP2', 'FP3' (Free Practice)\n",
    "\n",
    "try:\n",
    "    print(\"Loading 2023 Monaco Grand Prix Race session...\")\n",
    "    session = fastf1.get_session(2023, 'Monaco', 'R') \n",
    "    \n",
    "    # Load all available data for this session.\n",
    "    # telemetry=True: loads car data (speed, gear, throttle, etc.) and position data.\n",
    "    # laps=True: loads lap-by-lap data (lap times, sector times, tire data, pit stops).\n",
    "    # weather=True: loads weather data.\n",
    "    session.load(telemetry=True, laps=True, weather=True)\n",
    "    \n",
    "    print(f\"\\nSuccessfully loaded: {session.event['EventName']} {session.session_name} {session.date.year}\")\n",
    "    print(f\"Number of laps loaded: {len(session.laps)}\")\n",
    "    print(f\"Number of results loaded: {len(session.results)}\")\n",
    "\n",
    "except Exception as e:\n",
    "    print(f\"Error loading session: {e}\")\n",
    "    print(\"Please check your internet connection or if the specified session exists.\")"
   ]
  },
  {
   "cell_type": "markdown",
   "metadata": {},
   "source": [
    "### Exploring the loaded data\n",
    "Now that we have written the data into 'notebooks/data_cache', we can explore the data!\n",
    "\n",
    "FastF1 API organizes the data into Pandas Dataframes.\n",
    "\n",
    "In the below code cell, we get the fastest laps for Max Verstappen as he is the coolest, and we acquire his car and position data."
   ]
  },
  {
   "cell_type": "code",
   "execution_count": 5,
   "metadata": {},
   "outputs": [
    {
     "name": "stdout",
     "output_type": "stream",
     "text": [
      "\n",
      "--- Exploring Available Columns ---\n",
      "\n",
      "Columns in session.laps DataFrame:\n",
      "['Time', 'Driver', 'DriverNumber', 'LapTime', 'LapNumber', 'Stint', 'PitOutTime', 'PitInTime', 'Sector1Time', 'Sector2Time', 'Sector3Time', 'Sector1SessionTime', 'Sector2SessionTime', 'Sector3SessionTime', 'SpeedI1', 'SpeedI2', 'SpeedFL', 'SpeedST', 'IsPersonalBest', 'Compound', 'TyreLife', 'FreshTyre', 'Team', 'LapStartTime', 'LapStartDate', 'TrackStatus', 'Position', 'Deleted', 'DeletedReason', 'FastF1Generated', 'IsAccurate']\n",
      "\n",
      "Columns in session.results DataFrame:\n",
      "['DriverNumber', 'BroadcastName', 'Abbreviation', 'DriverId', 'TeamName', 'TeamColor', 'TeamId', 'FirstName', 'LastName', 'FullName', 'HeadshotUrl', 'CountryCode', 'Position', 'ClassifiedPosition', 'GridPosition', 'Q1', 'Q2', 'Q3', 'Time', 'Status', 'Points', 'Laps']\n",
      "\n",
      "Max Verstappen's fastest lap time: 0 days 00:01:16.604000\n",
      "\n",
      "Columns in car telemetry data (for a single lap):\n",
      "['Date', 'RPM', 'Speed', 'nGear', 'Throttle', 'Brake', 'DRS', 'Source', 'Time', 'SessionTime']\n",
      "First 5 rows of car data:\n",
      "                     Date      RPM  Speed  nGear  Throttle  Brake  DRS Source  \\\n",
      "0 2023-05-28 13:31:33.150  10916.0  264.0      6     100.0  False    0    car   \n",
      "1 2023-05-28 13:31:33.550  10663.0  269.0      7      95.0  False    0    car   \n",
      "2 2023-05-28 13:31:33.830  10511.0  265.0      7       0.0  False    0    car   \n",
      "3 2023-05-28 13:31:34.470   9512.0  246.0      7       0.0   True    0    car   \n",
      "4 2023-05-28 13:31:34.790   8895.0  222.0      7       0.0   True    0    car   \n",
      "\n",
      "                    Time            SessionTime  \n",
      "0 0 days 00:00:00.040000 0 days 01:30:32.173000  \n",
      "1 0 days 00:00:00.440000 0 days 01:30:32.573000  \n",
      "2 0 days 00:00:00.720000 0 days 01:30:32.853000  \n",
      "3 0 days 00:00:01.360000 0 days 01:30:33.493000  \n",
      "4 0 days 00:00:01.680000 0 days 01:30:33.813000  \n",
      "\n",
      "Columns in position telemetry data (for a single lap):\n",
      "['Date', 'Status', 'X', 'Y', 'Z', 'Source', 'Time', 'SessionTime']\n",
      "First 5 rows of position data:\n",
      "                     Date   Status       X       Y      Z Source  \\\n",
      "0 2023-05-28 13:31:33.174  OnTrack -7663.0 -6592.0  502.0    pos   \n",
      "1 2023-05-28 13:31:33.374  OnTrack -7672.0 -6445.0  503.0    pos   \n",
      "2 2023-05-28 13:31:33.734  OnTrack -7679.0 -6177.0  503.0    pos   \n",
      "3 2023-05-28 13:31:33.934  OnTrack -7671.0 -6029.0  503.0    pos   \n",
      "4 2023-05-28 13:31:34.434  OnTrack -7640.0 -5676.0  503.0    pos   \n",
      "\n",
      "                    Time            SessionTime  \n",
      "0 0 days 00:00:00.064000 0 days 01:30:32.197000  \n",
      "1 0 days 00:00:00.264000 0 days 01:30:32.397000  \n",
      "2 0 days 00:00:00.624000 0 days 01:30:32.757000  \n",
      "3 0 days 00:00:00.824000 0 days 01:30:32.957000  \n",
      "4 0 days 00:00:01.324000 0 days 01:30:33.457000  \n"
     ]
    },
    {
     "name": "stderr",
     "output_type": "stream",
     "text": [
      "c:\\Users\\CLL\\AppData\\Local\\Programs\\Python\\Python313\\Lib\\site-packages\\fastf1\\core.py:3183: FutureWarning: pick_driver is deprecated and will be removed in a future release. Use pick_drivers instead.\n",
      "  warnings.warn((\"pick_driver is deprecated and will be removed\"\n"
     ]
    }
   ],
   "source": [
    "print(\"\\n--- Exploring Available Columns ---\")\n",
    "\n",
    "# Columns in the 'laps' DataFrame\n",
    "print(\"\\nColumns in session.laps DataFrame:\")\n",
    "print(session.laps.columns.tolist())\n",
    "\n",
    "# Columns in the 'results' DataFrame (classified results for the session)\n",
    "print(\"\\nColumns in session.results DataFrame:\")\n",
    "print(session.results.columns.tolist())\n",
    "\n",
    "# To see columns for car telemetry or position data, you need to get a specific lap first.\n",
    "# Let's pick a lap, for example, the fastest lap of a driver.\n",
    "try:\n",
    "    # Pick a driver (e.g., 'VER' for Max Verstappen)\n",
    "    ver_laps = session.laps.pick_driver('VER')\n",
    "    if not ver_laps.empty:\n",
    "        fastest_ver_lap = ver_laps.pick_fastest()\n",
    "        print(f\"\\nMax Verstappen's fastest lap time: {fastest_ver_lap['LapTime']}\")\n",
    "\n",
    "        # Columns for car data (speed, RPM, gear, throttle, brake, DRS)\n",
    "        car_data = fastest_ver_lap.get_car_data()\n",
    "        print(\"\\nColumns in car telemetry data (for a single lap):\")\n",
    "        print(car_data.columns.tolist())\n",
    "        print(\"First 5 rows of car data:\")\n",
    "        print(car_data.head())\n",
    "\n",
    "        # Columns for position data (X, Y, Z coordinates)\n",
    "        pos_data = fastest_ver_lap.get_pos_data()\n",
    "        print(\"\\nColumns in position telemetry data (for a single lap):\")\n",
    "        print(pos_data.columns.tolist())\n",
    "        print(\"First 5 rows of position data:\")\n",
    "        print(pos_data.head())\n",
    "    else:\n",
    "        print(\"\\nCould not find laps for Max Verstappen in this session.\")\n",
    "\n",
    "except Exception as e:\n",
    "    print(f\"\\nError retrieving lap data: {e}\")"
   ]
  }
 ],
 "metadata": {
  "kernelspec": {
   "display_name": "Python 3",
   "language": "python",
   "name": "python3"
  },
  "language_info": {
   "codemirror_mode": {
    "name": "ipython",
    "version": 3
   },
   "file_extension": ".py",
   "mimetype": "text/x-python",
   "name": "python",
   "nbconvert_exporter": "python",
   "pygments_lexer": "ipython3",
   "version": "3.13.0"
  }
 },
 "nbformat": 4,
 "nbformat_minor": 2
}
